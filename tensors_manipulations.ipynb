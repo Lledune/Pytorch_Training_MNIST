{
 "cells": [
  {
   "cell_type": "code",
   "execution_count": 1,
   "metadata": {},
   "outputs": [
    {
     "data": {
      "text/plain": [
       "Path('.')"
      ]
     },
     "execution_count": 1,
     "metadata": {},
     "output_type": "execute_result"
    }
   ],
   "source": [
    "from fastai import *\n",
    "from fastbook import *\n",
    "\n",
    "#Getting the dataset\n",
    "path = untar_data(URLs.MNIST_SAMPLE)\n",
    "Path.BASE_PATH = path\n",
    "path"
   ]
  },
  {
   "cell_type": "code",
   "execution_count": 2,
   "metadata": {},
   "outputs": [
    {
     "data": {
      "text/plain": [
       "(#3) [Path('train'),Path('valid'),Path('labels.csv')]"
      ]
     },
     "execution_count": 2,
     "metadata": {},
     "output_type": "execute_result"
    }
   ],
   "source": [
    "path.ls()"
   ]
  },
  {
   "cell_type": "code",
   "execution_count": 3,
   "metadata": {},
   "outputs": [
    {
     "data": {
      "text/plain": [
       "(#2) [Path('train/7'),Path('train/3')]"
      ]
     },
     "execution_count": 3,
     "metadata": {},
     "output_type": "execute_result"
    }
   ],
   "source": [
    "(path/'train').ls()"
   ]
  },
  {
   "cell_type": "code",
   "execution_count": 4,
   "metadata": {},
   "outputs": [
    {
     "data": {
      "text/plain": [
       "(#6131) [Path('train/3/10.png'),Path('train/3/10000.png'),Path('train/3/10011.png'),Path('train/3/10031.png'),Path('train/3/10034.png'),Path('train/3/10042.png'),Path('train/3/10052.png'),Path('train/3/1007.png'),Path('train/3/10074.png'),Path('train/3/10091.png')...]"
      ]
     },
     "execution_count": 4,
     "metadata": {},
     "output_type": "execute_result"
    }
   ],
   "source": [
    "threes = (path/'train'/'3').ls().sorted()\n",
    "sevens = (path/'train'/'7').ls().sorted()\n",
    "threes"
   ]
  },
  {
   "cell_type": "code",
   "execution_count": 5,
   "metadata": {},
   "outputs": [
    {
     "data": {
      "image/png": "[encoded data removed]",
      "text/plain": [
       "<PIL.PngImagePlugin.PngImageFile image mode=L size=28x28 at 0x7F823C541850>"
      ]
     },
     "execution_count": 5,
     "metadata": {},
     "output_type": "execute_result"
    }
   ],
   "source": [
    "#printing an image \n",
    "im3_path = threes[1]\n",
    "im3 = Image.open(im3_path)\n",
    "im3"
   ]
  },
  {
   "cell_type": "code",
   "execution_count": 6,
   "metadata": {},
   "outputs": [
    {
     "data": {
      "text/html": [
       "<style  type=\"text/css\" >\n",
       "#T_6a26dbfa_84d1_11eb_b99f_0991e3985f1drow0_col0,#T_6a26dbfa_84d1_11eb_b99f_0991e3985f1drow0_col1,#T_6a26dbfa_84d1_11eb_b99f_0991e3985f1drow0_col2,#T_6a26dbfa_84d1_11eb_b99f_0991e3985f1drow0_col3,#T_6a26dbfa_84d1_11eb_b99f_0991e3985f1drow0_col4,#T_6a26dbfa_84d1_11eb_b99f_0991e3985f1drow0_col5,#T_6a26dbfa_84d1_11eb_b99f_0991e3985f1drow0_col6,#T_6a26dbfa_84d1_11eb_b99f_0991e3985f1drow0_col7,#T_6a26dbfa_84d1_11eb_b99f_0991e3985f1drow0_col8,#T_6a26dbfa_84d1_11eb_b99f_0991e3985f1drow0_col9,#T_6a26dbfa_84d1_11eb_b99f_0991e3985f1drow0_col10,#T_6a26dbfa_84d1_11eb_b99f_0991e3985f1drow0_col11,#T_6a26dbfa_84d1_11eb_b99f_0991e3985f1drow0_col12,#T_6a26dbfa_84d1_11eb_b99f_0991e3985f1drow0_col13,#T_6a26dbfa_84d1_11eb_b99f_0991e3985f1drow0_col14,#T_6a26dbfa_84d1_11eb_b99f_0991e3985f1drow0_col15,#T_6a26dbfa_84d1_11eb_b99f_0991e3985f1drow0_col16,#T_6a26dbfa_84d1_11eb_b99f_0991e3985f1drow0_col17,#T_6a26dbfa_84d1_11eb_b99f_0991e3985f1drow0_col18,#T_6a26dbfa_84d1_11eb_b99f_0991e3985f1drow0_col19,#T_6a26dbfa_84d1_11eb_b99f_0991e3985f1drow0_col20,#T_6a26dbfa_84d1_11eb_b99f_0991e3985f1drow0_col21,#T_6a26dbfa_84d1_11eb_b99f_0991e3985f1drow0_col22,#T_6a26dbfa_84d1_11eb_b99f_0991e3985f1drow0_col23,#T_6a26dbfa_84d1_11eb_b99f_0991e3985f1drow0_col24,#T_6a26dbfa_84d1_11eb_b99f_0991e3985f1drow0_col25,#T_6a26dbfa_84d1_11eb_b99f_0991e3985f1drow0_col26,#T_6a26dbfa_84d1_11eb_b99f_0991e3985f1drow1_col0,#T_6a26dbfa_84d1_11eb_b99f_0991e3985f1drow1_col1,#T_6a26dbfa_84d1_11eb_b99f_0991e3985f1drow1_col2,#T_6a26dbfa_84d1_11eb_b99f_0991e3985f1drow1_col3,#T_6a26dbfa_84d1_11eb_b99f_0991e3985f1drow1_col4,#T_6a26dbfa_84d1_11eb_b99f_0991e3985f1drow1_col5,#T_6a26dbfa_84d1_11eb_b99f_0991e3985f1drow1_col6,#T_6a26dbfa_84d1_11eb_b99f_0991e3985f1drow1_col7,#T_6a26dbfa_84d1_11eb_b99f_0991e3985f1drow1_col8,#T_6a26dbfa_84d1_11eb_b99f_0991e3985f1drow1_col9,#T_6a26dbfa_84d1_11eb_b99f_0991e3985f1drow1_col10,#T_6a26dbfa_84d1_11eb_b99f_0991e3985f1drow1_col11,#T_6a26dbfa_84d1_11eb_b99f_0991e3985f1drow1_col12,#T_6a26dbfa_84d1_11eb_b99f_0991e3985f1drow1_col13,#T_6a26dbfa_84d1_11eb_b99f_0991e3985f1drow1_col14,#T_6a26dbfa_84d1_11eb_b99f_0991e3985f1drow1_col15,#T_6a26dbfa_84d1_11eb_b99f_0991e3985f1drow1_col16,#T_6a26dbfa_84d1_11eb_b99f_0991e3985f1drow1_col17,#T_6a26dbfa_84d1_11eb_b99f_0991e3985f1drow1_col18,#T_6a26dbfa_84d1_11eb_b99f_0991e3985f1drow1_col19,#T_6a26dbfa_84d1_11eb_b99f_0991e3985f1drow1_col20,#T_6a26dbfa_84d1_11eb_b99f_0991e3985f1drow1_col21,#T_6a26dbfa_84d1_11eb_b99f_0991e3985f1drow1_col22,#T_6a26dbfa_84d1_11eb_b99f_0991e3985f1drow1_col23,#T_6a26dbfa_84d1_11eb_b99f_0991e3985f1drow1_col24,#T_6a26dbfa_84d1_11eb_b99f_0991e3985f1drow1_col25,#T_6a26dbfa_84d1_11eb_b99f_0991e3985f1drow1_col26,#T_6a26dbfa_84d1_11eb_b99f_0991e3985f1drow2_col0,#T_6a26dbfa_84d1_11eb_b99f_0991e3985f1drow2_col1,#T_6a26dbfa_84d1_11eb_b99f_0991e3985f1drow2_col2,#T_6a26dbfa_84d1_11eb_b99f_0991e3985f1drow2_col3,#T_6a26dbfa_84d1_11eb_b99f_0991e3985f1drow2_col4,#T_6a26dbfa_84d1_11eb_b99f_0991e3985f1drow2_col5,#T_6a26dbfa_84d1_11eb_b99f_0991e3985f1drow2_col6,#T_6a26dbfa_84d1_11eb_b99f_0991e3985f1drow2_col7,#T_6a26dbfa_84d1_11eb_b99f_0991e3985f1drow2_col8,#T_6a26dbfa_84d1_11eb_b99f_0991e3985f1drow2_col9,#T_6a26dbfa_84d1_11eb_b99f_0991e3985f1drow2_col10,#T_6a26dbfa_84d1_11eb_b99f_0991e3985f1drow2_col11,#T_6a26dbfa_84d1_11eb_b99f_0991e3985f1drow2_col12,#T_6a26dbfa_84d1_11eb_b99f_0991e3985f1drow2_col13,#T_6a26dbfa_84d1_11eb_b99f_0991e3985f1drow2_col14,#T_6a26dbfa_84d1_11eb_b99f_0991e3985f1drow2_col15,#T_6a26dbfa_84d1_11eb_b99f_0991e3985f1drow2_col16,#T_6a26dbfa_84d1_11eb_b99f_0991e3985f1drow2_col17,#T_6a26dbfa_84d1_11eb_b99f_0991e3985f1drow2_col18,#T_6a26dbfa_84d1_11eb_b99f_0991e3985f1drow2_col19,#T_6a26dbfa_84d1_11eb_b99f_0991e3985f1drow2_col20,#T_6a26dbfa_84d1_11eb_b99f_0991e3985f1drow2_col21,#T_6a26dbfa_84d1_11eb_b99f_0991e3985f1drow2_col22,#T_6a26dbfa_84d1_11eb_b99f_0991e3985f1drow2_col23,#T_6a26dbfa_84d1_11eb_b99f_0991e3985f1drow2_col24,#T_6a26dbfa_84d1_11eb_b99f_0991e3985f1drow2_col25,#T_6a26dbfa_84d1_11eb_b99f_0991e3985f1drow2_col26,#T_6a26dbfa_84d1_11eb_b99f_0991e3985f1drow3_col0,#T_6a26dbfa_84d1_11eb_b99f_0991e3985f1drow3_col1,#T_6a26dbfa_84d1_11eb_b99f_0991e3985f1drow3_col2,#T_6a26dbfa_84d1_11eb_b99f_0991e3985f1drow3_col3,#T_6a26dbfa_84d1_11eb_b99f_0991e3985f1drow3_col4,#T_6a26dbfa_84d1_11eb_b99f_0991e3985f1drow3_col5,#T_6a26dbfa_84d1_11eb_b99f_0991e3985f1drow3_col6,#T_6a26dbfa_84d1_11eb_b99f_0991e3985f1drow3_col7,#T_6a26dbfa_84d1_11eb_b99f_0991e3985f1drow3_col8,#T_6a26dbfa_84d1_11eb_b99f_0991e3985f1drow3_col9,#T_6a26dbfa_84d1_11eb_b99f_0991e3985f1drow3_col10,#T_6a26dbfa_84d1_11eb_b99f_0991e3985f1drow3_col11,#T_6a26dbfa_84d1_11eb_b99f_0991e3985f1drow3_col12,#T_6a26dbfa_84d1_11eb_b99f_0991e3985f1drow3_col13,#T_6a26dbfa_84d1_11eb_b99f_0991e3985f1drow3_col14,#T_6a26dbfa_84d1_11eb_b99f_0991e3985f1drow3_col15,#T_6a26dbfa_84d1_11eb_b99f_0991e3985f1drow3_col16,#T_6a26dbfa_84d1_11eb_b99f_0991e3985f1drow3_col17,#T_6a26dbfa_84d1_11eb_b99f_0991e3985f1drow3_col18,#T_6a26dbfa_84d1_11eb_b99f_0991e3985f1drow3_col19,#T_6a26dbfa_84d1_11eb_b99f_0991e3985f1drow3_col20,#T_6a26dbfa_84d1_11eb_b99f_0991e3985f1drow3_col21,#T_6a26dbfa_84d1_11eb_b99f_0991e3985f1drow3_col22,#T_6a26dbfa_84d1_11eb_b99f_0991e3985f1drow3_col23,#T_6a26dbfa_84d1_11eb_b99f_0991e3985f1drow3_col24,#T_6a26dbfa_84d1_11eb_b99f_0991e3985f1drow3_col25,#T_6a26dbfa_84d1_11eb_b99f_0991e3985f1drow3_col26,#T_6a26dbfa_84d1_11eb_b99f_0991e3985f1drow4_col0,#T_6a26dbfa_84d1_11eb_b99f_0991e3985f1drow4_col1,#T_6a26dbfa_84d1_11eb_b99f_0991e3985f1drow4_col2,#T_6a26dbfa_84d1_11eb_b99f_0991e3985f1drow4_col3,#T_6a26dbfa_84d1_11eb_b99f_0991e3985f1drow4_col4,#T_6a26dbfa_84d1_11eb_b99f_0991e3985f1drow4_col5,#T_6a26dbfa_84d1_11eb_b99f_0991e3985f1drow4_col6,#T_6a26dbfa_84d1_11eb_b99f_0991e3985f1drow4_col7,#T_6a26dbfa_84d1_11eb_b99f_0991e3985f1drow4_col8,#T_6a26dbfa_84d1_11eb_b99f_0991e3985f1drow4_col9,#T_6a26dbfa_84d1_11eb_b99f_0991e3985f1drow4_col10,#T_6a26dbfa_84d1_11eb_b99f_0991e3985f1drow4_col11,#T_6a26dbfa_84d1_11eb_b99f_0991e3985f1drow4_col12,#T_6a26dbfa_84d1_11eb_b99f_0991e3985f1drow4_col13,#T_6a26dbfa_84d1_11eb_b99f_0991e3985f1drow4_col14,#T_6a26dbfa_84d1_11eb_b99f_0991e3985f1drow4_col15,#T_6a26dbfa_84d1_11eb_b99f_0991e3985f1drow4_col16,#T_6a26dbfa_84d1_11eb_b99f_0991e3985f1drow4_col17,#T_6a26dbfa_84d1_11eb_b99f_0991e3985f1drow4_col18,#T_6a26dbfa_84d1_11eb_b99f_0991e3985f1drow4_col19,#T_6a26dbfa_84d1_11eb_b99f_0991e3985f1drow4_col20,#T_6a26dbfa_84d1_11eb_b99f_0991e3985f1drow4_col21,#T_6a26dbfa_84d1_11eb_b99f_0991e3985f1drow4_col22,#T_6a26dbfa_84d1_11eb_b99f_0991e3985f1drow4_col23,#T_6a26dbfa_84d1_11eb_b99f_0991e3985f1drow4_col24,#T_6a26dbfa_84d1_11eb_b99f_0991e3985f1drow4_col25,#T_6a26dbfa_84d1_11eb_b99f_0991e3985f1drow4_col26,#T_6a26dbfa_84d1_11eb_b99f_0991e3985f1drow5_col0,#T_6a26dbfa_84d1_11eb_b99f_0991e3985f1drow5_col1,#T_6a26dbfa_84d1_11eb_b99f_0991e3985f1drow5_col2,#T_6a26dbfa_84d1_11eb_b99f_0991e3985f1drow5_col3,#T_6a26dbfa_84d1_11eb_b99f_0991e3985f1drow5_col4,#T_6a26dbfa_84d1_11eb_b99f_0991e3985f1drow5_col5,#T_6a26dbfa_84d1_11eb_b99f_0991e3985f1drow5_col6,#T_6a26dbfa_84d1_11eb_b99f_0991e3985f1drow5_col7,#T_6a26dbfa_84d1_11eb_b99f_0991e3985f1drow5_col8,#T_6a26dbfa_84d1_11eb_b99f_0991e3985f1drow5_col19,#T_6a26dbfa_84d1_11eb_b99f_0991e3985f1drow5_col20,#T_6a26dbfa_84d1_11eb_b99f_0991e3985f1drow5_col21,#T_6a26dbfa_84d1_11eb_b99f_0991e3985f1drow5_col22,#T_6a26dbfa_84d1_11eb_b99f_0991e3985f1drow5_col23,#T_6a26dbfa_84d1_11eb_b99f_0991e3985f1drow5_col24,#T_6a26dbfa_84d1_11eb_b99f_0991e3985f1drow5_col25,#T_6a26dbfa_84d1_11eb_b99f_0991e3985f1drow5_col26,#T_6a26dbfa_84d1_11eb_b99f_0991e3985f1drow6_col0,#T_6a26dbfa_84d1_11eb_b99f_0991e3985f1drow6_col1,#T_6a26dbfa_84d1_11eb_b99f_0991e3985f1drow6_col2,#T_6a26dbfa_84d1_11eb_b99f_0991e3985f1drow6_col3,#T_6a26dbfa_84d1_11eb_b99f_0991e3985f1drow6_col4,#T_6a26dbfa_84d1_11eb_b99f_0991e3985f1drow6_col5,#T_6a26dbfa_84d1_11eb_b99f_0991e3985f1drow6_col6,#T_6a26dbfa_84d1_11eb_b99f_0991e3985f1drow6_col19,#T_6a26dbfa_84d1_11eb_b99f_0991e3985f1drow6_col20,#T_6a26dbfa_84d1_11eb_b99f_0991e3985f1drow6_col21,#T_6a26dbfa_84d1_11eb_b99f_0991e3985f1drow6_col22,#T_6a26dbfa_84d1_11eb_b99f_0991e3985f1drow6_col23,#T_6a26dbfa_84d1_11eb_b99f_0991e3985f1drow6_col24,#T_6a26dbfa_84d1_11eb_b99f_0991e3985f1drow6_col25,#T_6a26dbfa_84d1_11eb_b99f_0991e3985f1drow6_col26,#T_6a26dbfa_84d1_11eb_b99f_0991e3985f1drow7_col0,#T_6a26dbfa_84d1_11eb_b99f_0991e3985f1drow7_col1,#T_6a26dbfa_84d1_11eb_b99f_0991e3985f1drow7_col2,#T_6a26dbfa_84d1_11eb_b99f_0991e3985f1drow7_col3,#T_6a26dbfa_84d1_11eb_b99f_0991e3985f1drow7_col4,#T_6a26dbfa_84d1_11eb_b99f_0991e3985f1drow7_col19,#T_6a26dbfa_84d1_11eb_b99f_0991e3985f1drow7_col20,#T_6a26dbfa_84d1_11eb_b99f_0991e3985f1drow7_col21,#T_6a26dbfa_84d1_11eb_b99f_0991e3985f1drow7_col22,#T_6a26dbfa_84d1_11eb_b99f_0991e3985f1drow7_col23,#T_6a26dbfa_84d1_11eb_b99f_0991e3985f1drow7_col24,#T_6a26dbfa_84d1_11eb_b99f_0991e3985f1drow7_col25,#T_6a26dbfa_84d1_11eb_b99f_0991e3985f1drow7_col26,#T_6a26dbfa_84d1_11eb_b99f_0991e3985f1drow8_col0,#T_6a26dbfa_84d1_11eb_b99f_0991e3985f1drow8_col1,#T_6a26dbfa_84d1_11eb_b99f_0991e3985f1drow8_col2,#T_6a26dbfa_84d1_11eb_b99f_0991e3985f1drow8_col3,#T_6a26dbfa_84d1_11eb_b99f_0991e3985f1drow8_col4,#T_6a26dbfa_84d1_11eb_b99f_0991e3985f1drow8_col10,#T_6a26dbfa_84d1_11eb_b99f_0991e3985f1drow8_col11,#T_6a26dbfa_84d1_11eb_b99f_0991e3985f1drow8_col12,#T_6a26dbfa_84d1_11eb_b99f_0991e3985f1drow8_col13,#T_6a26dbfa_84d1_11eb_b99f_0991e3985f1drow8_col14,#T_6a26dbfa_84d1_11eb_b99f_0991e3985f1drow8_col19,#T_6a26dbfa_84d1_11eb_b99f_0991e3985f1drow8_col20,#T_6a26dbfa_84d1_11eb_b99f_0991e3985f1drow8_col21,#T_6a26dbfa_84d1_11eb_b99f_0991e3985f1drow8_col22,#T_6a26dbfa_84d1_11eb_b99f_0991e3985f1drow8_col23,#T_6a26dbfa_84d1_11eb_b99f_0991e3985f1drow8_col24,#T_6a26dbfa_84d1_11eb_b99f_0991e3985f1drow8_col25,#T_6a26dbfa_84d1_11eb_b99f_0991e3985f1drow8_col26,#T_6a26dbfa_84d1_11eb_b99f_0991e3985f1drow9_col0,#T_6a26dbfa_84d1_11eb_b99f_0991e3985f1drow9_col1,#T_6a26dbfa_84d1_11eb_b99f_0991e3985f1drow9_col2,#T_6a26dbfa_84d1_11eb_b99f_0991e3985f1drow9_col3,#T_6a26dbfa_84d1_11eb_b99f_0991e3985f1drow9_col4,#T_6a26dbfa_84d1_11eb_b99f_0991e3985f1drow9_col9,#T_6a26dbfa_84d1_11eb_b99f_0991e3985f1drow9_col10,#T_6a26dbfa_84d1_11eb_b99f_0991e3985f1drow9_col11,#T_6a26dbfa_84d1_11eb_b99f_0991e3985f1drow9_col12,#T_6a26dbfa_84d1_11eb_b99f_0991e3985f1drow9_col13,#T_6a26dbfa_84d1_11eb_b99f_0991e3985f1drow9_col19,#T_6a26dbfa_84d1_11eb_b99f_0991e3985f1drow9_col20,#T_6a26dbfa_84d1_11eb_b99f_0991e3985f1drow9_col21,#T_6a26dbfa_84d1_11eb_b99f_0991e3985f1drow9_col22,#T_6a26dbfa_84d1_11eb_b99f_0991e3985f1drow9_col23,#T_6a26dbfa_84d1_11eb_b99f_0991e3985f1drow9_col24,#T_6a26dbfa_84d1_11eb_b99f_0991e3985f1drow9_col25,#T_6a26dbfa_84d1_11eb_b99f_0991e3985f1drow9_col26,#T_6a26dbfa_84d1_11eb_b99f_0991e3985f1drow10_col0,#T_6a26dbfa_84d1_11eb_b99f_0991e3985f1drow10_col1,#T_6a26dbfa_84d1_11eb_b99f_0991e3985f1drow10_col2,#T_6a26dbfa_84d1_11eb_b99f_0991e3985f1drow10_col3,#T_6a26dbfa_84d1_11eb_b99f_0991e3985f1drow10_col4,#T_6a26dbfa_84d1_11eb_b99f_0991e3985f1drow10_col5,#T_6a26dbfa_84d1_11eb_b99f_0991e3985f1drow10_col6,#T_6a26dbfa_84d1_11eb_b99f_0991e3985f1drow10_col7,#T_6a26dbfa_84d1_11eb_b99f_0991e3985f1drow10_col8,#T_6a26dbfa_84d1_11eb_b99f_0991e3985f1drow10_col9,#T_6a26dbfa_84d1_11eb_b99f_0991e3985f1drow10_col10,#T_6a26dbfa_84d1_11eb_b99f_0991e3985f1drow10_col11,#T_6a26dbfa_84d1_11eb_b99f_0991e3985f1drow10_col12,#T_6a26dbfa_84d1_11eb_b99f_0991e3985f1drow10_col13,#T_6a26dbfa_84d1_11eb_b99f_0991e3985f1drow10_col18,#T_6a26dbfa_84d1_11eb_b99f_0991e3985f1drow10_col19,#T_6a26dbfa_84d1_11eb_b99f_0991e3985f1drow10_col20,#T_6a26dbfa_84d1_11eb_b99f_0991e3985f1drow10_col21,#T_6a26dbfa_84d1_11eb_b99f_0991e3985f1drow10_col22,#T_6a26dbfa_84d1_11eb_b99f_0991e3985f1drow10_col23,#T_6a26dbfa_84d1_11eb_b99f_0991e3985f1drow10_col24,#T_6a26dbfa_84d1_11eb_b99f_0991e3985f1drow10_col25,#T_6a26dbfa_84d1_11eb_b99f_0991e3985f1drow10_col26,#T_6a26dbfa_84d1_11eb_b99f_0991e3985f1drow11_col0,#T_6a26dbfa_84d1_11eb_b99f_0991e3985f1drow11_col1,#T_6a26dbfa_84d1_11eb_b99f_0991e3985f1drow11_col2,#T_6a26dbfa_84d1_11eb_b99f_0991e3985f1drow11_col3,#T_6a26dbfa_84d1_11eb_b99f_0991e3985f1drow11_col4,#T_6a26dbfa_84d1_11eb_b99f_0991e3985f1drow11_col5,#T_6a26dbfa_84d1_11eb_b99f_0991e3985f1drow11_col6,#T_6a26dbfa_84d1_11eb_b99f_0991e3985f1drow11_col7,#T_6a26dbfa_84d1_11eb_b99f_0991e3985f1drow11_col8,#T_6a26dbfa_84d1_11eb_b99f_0991e3985f1drow11_col9,#T_6a26dbfa_84d1_11eb_b99f_0991e3985f1drow11_col10,#T_6a26dbfa_84d1_11eb_b99f_0991e3985f1drow11_col17,#T_6a26dbfa_84d1_11eb_b99f_0991e3985f1drow11_col18,#T_6a26dbfa_84d1_11eb_b99f_0991e3985f1drow11_col19,#T_6a26dbfa_84d1_11eb_b99f_0991e3985f1drow11_col20,#T_6a26dbfa_84d1_11eb_b99f_0991e3985f1drow11_col21,#T_6a26dbfa_84d1_11eb_b99f_0991e3985f1drow11_col22,#T_6a26dbfa_84d1_11eb_b99f_0991e3985f1drow11_col23,#T_6a26dbfa_84d1_11eb_b99f_0991e3985f1drow11_col24,#T_6a26dbfa_84d1_11eb_b99f_0991e3985f1drow11_col25,#T_6a26dbfa_84d1_11eb_b99f_0991e3985f1drow11_col26,#T_6a26dbfa_84d1_11eb_b99f_0991e3985f1drow12_col0,#T_6a26dbfa_84d1_11eb_b99f_0991e3985f1drow12_col1,#T_6a26dbfa_84d1_11eb_b99f_0991e3985f1drow12_col2,#T_6a26dbfa_84d1_11eb_b99f_0991e3985f1drow12_col3,#T_6a26dbfa_84d1_11eb_b99f_0991e3985f1drow12_col4,#T_6a26dbfa_84d1_11eb_b99f_0991e3985f1drow12_col5,#T_6a26dbfa_84d1_11eb_b99f_0991e3985f1drow12_col6,#T_6a26dbfa_84d1_11eb_b99f_0991e3985f1drow12_col7,#T_6a26dbfa_84d1_11eb_b99f_0991e3985f1drow12_col8,#T_6a26dbfa_84d1_11eb_b99f_0991e3985f1drow12_col17,#T_6a26dbfa_84d1_11eb_b99f_0991e3985f1drow12_col18,#T_6a26dbfa_84d1_11eb_b99f_0991e3985f1drow12_col19,#T_6a26dbfa_84d1_11eb_b99f_0991e3985f1drow12_col20,#T_6a26dbfa_84d1_11eb_b99f_0991e3985f1drow12_col21,#T_6a26dbfa_84d1_11eb_b99f_0991e3985f1drow12_col22,#T_6a26dbfa_84d1_11eb_b99f_0991e3985f1drow12_col23,#T_6a26dbfa_84d1_11eb_b99f_0991e3985f1drow12_col24,#T_6a26dbfa_84d1_11eb_b99f_0991e3985f1drow12_col25,#T_6a26dbfa_84d1_11eb_b99f_0991e3985f1drow12_col26,#T_6a26dbfa_84d1_11eb_b99f_0991e3985f1drow13_col0,#T_6a26dbfa_84d1_11eb_b99f_0991e3985f1drow13_col1,#T_6a26dbfa_84d1_11eb_b99f_0991e3985f1drow13_col2,#T_6a26dbfa_84d1_11eb_b99f_0991e3985f1drow13_col3,#T_6a26dbfa_84d1_11eb_b99f_0991e3985f1drow13_col4,#T_6a26dbfa_84d1_11eb_b99f_0991e3985f1drow13_col5,#T_6a26dbfa_84d1_11eb_b99f_0991e3985f1drow13_col6,#T_6a26dbfa_84d1_11eb_b99f_0991e3985f1drow13_col7,#T_6a26dbfa_84d1_11eb_b99f_0991e3985f1drow13_col8,#T_6a26dbfa_84d1_11eb_b99f_0991e3985f1drow13_col20,#T_6a26dbfa_84d1_11eb_b99f_0991e3985f1drow13_col21,#T_6a26dbfa_84d1_11eb_b99f_0991e3985f1drow13_col22,#T_6a26dbfa_84d1_11eb_b99f_0991e3985f1drow13_col23,#T_6a26dbfa_84d1_11eb_b99f_0991e3985f1drow13_col24,#T_6a26dbfa_84d1_11eb_b99f_0991e3985f1drow13_col25,#T_6a26dbfa_84d1_11eb_b99f_0991e3985f1drow13_col26,#T_6a26dbfa_84d1_11eb_b99f_0991e3985f1drow14_col0,#T_6a26dbfa_84d1_11eb_b99f_0991e3985f1drow14_col1,#T_6a26dbfa_84d1_11eb_b99f_0991e3985f1drow14_col2,#T_6a26dbfa_84d1_11eb_b99f_0991e3985f1drow14_col3,#T_6a26dbfa_84d1_11eb_b99f_0991e3985f1drow14_col4,#T_6a26dbfa_84d1_11eb_b99f_0991e3985f1drow14_col5,#T_6a26dbfa_84d1_11eb_b99f_0991e3985f1drow14_col6,#T_6a26dbfa_84d1_11eb_b99f_0991e3985f1drow14_col7,#T_6a26dbfa_84d1_11eb_b99f_0991e3985f1drow14_col8,#T_6a26dbfa_84d1_11eb_b99f_0991e3985f1drow14_col9,#T_6a26dbfa_84d1_11eb_b99f_0991e3985f1drow14_col10,#T_6a26dbfa_84d1_11eb_b99f_0991e3985f1drow14_col21,#T_6a26dbfa_84d1_11eb_b99f_0991e3985f1drow14_col22,#T_6a26dbfa_84d1_11eb_b99f_0991e3985f1drow14_col23,#T_6a26dbfa_84d1_11eb_b99f_0991e3985f1drow14_col24,#T_6a26dbfa_84d1_11eb_b99f_0991e3985f1drow14_col25,#T_6a26dbfa_84d1_11eb_b99f_0991e3985f1drow14_col26,#T_6a26dbfa_84d1_11eb_b99f_0991e3985f1drow15_col0,#T_6a26dbfa_84d1_11eb_b99f_0991e3985f1drow15_col1,#T_6a26dbfa_84d1_11eb_b99f_0991e3985f1drow15_col2,#T_6a26dbfa_84d1_11eb_b99f_0991e3985f1drow15_col3,#T_6a26dbfa_84d1_11eb_b99f_0991e3985f1drow15_col4,#T_6a26dbfa_84d1_11eb_b99f_0991e3985f1drow15_col5,#T_6a26dbfa_84d1_11eb_b99f_0991e3985f1drow15_col6,#T_6a26dbfa_84d1_11eb_b99f_0991e3985f1drow15_col7,#T_6a26dbfa_84d1_11eb_b99f_0991e3985f1drow15_col8,#T_6a26dbfa_84d1_11eb_b99f_0991e3985f1drow15_col9,#T_6a26dbfa_84d1_11eb_b99f_0991e3985f1drow15_col10,#T_6a26dbfa_84d1_11eb_b99f_0991e3985f1drow15_col11,#T_6a26dbfa_84d1_11eb_b99f_0991e3985f1drow15_col12,#T_6a26dbfa_84d1_11eb_b99f_0991e3985f1drow15_col13,#T_6a26dbfa_84d1_11eb_b99f_0991e3985f1drow15_col21,#T_6a26dbfa_84d1_11eb_b99f_0991e3985f1drow15_col22,#T_6a26dbfa_84d1_11eb_b99f_0991e3985f1drow15_col23,#T_6a26dbfa_84d1_11eb_b99f_0991e3985f1drow15_col24,#T_6a26dbfa_84d1_11eb_b99f_0991e3985f1drow15_col25,#T_6a26dbfa_84d1_11eb_b99f_0991e3985f1drow15_col26,#T_6a26dbfa_84d1_11eb_b99f_0991e3985f1drow16_col0,#T_6a26dbfa_84d1_11eb_b99f_0991e3985f1drow16_col1,#T_6a26dbfa_84d1_11eb_b99f_0991e3985f1drow16_col2,#T_6a26dbfa_84d1_11eb_b99f_0991e3985f1drow16_col3,#T_6a26dbfa_84d1_11eb_b99f_0991e3985f1drow16_col4,#T_6a26dbfa_84d1_11eb_b99f_0991e3985f1drow16_col5,#T_6a26dbfa_84d1_11eb_b99f_0991e3985f1drow16_col6,#T_6a26dbfa_84d1_11eb_b99f_0991e3985f1drow16_col7,#T_6a26dbfa_84d1_11eb_b99f_0991e3985f1drow16_col8,#T_6a26dbfa_84d1_11eb_b99f_0991e3985f1drow16_col9,#T_6a26dbfa_84d1_11eb_b99f_0991e3985f1drow16_col10,#T_6a26dbfa_84d1_11eb_b99f_0991e3985f1drow16_col11,#T_6a26dbfa_84d1_11eb_b99f_0991e3985f1drow16_col12,#T_6a26dbfa_84d1_11eb_b99f_0991e3985f1drow16_col13,#T_6a26dbfa_84d1_11eb_b99f_0991e3985f1drow16_col14,#T_6a26dbfa_84d1_11eb_b99f_0991e3985f1drow16_col15,#T_6a26dbfa_84d1_11eb_b99f_0991e3985f1drow16_col16,#T_6a26dbfa_84d1_11eb_b99f_0991e3985f1drow16_col21,#T_6a26dbfa_84d1_11eb_b99f_0991e3985f1drow16_col22,#T_6a26dbfa_84d1_11eb_b99f_0991e3985f1drow16_col23,#T_6a26dbfa_84d1_11eb_b99f_0991e3985f1drow16_col24,#T_6a26dbfa_84d1_11eb_b99f_0991e3985f1drow16_col25,#T_6a26dbfa_84d1_11eb_b99f_0991e3985f1drow16_col26,#T_6a26dbfa_84d1_11eb_b99f_0991e3985f1drow17_col0,#T_6a26dbfa_84d1_11eb_b99f_0991e3985f1drow17_col1,#T_6a26dbfa_84d1_11eb_b99f_0991e3985f1drow17_col2,#T_6a26dbfa_84d1_11eb_b99f_0991e3985f1drow17_col3,#T_6a26dbfa_84d1_11eb_b99f_0991e3985f1drow17_col4,#T_6a26dbfa_84d1_11eb_b99f_0991e3985f1drow17_col5,#T_6a26dbfa_84d1_11eb_b99f_0991e3985f1drow17_col6,#T_6a26dbfa_84d1_11eb_b99f_0991e3985f1drow17_col7,#T_6a26dbfa_84d1_11eb_b99f_0991e3985f1drow17_col8,#T_6a26dbfa_84d1_11eb_b99f_0991e3985f1drow17_col9,#T_6a26dbfa_84d1_11eb_b99f_0991e3985f1drow17_col10,#T_6a26dbfa_84d1_11eb_b99f_0991e3985f1drow17_col11,#T_6a26dbfa_84d1_11eb_b99f_0991e3985f1drow17_col12,#T_6a26dbfa_84d1_11eb_b99f_0991e3985f1drow17_col13,#T_6a26dbfa_84d1_11eb_b99f_0991e3985f1drow17_col14,#T_6a26dbfa_84d1_11eb_b99f_0991e3985f1drow17_col15,#T_6a26dbfa_84d1_11eb_b99f_0991e3985f1drow17_col16,#T_6a26dbfa_84d1_11eb_b99f_0991e3985f1drow17_col21,#T_6a26dbfa_84d1_11eb_b99f_0991e3985f1drow17_col22,#T_6a26dbfa_84d1_11eb_b99f_0991e3985f1drow17_col23,#T_6a26dbfa_84d1_11eb_b99f_0991e3985f1drow17_col24,#T_6a26dbfa_84d1_11eb_b99f_0991e3985f1drow17_col25,#T_6a26dbfa_84d1_11eb_b99f_0991e3985f1drow17_col26,#T_6a26dbfa_84d1_11eb_b99f_0991e3985f1drow18_col0,#T_6a26dbfa_84d1_11eb_b99f_0991e3985f1drow18_col1,#T_6a26dbfa_84d1_11eb_b99f_0991e3985f1drow18_col2,#T_6a26dbfa_84d1_11eb_b99f_0991e3985f1drow18_col3,#T_6a26dbfa_84d1_11eb_b99f_0991e3985f1drow18_col4,#T_6a26dbfa_84d1_11eb_b99f_0991e3985f1drow18_col5,#T_6a26dbfa_84d1_11eb_b99f_0991e3985f1drow18_col6,#T_6a26dbfa_84d1_11eb_b99f_0991e3985f1drow18_col7,#T_6a26dbfa_84d1_11eb_b99f_0991e3985f1drow18_col8,#T_6a26dbfa_84d1_11eb_b99f_0991e3985f1drow18_col9,#T_6a26dbfa_84d1_11eb_b99f_0991e3985f1drow18_col10,#T_6a26dbfa_84d1_11eb_b99f_0991e3985f1drow18_col11,#T_6a26dbfa_84d1_11eb_b99f_0991e3985f1drow18_col12,#T_6a26dbfa_84d1_11eb_b99f_0991e3985f1drow18_col13,#T_6a26dbfa_84d1_11eb_b99f_0991e3985f1drow18_col14,#T_6a26dbfa_84d1_11eb_b99f_0991e3985f1drow18_col15,#T_6a26dbfa_84d1_11eb_b99f_0991e3985f1drow18_col21,#T_6a26dbfa_84d1_11eb_b99f_0991e3985f1drow18_col22,#T_6a26dbfa_84d1_11eb_b99f_0991e3985f1drow18_col23,#T_6a26dbfa_84d1_11eb_b99f_0991e3985f1drow18_col24,#T_6a26dbfa_84d1_11eb_b99f_0991e3985f1drow18_col25,#T_6a26dbfa_84d1_11eb_b99f_0991e3985f1drow18_col26,#T_6a26dbfa_84d1_11eb_b99f_0991e3985f1drow19_col0,#T_6a26dbfa_84d1_11eb_b99f_0991e3985f1drow19_col1,#T_6a26dbfa_84d1_11eb_b99f_0991e3985f1drow19_col2,#T_6a26dbfa_84d1_11eb_b99f_0991e3985f1drow19_col3,#T_6a26dbfa_84d1_11eb_b99f_0991e3985f1drow19_col4,#T_6a26dbfa_84d1_11eb_b99f_0991e3985f1drow19_col5,#T_6a26dbfa_84d1_11eb_b99f_0991e3985f1drow19_col6,#T_6a26dbfa_84d1_11eb_b99f_0991e3985f1drow19_col7,#T_6a26dbfa_84d1_11eb_b99f_0991e3985f1drow19_col8,#T_6a26dbfa_84d1_11eb_b99f_0991e3985f1drow19_col9,#T_6a26dbfa_84d1_11eb_b99f_0991e3985f1drow19_col10,#T_6a26dbfa_84d1_11eb_b99f_0991e3985f1drow19_col11,#T_6a26dbfa_84d1_11eb_b99f_0991e3985f1drow19_col12,#T_6a26dbfa_84d1_11eb_b99f_0991e3985f1drow19_col13,#T_6a26dbfa_84d1_11eb_b99f_0991e3985f1drow19_col14,#T_6a26dbfa_84d1_11eb_b99f_0991e3985f1drow19_col21,#T_6a26dbfa_84d1_11eb_b99f_0991e3985f1drow19_col22,#T_6a26dbfa_84d1_11eb_b99f_0991e3985f1drow19_col23,#T_6a26dbfa_84d1_11eb_b99f_0991e3985f1drow19_col24,#T_6a26dbfa_84d1_11eb_b99f_0991e3985f1drow19_col25,#T_6a26dbfa_84d1_11eb_b99f_0991e3985f1drow19_col26,#T_6a26dbfa_84d1_11eb_b99f_0991e3985f1drow20_col0,#T_6a26dbfa_84d1_11eb_b99f_0991e3985f1drow20_col1,#T_6a26dbfa_84d1_11eb_b99f_0991e3985f1drow20_col2,#T_6a26dbfa_84d1_11eb_b99f_0991e3985f1drow20_col3,#T_6a26dbfa_84d1_11eb_b99f_0991e3985f1drow20_col4,#T_6a26dbfa_84d1_11eb_b99f_0991e3985f1drow20_col5,#T_6a26dbfa_84d1_11eb_b99f_0991e3985f1drow20_col6,#T_6a26dbfa_84d1_11eb_b99f_0991e3985f1drow20_col7,#T_6a26dbfa_84d1_11eb_b99f_0991e3985f1drow20_col8,#T_6a26dbfa_84d1_11eb_b99f_0991e3985f1drow20_col9,#T_6a26dbfa_84d1_11eb_b99f_0991e3985f1drow20_col10,#T_6a26dbfa_84d1_11eb_b99f_0991e3985f1drow20_col11,#T_6a26dbfa_84d1_11eb_b99f_0991e3985f1drow20_col12,#T_6a26dbfa_84d1_11eb_b99f_0991e3985f1drow20_col13,#T_6a26dbfa_84d1_11eb_b99f_0991e3985f1drow20_col20,#T_6a26dbfa_84d1_11eb_b99f_0991e3985f1drow20_col21,#T_6a26dbfa_84d1_11eb_b99f_0991e3985f1drow20_col22,#T_6a26dbfa_84d1_11eb_b99f_0991e3985f1drow20_col23,#T_6a26dbfa_84d1_11eb_b99f_0991e3985f1drow20_col24,#T_6a26dbfa_84d1_11eb_b99f_0991e3985f1drow20_col25,#T_6a26dbfa_84d1_11eb_b99f_0991e3985f1drow20_col26,#T_6a26dbfa_84d1_11eb_b99f_0991e3985f1drow21_col0,#T_6a26dbfa_84d1_11eb_b99f_0991e3985f1drow21_col1,#T_6a26dbfa_84d1_11eb_b99f_0991e3985f1drow21_col2,#T_6a26dbfa_84d1_11eb_b99f_0991e3985f1drow21_col3,#T_6a26dbfa_84d1_11eb_b99f_0991e3985f1drow21_col4,#T_6a26dbfa_84d1_11eb_b99f_0991e3985f1drow21_col5,#T_6a26dbfa_84d1_11eb_b99f_0991e3985f1drow21_col6,#T_6a26dbfa_84d1_11eb_b99f_0991e3985f1drow21_col7,#T_6a26dbfa_84d1_11eb_b99f_0991e3985f1drow21_col8,#T_6a26dbfa_84d1_11eb_b99f_0991e3985f1drow21_col9,#T_6a26dbfa_84d1_11eb_b99f_0991e3985f1drow21_col10,#T_6a26dbfa_84d1_11eb_b99f_0991e3985f1drow21_col11,#T_6a26dbfa_84d1_11eb_b99f_0991e3985f1drow21_col19,#T_6a26dbfa_84d1_11eb_b99f_0991e3985f1drow21_col20,#T_6a26dbfa_84d1_11eb_b99f_0991e3985f1drow21_col21,#T_6a26dbfa_84d1_11eb_b99f_0991e3985f1drow21_col22,#T_6a26dbfa_84d1_11eb_b99f_0991e3985f1drow21_col23,#T_6a26dbfa_84d1_11eb_b99f_0991e3985f1drow21_col24,#T_6a26dbfa_84d1_11eb_b99f_0991e3985f1drow21_col25,#T_6a26dbfa_84d1_11eb_b99f_0991e3985f1drow21_col26,#T_6a26dbfa_84d1_11eb_b99f_0991e3985f1drow22_col0,#T_6a26dbfa_84d1_11eb_b99f_0991e3985f1drow22_col1,#T_6a26dbfa_84d1_11eb_b99f_0991e3985f1drow22_col2,#T_6a26dbfa_84d1_11eb_b99f_0991e3985f1drow22_col3,#T_6a26dbfa_84d1_11eb_b99f_0991e3985f1drow22_col4,#T_6a26dbfa_84d1_11eb_b99f_0991e3985f1drow22_col5,#T_6a26dbfa_84d1_11eb_b99f_0991e3985f1drow22_col18,#T_6a26dbfa_84d1_11eb_b99f_0991e3985f1drow22_col19,#T_6a26dbfa_84d1_11eb_b99f_0991e3985f1drow22_col20,#T_6a26dbfa_84d1_11eb_b99f_0991e3985f1drow22_col21,#T_6a26dbfa_84d1_11eb_b99f_0991e3985f1drow22_col22,#T_6a26dbfa_84d1_11eb_b99f_0991e3985f1drow22_col23,#T_6a26dbfa_84d1_11eb_b99f_0991e3985f1drow22_col24,#T_6a26dbfa_84d1_11eb_b99f_0991e3985f1drow22_col25,#T_6a26dbfa_84d1_11eb_b99f_0991e3985f1drow22_col26,#T_6a26dbfa_84d1_11eb_b99f_0991e3985f1drow23_col0,#T_6a26dbfa_84d1_11eb_b99f_0991e3985f1drow23_col1,#T_6a26dbfa_84d1_11eb_b99f_0991e3985f1drow23_col2,#T_6a26dbfa_84d1_11eb_b99f_0991e3985f1drow23_col3,#T_6a26dbfa_84d1_11eb_b99f_0991e3985f1drow23_col4,#T_6a26dbfa_84d1_11eb_b99f_0991e3985f1drow23_col5,#T_6a26dbfa_84d1_11eb_b99f_0991e3985f1drow23_col16,#T_6a26dbfa_84d1_11eb_b99f_0991e3985f1drow23_col17,#T_6a26dbfa_84d1_11eb_b99f_0991e3985f1drow23_col18,#T_6a26dbfa_84d1_11eb_b99f_0991e3985f1drow23_col19,#T_6a26dbfa_84d1_11eb_b99f_0991e3985f1drow23_col20,#T_6a26dbfa_84d1_11eb_b99f_0991e3985f1drow23_col21,#T_6a26dbfa_84d1_11eb_b99f_0991e3985f1drow23_col22,#T_6a26dbfa_84d1_11eb_b99f_0991e3985f1drow23_col23,#T_6a26dbfa_84d1_11eb_b99f_0991e3985f1drow23_col24,#T_6a26dbfa_84d1_11eb_b99f_0991e3985f1drow23_col25,#T_6a26dbfa_84d1_11eb_b99f_0991e3985f1drow23_col26,#T_6a26dbfa_84d1_11eb_b99f_0991e3985f1drow24_col0,#T_6a26dbfa_84d1_11eb_b99f_0991e3985f1drow24_col1,#T_6a26dbfa_84d1_11eb_b99f_0991e3985f1drow24_col2,#T_6a26dbfa_84d1_11eb_b99f_0991e3985f1drow24_col3,#T_6a26dbfa_84d1_11eb_b99f_0991e3985f1drow24_col4,#T_6a26dbfa_84d1_11eb_b99f_0991e3985f1drow24_col5,#T_6a26dbfa_84d1_11eb_b99f_0991e3985f1drow24_col14,#T_6a26dbfa_84d1_11eb_b99f_0991e3985f1drow24_col15,#T_6a26dbfa_84d1_11eb_b99f_0991e3985f1drow24_col16,#T_6a26dbfa_84d1_11eb_b99f_0991e3985f1drow24_col17,#T_6a26dbfa_84d1_11eb_b99f_0991e3985f1drow24_col18,#T_6a26dbfa_84d1_11eb_b99f_0991e3985f1drow24_col19,#T_6a26dbfa_84d1_11eb_b99f_0991e3985f1drow24_col20,#T_6a26dbfa_84d1_11eb_b99f_0991e3985f1drow24_col21,#T_6a26dbfa_84d1_11eb_b99f_0991e3985f1drow24_col22,#T_6a26dbfa_84d1_11eb_b99f_0991e3985f1drow24_col23,#T_6a26dbfa_84d1_11eb_b99f_0991e3985f1drow24_col24,#T_6a26dbfa_84d1_11eb_b99f_0991e3985f1drow24_col25,#T_6a26dbfa_84d1_11eb_b99f_0991e3985f1drow24_col26,#T_6a26dbfa_84d1_11eb_b99f_0991e3985f1drow25_col0,#T_6a26dbfa_84d1_11eb_b99f_0991e3985f1drow25_col1,#T_6a26dbfa_84d1_11eb_b99f_0991e3985f1drow25_col2,#T_6a26dbfa_84d1_11eb_b99f_0991e3985f1drow25_col3,#T_6a26dbfa_84d1_11eb_b99f_0991e3985f1drow25_col4,#T_6a26dbfa_84d1_11eb_b99f_0991e3985f1drow25_col5,#T_6a26dbfa_84d1_11eb_b99f_0991e3985f1drow25_col6,#T_6a26dbfa_84d1_11eb_b99f_0991e3985f1drow25_col7,#T_6a26dbfa_84d1_11eb_b99f_0991e3985f1drow25_col8,#T_6a26dbfa_84d1_11eb_b99f_0991e3985f1drow25_col9,#T_6a26dbfa_84d1_11eb_b99f_0991e3985f1drow25_col10,#T_6a26dbfa_84d1_11eb_b99f_0991e3985f1drow25_col11,#T_6a26dbfa_84d1_11eb_b99f_0991e3985f1drow25_col12,#T_6a26dbfa_84d1_11eb_b99f_0991e3985f1drow25_col13,#T_6a26dbfa_84d1_11eb_b99f_0991e3985f1drow25_col14,#T_6a26dbfa_84d1_11eb_b99f_0991e3985f1drow25_col15,#T_6a26dbfa_84d1_11eb_b99f_0991e3985f1drow25_col16,#T_6a26dbfa_84d1_11eb_b99f_0991e3985f1drow25_col17,#T_6a26dbfa_84d1_11eb_b99f_0991e3985f1drow25_col18,#T_6a26dbfa_84d1_11eb_b99f_0991e3985f1drow25_col19,#T_6a26dbfa_84d1_11eb_b99f_0991e3985f1drow25_col20,#T_6a26dbfa_84d1_11eb_b99f_0991e3985f1drow25_col21,#T_6a26dbfa_84d1_11eb_b99f_0991e3985f1drow25_col22,#T_6a26dbfa_84d1_11eb_b99f_0991e3985f1drow25_col23,#T_6a26dbfa_84d1_11eb_b99f_0991e3985f1drow25_col24,#T_6a26dbfa_84d1_11eb_b99f_0991e3985f1drow25_col25,#T_6a26dbfa_84d1_11eb_b99f_0991e3985f1drow25_col26,#T_6a26dbfa_84d1_11eb_b99f_0991e3985f1drow26_col0,#T_6a26dbfa_84d1_11eb_b99f_0991e3985f1drow26_col1,#T_6a26dbfa_84d1_11eb_b99f_0991e3985f1drow26_col2,#T_6a26dbfa_84d1_11eb_b99f_0991e3985f1drow26_col3,#T_6a26dbfa_84d1_11eb_b99f_0991e3985f1drow26_col4,#T_6a26dbfa_84d1_11eb_b99f_0991e3985f1drow26_col5,#T_6a26dbfa_84d1_11eb_b99f_0991e3985f1drow26_col6,#T_6a26dbfa_84d1_11eb_b99f_0991e3985f1drow26_col7,#T_6a26dbfa_84d1_11eb_b99f_0991e3985f1drow26_col8,#T_6a26dbfa_84d1_11eb_b99f_0991e3985f1drow26_col9,#T_6a26dbfa_84d1_11eb_b99f_0991e3985f1drow26_col10,#T_6a26dbfa_84d1_11eb_b99f_0991e3985f1drow26_col11,#T_6a26dbfa_84d1_11eb_b99f_0991e3985f1drow26_col12,#T_6a26dbfa_84d1_11eb_b99f_0991e3985f1drow26_col13,#T_6a26dbfa_84d1_11eb_b99f_0991e3985f1drow26_col14,#T_6a26dbfa_84d1_11eb_b99f_0991e3985f1drow26_col15,#T_6a26dbfa_84d1_11eb_b99f_0991e3985f1drow26_col16,#T_6a26dbfa_84d1_11eb_b99f_0991e3985f1drow26_col17,#T_6a26dbfa_84d1_11eb_b99f_0991e3985f1drow26_col18,#T_6a26dbfa_84d1_11eb_b99f_0991e3985f1drow26_col19,#T_6a26dbfa_84d1_11eb_b99f_0991e3985f1drow26_col20,#T_6a26dbfa_84d1_11eb_b99f_0991e3985f1drow26_col21,#T_6a26dbfa_84d1_11eb_b99f_0991e3985f1drow26_col22,#T_6a26dbfa_84d1_11eb_b99f_0991e3985f1drow26_col23,#T_6a26dbfa_84d1_11eb_b99f_0991e3985f1drow26_col24,#T_6a26dbfa_84d1_11eb_b99f_0991e3985f1drow26_col25,#T_6a26dbfa_84d1_11eb_b99f_0991e3985f1drow26_col26{\n",
       "            font-size:  6pt;\n",
       "            background-color:  #ffffff;\n",
       "            color:  #000000;\n",
       "        }#T_6a26dbfa_84d1_11eb_b99f_0991e3985f1drow5_col9,#T_6a26dbfa_84d1_11eb_b99f_0991e3985f1drow12_col16{\n",
       "            font-size:  6pt;\n",
       "            background-color:  #f1f1f1;\n",
       "            color:  #000000;\n",
       "        }#T_6a26dbfa_84d1_11eb_b99f_0991e3985f1drow5_col10,#T_6a26dbfa_84d1_11eb_b99f_0991e3985f1drow5_col17{\n",
       "            font-size:  6pt;\n",
       "            background-color:  #7c7c7c;\n",
       "            color:  #000000;\n",
       "        }#T_6a26dbfa_84d1_11eb_b99f_0991e3985f1drow5_col11{\n",
       "            font-size:  6pt;\n",
       "            background-color:  #4a4a4a;\n",
       "            color:  #f1f1f1;\n",
       "        }#T_6a26dbfa_84d1_11eb_b99f_0991e3985f1drow5_col12,#T_6a26dbfa_84d1_11eb_b99f_0991e3985f1drow5_col13,#T_6a26dbfa_84d1_11eb_b99f_0991e3985f1drow5_col14,#T_6a26dbfa_84d1_11eb_b99f_0991e3985f1drow6_col10,#T_6a26dbfa_84d1_11eb_b99f_0991e3985f1drow6_col11,#T_6a26dbfa_84d1_11eb_b99f_0991e3985f1drow6_col15,#T_6a26dbfa_84d1_11eb_b99f_0991e3985f1drow6_col16,#T_6a26dbfa_84d1_11eb_b99f_0991e3985f1drow6_col17,#T_6a26dbfa_84d1_11eb_b99f_0991e3985f1drow7_col8,#T_6a26dbfa_84d1_11eb_b99f_0991e3985f1drow7_col16,#T_6a26dbfa_84d1_11eb_b99f_0991e3985f1drow7_col17,#T_6a26dbfa_84d1_11eb_b99f_0991e3985f1drow8_col5,#T_6a26dbfa_84d1_11eb_b99f_0991e3985f1drow8_col6,#T_6a26dbfa_84d1_11eb_b99f_0991e3985f1drow8_col7,#T_6a26dbfa_84d1_11eb_b99f_0991e3985f1drow8_col16,#T_6a26dbfa_84d1_11eb_b99f_0991e3985f1drow8_col17,#T_6a26dbfa_84d1_11eb_b99f_0991e3985f1drow9_col16,#T_6a26dbfa_84d1_11eb_b99f_0991e3985f1drow10_col15,#T_6a26dbfa_84d1_11eb_b99f_0991e3985f1drow13_col15,#T_6a26dbfa_84d1_11eb_b99f_0991e3985f1drow14_col15,#T_6a26dbfa_84d1_11eb_b99f_0991e3985f1drow14_col16,#T_6a26dbfa_84d1_11eb_b99f_0991e3985f1drow14_col17,#T_6a26dbfa_84d1_11eb_b99f_0991e3985f1drow14_col18,#T_6a26dbfa_84d1_11eb_b99f_0991e3985f1drow15_col17,#T_6a26dbfa_84d1_11eb_b99f_0991e3985f1drow15_col18,#T_6a26dbfa_84d1_11eb_b99f_0991e3985f1drow15_col19,#T_6a26dbfa_84d1_11eb_b99f_0991e3985f1drow16_col18,#T_6a26dbfa_84d1_11eb_b99f_0991e3985f1drow16_col19,#T_6a26dbfa_84d1_11eb_b99f_0991e3985f1drow16_col20,#T_6a26dbfa_84d1_11eb_b99f_0991e3985f1drow17_col18,#T_6a26dbfa_84d1_11eb_b99f_0991e3985f1drow17_col19,#T_6a26dbfa_84d1_11eb_b99f_0991e3985f1drow18_col18,#T_6a26dbfa_84d1_11eb_b99f_0991e3985f1drow18_col19,#T_6a26dbfa_84d1_11eb_b99f_0991e3985f1drow19_col17,#T_6a26dbfa_84d1_11eb_b99f_0991e3985f1drow19_col18,#T_6a26dbfa_84d1_11eb_b99f_0991e3985f1drow20_col16,#T_6a26dbfa_84d1_11eb_b99f_0991e3985f1drow20_col17,#T_6a26dbfa_84d1_11eb_b99f_0991e3985f1drow21_col15,#T_6a26dbfa_84d1_11eb_b99f_0991e3985f1drow21_col16,#T_6a26dbfa_84d1_11eb_b99f_0991e3985f1drow23_col7,#T_6a26dbfa_84d1_11eb_b99f_0991e3985f1drow23_col8,#T_6a26dbfa_84d1_11eb_b99f_0991e3985f1drow23_col9,#T_6a26dbfa_84d1_11eb_b99f_0991e3985f1drow23_col10,#T_6a26dbfa_84d1_11eb_b99f_0991e3985f1drow23_col11,#T_6a26dbfa_84d1_11eb_b99f_0991e3985f1drow24_col7,#T_6a26dbfa_84d1_11eb_b99f_0991e3985f1drow24_col8,#T_6a26dbfa_84d1_11eb_b99f_0991e3985f1drow24_col9,#T_6a26dbfa_84d1_11eb_b99f_0991e3985f1drow24_col10,#T_6a26dbfa_84d1_11eb_b99f_0991e3985f1drow24_col11{\n",
       "            font-size:  6pt;\n",
       "            background-color:  #000000;\n",
       "            color:  #f1f1f1;\n",
       "        }#T_6a26dbfa_84d1_11eb_b99f_0991e3985f1drow5_col15{\n",
       "            font-size:  6pt;\n",
       "            background-color:  #606060;\n",
       "            color:  #f1f1f1;\n",
       "        }#T_6a26dbfa_84d1_11eb_b99f_0991e3985f1drow5_col16{\n",
       "            font-size:  6pt;\n",
       "            background-color:  #4d4d4d;\n",
       "            color:  #f1f1f1;\n",
       "        }#T_6a26dbfa_84d1_11eb_b99f_0991e3985f1drow5_col18{\n",
       "            font-size:  6pt;\n",
       "            background-color:  #bbbbbb;\n",
       "            color:  #000000;\n",
       "        }#T_6a26dbfa_84d1_11eb_b99f_0991e3985f1drow6_col7,#T_6a26dbfa_84d1_11eb_b99f_0991e3985f1drow8_col9{\n",
       "            font-size:  6pt;\n",
       "            background-color:  #e4e4e4;\n",
       "            color:  #000000;\n",
       "        }#T_6a26dbfa_84d1_11eb_b99f_0991e3985f1drow6_col8,#T_6a26dbfa_84d1_11eb_b99f_0991e3985f1drow12_col10{\n",
       "            font-size:  6pt;\n",
       "            background-color:  #6b6b6b;\n",
       "            color:  #000000;\n",
       "        }#T_6a26dbfa_84d1_11eb_b99f_0991e3985f1drow6_col9,#T_6a26dbfa_84d1_11eb_b99f_0991e3985f1drow9_col15{\n",
       "            font-size:  6pt;\n",
       "            background-color:  #222222;\n",
       "            color:  #f1f1f1;\n",
       "        }#T_6a26dbfa_84d1_11eb_b99f_0991e3985f1drow6_col12,#T_6a26dbfa_84d1_11eb_b99f_0991e3985f1drow6_col18,#T_6a26dbfa_84d1_11eb_b99f_0991e3985f1drow7_col18,#T_6a26dbfa_84d1_11eb_b99f_0991e3985f1drow21_col17{\n",
       "            font-size:  6pt;\n",
       "            background-color:  #171717;\n",
       "            color:  #f1f1f1;\n",
       "        }#T_6a26dbfa_84d1_11eb_b99f_0991e3985f1drow6_col13,#T_6a26dbfa_84d1_11eb_b99f_0991e3985f1drow7_col15{\n",
       "            font-size:  6pt;\n",
       "            background-color:  #4b4b4b;\n",
       "            color:  #f1f1f1;\n",
       "        }#T_6a26dbfa_84d1_11eb_b99f_0991e3985f1drow6_col14,#T_6a26dbfa_84d1_11eb_b99f_0991e3985f1drow11_col14,#T_6a26dbfa_84d1_11eb_b99f_0991e3985f1drow12_col12,#T_6a26dbfa_84d1_11eb_b99f_0991e3985f1drow12_col14,#T_6a26dbfa_84d1_11eb_b99f_0991e3985f1drow13_col12,#T_6a26dbfa_84d1_11eb_b99f_0991e3985f1drow13_col14,#T_6a26dbfa_84d1_11eb_b99f_0991e3985f1drow22_col14,#T_6a26dbfa_84d1_11eb_b99f_0991e3985f1drow23_col12{\n",
       "            font-size:  6pt;\n",
       "            background-color:  #010101;\n",
       "            color:  #f1f1f1;\n",
       "        }#T_6a26dbfa_84d1_11eb_b99f_0991e3985f1drow7_col5{\n",
       "            font-size:  6pt;\n",
       "            background-color:  #272727;\n",
       "            color:  #f1f1f1;\n",
       "        }#T_6a26dbfa_84d1_11eb_b99f_0991e3985f1drow7_col6{\n",
       "            font-size:  6pt;\n",
       "            background-color:  #0a0a0a;\n",
       "            color:  #f1f1f1;\n",
       "        }#T_6a26dbfa_84d1_11eb_b99f_0991e3985f1drow7_col7,#T_6a26dbfa_84d1_11eb_b99f_0991e3985f1drow18_col17{\n",
       "            font-size:  6pt;\n",
       "            background-color:  #050505;\n",
       "            color:  #f1f1f1;\n",
       "        }#T_6a26dbfa_84d1_11eb_b99f_0991e3985f1drow7_col9,#T_6a26dbfa_84d1_11eb_b99f_0991e3985f1drow12_col15,#T_6a26dbfa_84d1_11eb_b99f_0991e3985f1drow14_col19,#T_6a26dbfa_84d1_11eb_b99f_0991e3985f1drow23_col6{\n",
       "            font-size:  6pt;\n",
       "            background-color:  #545454;\n",
       "            color:  #f1f1f1;\n",
       "        }#T_6a26dbfa_84d1_11eb_b99f_0991e3985f1drow7_col10{\n",
       "            font-size:  6pt;\n",
       "            background-color:  #e6e6e6;\n",
       "            color:  #000000;\n",
       "        }#T_6a26dbfa_84d1_11eb_b99f_0991e3985f1drow7_col11,#T_6a26dbfa_84d1_11eb_b99f_0991e3985f1drow7_col14,#T_6a26dbfa_84d1_11eb_b99f_0991e3985f1drow12_col9{\n",
       "            font-size:  6pt;\n",
       "            background-color:  #fafafa;\n",
       "            color:  #000000;\n",
       "        }#T_6a26dbfa_84d1_11eb_b99f_0991e3985f1drow7_col12,#T_6a26dbfa_84d1_11eb_b99f_0991e3985f1drow15_col14,#T_6a26dbfa_84d1_11eb_b99f_0991e3985f1drow20_col19{\n",
       "            font-size:  6pt;\n",
       "            background-color:  #fbfbfb;\n",
       "            color:  #000000;\n",
       "        }#T_6a26dbfa_84d1_11eb_b99f_0991e3985f1drow7_col13{\n",
       "            font-size:  6pt;\n",
       "            background-color:  #fdfdfd;\n",
       "            color:  #000000;\n",
       "        }#T_6a26dbfa_84d1_11eb_b99f_0991e3985f1drow8_col8{\n",
       "            font-size:  6pt;\n",
       "            background-color:  #1b1b1b;\n",
       "            color:  #f1f1f1;\n",
       "        }#T_6a26dbfa_84d1_11eb_b99f_0991e3985f1drow8_col15{\n",
       "            font-size:  6pt;\n",
       "            background-color:  #4e4e4e;\n",
       "            color:  #f1f1f1;\n",
       "        }#T_6a26dbfa_84d1_11eb_b99f_0991e3985f1drow8_col18{\n",
       "            font-size:  6pt;\n",
       "            background-color:  #767676;\n",
       "            color:  #000000;\n",
       "        }#T_6a26dbfa_84d1_11eb_b99f_0991e3985f1drow9_col5{\n",
       "            font-size:  6pt;\n",
       "            background-color:  #fcfcfc;\n",
       "            color:  #000000;\n",
       "        }#T_6a26dbfa_84d1_11eb_b99f_0991e3985f1drow9_col6,#T_6a26dbfa_84d1_11eb_b99f_0991e3985f1drow9_col7,#T_6a26dbfa_84d1_11eb_b99f_0991e3985f1drow19_col20{\n",
       "            font-size:  6pt;\n",
       "            background-color:  #f6f6f6;\n",
       "            color:  #000000;\n",
       "        }#T_6a26dbfa_84d1_11eb_b99f_0991e3985f1drow9_col8,#T_6a26dbfa_84d1_11eb_b99f_0991e3985f1drow11_col11{\n",
       "            font-size:  6pt;\n",
       "            background-color:  #f8f8f8;\n",
       "            color:  #000000;\n",
       "        }#T_6a26dbfa_84d1_11eb_b99f_0991e3985f1drow9_col14,#T_6a26dbfa_84d1_11eb_b99f_0991e3985f1drow14_col11{\n",
       "            font-size:  6pt;\n",
       "            background-color:  #e8e8e8;\n",
       "            color:  #000000;\n",
       "        }#T_6a26dbfa_84d1_11eb_b99f_0991e3985f1drow9_col17,#T_6a26dbfa_84d1_11eb_b99f_0991e3985f1drow10_col16{\n",
       "            font-size:  6pt;\n",
       "            background-color:  #090909;\n",
       "            color:  #f1f1f1;\n",
       "        }#T_6a26dbfa_84d1_11eb_b99f_0991e3985f1drow9_col18{\n",
       "            font-size:  6pt;\n",
       "            background-color:  #d0d0d0;\n",
       "            color:  #000000;\n",
       "        }#T_6a26dbfa_84d1_11eb_b99f_0991e3985f1drow10_col14,#T_6a26dbfa_84d1_11eb_b99f_0991e3985f1drow11_col15,#T_6a26dbfa_84d1_11eb_b99f_0991e3985f1drow13_col10{\n",
       "            font-size:  6pt;\n",
       "            background-color:  #060606;\n",
       "            color:  #f1f1f1;\n",
       "        }#T_6a26dbfa_84d1_11eb_b99f_0991e3985f1drow10_col17{\n",
       "            font-size:  6pt;\n",
       "            background-color:  #979797;\n",
       "            color:  #000000;\n",
       "        }#T_6a26dbfa_84d1_11eb_b99f_0991e3985f1drow11_col12{\n",
       "            font-size:  6pt;\n",
       "            background-color:  #b6b6b6;\n",
       "            color:  #000000;\n",
       "        }#T_6a26dbfa_84d1_11eb_b99f_0991e3985f1drow11_col13{\n",
       "            font-size:  6pt;\n",
       "            background-color:  #252525;\n",
       "            color:  #f1f1f1;\n",
       "        }#T_6a26dbfa_84d1_11eb_b99f_0991e3985f1drow11_col16{\n",
       "            font-size:  6pt;\n",
       "            background-color:  #999999;\n",
       "            color:  #000000;\n",
       "        }#T_6a26dbfa_84d1_11eb_b99f_0991e3985f1drow12_col11,#T_6a26dbfa_84d1_11eb_b99f_0991e3985f1drow22_col12{\n",
       "            font-size:  6pt;\n",
       "            background-color:  #101010;\n",
       "            color:  #f1f1f1;\n",
       "        }#T_6a26dbfa_84d1_11eb_b99f_0991e3985f1drow12_col13,#T_6a26dbfa_84d1_11eb_b99f_0991e3985f1drow13_col13,#T_6a26dbfa_84d1_11eb_b99f_0991e3985f1drow21_col14,#T_6a26dbfa_84d1_11eb_b99f_0991e3985f1drow22_col13,#T_6a26dbfa_84d1_11eb_b99f_0991e3985f1drow23_col13{\n",
       "            font-size:  6pt;\n",
       "            background-color:  #020202;\n",
       "            color:  #f1f1f1;\n",
       "        }#T_6a26dbfa_84d1_11eb_b99f_0991e3985f1drow13_col9{\n",
       "            font-size:  6pt;\n",
       "            background-color:  #f7f7f7;\n",
       "            color:  #000000;\n",
       "        }#T_6a26dbfa_84d1_11eb_b99f_0991e3985f1drow13_col11,#T_6a26dbfa_84d1_11eb_b99f_0991e3985f1drow22_col15{\n",
       "            font-size:  6pt;\n",
       "            background-color:  #030303;\n",
       "            color:  #f1f1f1;\n",
       "        }#T_6a26dbfa_84d1_11eb_b99f_0991e3985f1drow13_col16{\n",
       "            font-size:  6pt;\n",
       "            background-color:  #181818;\n",
       "            color:  #f1f1f1;\n",
       "        }#T_6a26dbfa_84d1_11eb_b99f_0991e3985f1drow13_col17{\n",
       "            font-size:  6pt;\n",
       "            background-color:  #303030;\n",
       "            color:  #f1f1f1;\n",
       "        }#T_6a26dbfa_84d1_11eb_b99f_0991e3985f1drow13_col18{\n",
       "            font-size:  6pt;\n",
       "            background-color:  #a9a9a9;\n",
       "            color:  #000000;\n",
       "        }#T_6a26dbfa_84d1_11eb_b99f_0991e3985f1drow13_col19{\n",
       "            font-size:  6pt;\n",
       "            background-color:  #fefefe;\n",
       "            color:  #000000;\n",
       "        }#T_6a26dbfa_84d1_11eb_b99f_0991e3985f1drow14_col12,#T_6a26dbfa_84d1_11eb_b99f_0991e3985f1drow14_col13,#T_6a26dbfa_84d1_11eb_b99f_0991e3985f1drow20_col14{\n",
       "            font-size:  6pt;\n",
       "            background-color:  #bababa;\n",
       "            color:  #000000;\n",
       "        }#T_6a26dbfa_84d1_11eb_b99f_0991e3985f1drow14_col14{\n",
       "            font-size:  6pt;\n",
       "            background-color:  #393939;\n",
       "            color:  #f1f1f1;\n",
       "        }#T_6a26dbfa_84d1_11eb_b99f_0991e3985f1drow14_col20{\n",
       "            font-size:  6pt;\n",
       "            background-color:  #eaeaea;\n",
       "            color:  #000000;\n",
       "        }#T_6a26dbfa_84d1_11eb_b99f_0991e3985f1drow15_col15{\n",
       "            font-size:  6pt;\n",
       "            background-color:  #e2e2e2;\n",
       "            color:  #000000;\n",
       "        }#T_6a26dbfa_84d1_11eb_b99f_0991e3985f1drow15_col16{\n",
       "            font-size:  6pt;\n",
       "            background-color:  #9f9f9f;\n",
       "            color:  #000000;\n",
       "        }#T_6a26dbfa_84d1_11eb_b99f_0991e3985f1drow15_col20{\n",
       "            font-size:  6pt;\n",
       "            background-color:  #898989;\n",
       "            color:  #000000;\n",
       "        }#T_6a26dbfa_84d1_11eb_b99f_0991e3985f1drow16_col17{\n",
       "            font-size:  6pt;\n",
       "            background-color:  #585858;\n",
       "            color:  #f1f1f1;\n",
       "        }#T_6a26dbfa_84d1_11eb_b99f_0991e3985f1drow17_col17{\n",
       "            font-size:  6pt;\n",
       "            background-color:  #5a5a5a;\n",
       "            color:  #f1f1f1;\n",
       "        }#T_6a26dbfa_84d1_11eb_b99f_0991e3985f1drow17_col20{\n",
       "            font-size:  6pt;\n",
       "            background-color:  #525252;\n",
       "            color:  #f1f1f1;\n",
       "        }#T_6a26dbfa_84d1_11eb_b99f_0991e3985f1drow18_col16,#T_6a26dbfa_84d1_11eb_b99f_0991e3985f1drow23_col15{\n",
       "            font-size:  6pt;\n",
       "            background-color:  #c5c5c5;\n",
       "            color:  #000000;\n",
       "        }#T_6a26dbfa_84d1_11eb_b99f_0991e3985f1drow18_col20{\n",
       "            font-size:  6pt;\n",
       "            background-color:  #d7d7d7;\n",
       "            color:  #000000;\n",
       "        }#T_6a26dbfa_84d1_11eb_b99f_0991e3985f1drow19_col15,#T_6a26dbfa_84d1_11eb_b99f_0991e3985f1drow22_col9{\n",
       "            font-size:  6pt;\n",
       "            background-color:  #dcdcdc;\n",
       "            color:  #000000;\n",
       "        }#T_6a26dbfa_84d1_11eb_b99f_0991e3985f1drow19_col16{\n",
       "            font-size:  6pt;\n",
       "            background-color:  #2f2f2f;\n",
       "            color:  #f1f1f1;\n",
       "        }#T_6a26dbfa_84d1_11eb_b99f_0991e3985f1drow19_col19{\n",
       "            font-size:  6pt;\n",
       "            background-color:  #636363;\n",
       "            color:  #f1f1f1;\n",
       "        }#T_6a26dbfa_84d1_11eb_b99f_0991e3985f1drow20_col15{\n",
       "            font-size:  6pt;\n",
       "            background-color:  #070707;\n",
       "            color:  #f1f1f1;\n",
       "        }#T_6a26dbfa_84d1_11eb_b99f_0991e3985f1drow20_col18{\n",
       "            font-size:  6pt;\n",
       "            background-color:  #1f1f1f;\n",
       "            color:  #f1f1f1;\n",
       "        }#T_6a26dbfa_84d1_11eb_b99f_0991e3985f1drow21_col12,#T_6a26dbfa_84d1_11eb_b99f_0991e3985f1drow22_col6,#T_6a26dbfa_84d1_11eb_b99f_0991e3985f1drow22_col8{\n",
       "            font-size:  6pt;\n",
       "            background-color:  #e9e9e9;\n",
       "            color:  #000000;\n",
       "        }#T_6a26dbfa_84d1_11eb_b99f_0991e3985f1drow21_col13{\n",
       "            font-size:  6pt;\n",
       "            background-color:  #7d7d7d;\n",
       "            color:  #000000;\n",
       "        }#T_6a26dbfa_84d1_11eb_b99f_0991e3985f1drow21_col18{\n",
       "            font-size:  6pt;\n",
       "            background-color:  #e1e1e1;\n",
       "            color:  #000000;\n",
       "        }#T_6a26dbfa_84d1_11eb_b99f_0991e3985f1drow22_col7,#T_6a26dbfa_84d1_11eb_b99f_0991e3985f1drow22_col10{\n",
       "            font-size:  6pt;\n",
       "            background-color:  #a4a4a4;\n",
       "            color:  #000000;\n",
       "        }#T_6a26dbfa_84d1_11eb_b99f_0991e3985f1drow22_col11{\n",
       "            font-size:  6pt;\n",
       "            background-color:  #727272;\n",
       "            color:  #000000;\n",
       "        }#T_6a26dbfa_84d1_11eb_b99f_0991e3985f1drow22_col16{\n",
       "            font-size:  6pt;\n",
       "            background-color:  #616161;\n",
       "            color:  #f1f1f1;\n",
       "        }#T_6a26dbfa_84d1_11eb_b99f_0991e3985f1drow22_col17{\n",
       "            font-size:  6pt;\n",
       "            background-color:  #f3f3f3;\n",
       "            color:  #000000;\n",
       "        }#T_6a26dbfa_84d1_11eb_b99f_0991e3985f1drow23_col14{\n",
       "            font-size:  6pt;\n",
       "            background-color:  #484848;\n",
       "            color:  #f1f1f1;\n",
       "        }#T_6a26dbfa_84d1_11eb_b99f_0991e3985f1drow24_col6{\n",
       "            font-size:  6pt;\n",
       "            background-color:  #b3b3b3;\n",
       "            color:  #000000;\n",
       "        }#T_6a26dbfa_84d1_11eb_b99f_0991e3985f1drow24_col12{\n",
       "            font-size:  6pt;\n",
       "            background-color:  #1a1a1a;\n",
       "            color:  #f1f1f1;\n",
       "        }#T_6a26dbfa_84d1_11eb_b99f_0991e3985f1drow24_col13{\n",
       "            font-size:  6pt;\n",
       "            background-color:  #d6d6d6;\n",
       "            color:  #000000;\n",
       "        }</style><table id=\"T_6a26dbfa_84d1_11eb_b99f_0991e3985f1d\" ><thead>    <tr>        <th class=\"blank level0\" ></th>        <th class=\"col_heading level0 col0\" >0</th>        <th class=\"col_heading level0 col1\" >1</th>        <th class=\"col_heading level0 col2\" >2</th>        <th class=\"col_heading level0 col3\" >3</th>        <th class=\"col_heading level0 col4\" >4</th>        <th class=\"col_heading level0 col5\" >5</th>        <th class=\"col_heading level0 col6\" >6</th>        <th class=\"col_heading level0 col7\" >7</th>        <th class=\"col_heading level0 col8\" >8</th>        <th class=\"col_heading level0 col9\" >9</th>        <th class=\"col_heading level0 col10\" >10</th>        <th class=\"col_heading level0 col11\" >11</th>        <th class=\"col_heading level0 col12\" >12</th>        <th class=\"col_heading level0 col13\" >13</th>        <th class=\"col_heading level0 col14\" >14</th>        <th class=\"col_heading level0 col15\" >15</th>        <th class=\"col_heading level0 col16\" >16</th>        <th class=\"col_heading level0 col17\" >17</th>        <th class=\"col_heading level0 col18\" >18</th>        <th class=\"col_heading level0 col19\" >19</th>        <th class=\"col_heading level0 col20\" >20</th>        <th class=\"col_heading level0 col21\" >21</th>        <th class=\"col_heading level0 col22\" >22</th>        <th class=\"col_heading level0 col23\" >23</th>        <th class=\"col_heading level0 col24\" >24</th>        <th class=\"col_heading level0 col25\" >25</th>        <th class=\"col_heading level0 col26\" >26</th>    </tr></thead><tbody>\n",
       "                <tr>\n",
       "                        <th id=\"T_6a26dbfa_84d1_11eb_b99f_0991e3985f1dlevel0_row0\" class=\"row_heading level0 row0\" >0</th>\n",
       "                        <td id=\"T_6a26dbfa_84d1_11eb_b99f_0991e3985f1drow0_col0\" class=\"data row0 col0\" >0</td>\n",
       "                        <td id=\"T_6a26dbfa_84d1_11eb_b99f_0991e3985f1drow0_col1\" class=\"data row0 col1\" >0</td>\n",
       "                        <td id=\"T_6a26dbfa_84d1_11eb_b99f_0991e3985f1drow0_col2\" class=\"data row0 col2\" >0</td>\n",
       "                        <td id=\"T_6a26dbfa_84d1_11eb_b99f_0991e3985f1drow0_col3\" class=\"data row0 col3\" >0</td>\n",
       "                        <td id=\"T_6a26dbfa_84d1_11eb_b99f_0991e3985f1drow0_col4\" class=\"data row0 col4\" >0</td>\n",
       "                        <td id=\"T_6a26dbfa_84d1_11eb_b99f_0991e3985f1drow0_col5\" class=\"data row0 col5\" >0</td>\n",
       "                        <td id=\"T_6a26dbfa_84d1_11eb_b99f_0991e3985f1drow0_col6\" class=\"data row0 col6\" >0</td>\n",
       "                        <td id=\"T_6a26dbfa_84d1_11eb_b99f_0991e3985f1drow0_col7\" class=\"data row0 col7\" >0</td>\n",
       "                        <td id=\"T_6a26dbfa_84d1_11eb_b99f_0991e3985f1drow0_col8\" class=\"data row0 col8\" >0</td>\n",
       "                        <td id=\"T_6a26dbfa_84d1_11eb_b99f_0991e3985f1drow0_col9\" class=\"data row0 col9\" >0</td>\n",
       "                        <td id=\"T_6a26dbfa_84d1_11eb_b99f_0991e3985f1drow0_col10\" class=\"data row0 col10\" >0</td>\n",
       "                        <td id=\"T_6a26dbfa_84d1_11eb_b99f_0991e3985f1drow0_col11\" class=\"data row0 col11\" >0</td>\n",
       "                        <td id=\"T_6a26dbfa_84d1_11eb_b99f_0991e3985f1drow0_col12\" class=\"data row0 col12\" >0</td>\n",
       "                        <td id=\"T_6a26dbfa_84d1_11eb_b99f_0991e3985f1drow0_col13\" class=\"data row0 col13\" >0</td>\n",
       "                        <td id=\"T_6a26dbfa_84d1_11eb_b99f_0991e3985f1drow0_col14\" class=\"data row0 col14\" >0</td>\n",
       "                        <td id=\"T_6a26dbfa_84d1_11eb_b99f_0991e3985f1drow0_col15\" class=\"data row0 col15\" >0</td>\n",
       "                        <td id=\"T_6a26dbfa_84d1_11eb_b99f_0991e3985f1drow0_col16\" class=\"data row0 col16\" >0</td>\n",
       "                        <td id=\"T_6a26dbfa_84d1_11eb_b99f_0991e3985f1drow0_col17\" class=\"data row0 col17\" >0</td>\n",
       "                        <td id=\"T_6a26dbfa_84d1_11eb_b99f_0991e3985f1drow0_col18\" class=\"data row0 col18\" >0</td>\n",
       "                        <td id=\"T_6a26dbfa_84d1_11eb_b99f_0991e3985f1drow0_col19\" class=\"data row0 col19\" >0</td>\n",
       "                        <td id=\"T_6a26dbfa_84d1_11eb_b99f_0991e3985f1drow0_col20\" class=\"data row0 col20\" >0</td>\n",
       "                        <td id=\"T_6a26dbfa_84d1_11eb_b99f_0991e3985f1drow0_col21\" class=\"data row0 col21\" >0</td>\n",
       "                        <td id=\"T_6a26dbfa_84d1_11eb_b99f_0991e3985f1drow0_col22\" class=\"data row0 col22\" >0</td>\n",
       "                        <td id=\"T_6a26dbfa_84d1_11eb_b99f_0991e3985f1drow0_col23\" class=\"data row0 col23\" >0</td>\n",
       "                        <td id=\"T_6a26dbfa_84d1_11eb_b99f_0991e3985f1drow0_col24\" class=\"data row0 col24\" >0</td>\n",
       "                        <td id=\"T_6a26dbfa_84d1_11eb_b99f_0991e3985f1drow0_col25\" class=\"data row0 col25\" >0</td>\n",
       "                        <td id=\"T_6a26dbfa_84d1_11eb_b99f_0991e3985f1drow0_col26\" class=\"data row0 col26\" >0</td>\n",
       "            </tr>\n",
       "            <tr>\n",
       "                        <th id=\"T_6a26dbfa_84d1_11eb_b99f_0991e3985f1dlevel0_row1\" class=\"row_heading level0 row1\" >1</th>\n",
       "                        <td id=\"T_6a26dbfa_84d1_11eb_b99f_0991e3985f1drow1_col0\" class=\"data row1 col0\" >0</td>\n",
       "                        <td id=\"T_6a26dbfa_84d1_11eb_b99f_0991e3985f1drow1_col1\" class=\"data row1 col1\" >0</td>\n",
       "                        <td id=\"T_6a26dbfa_84d1_11eb_b99f_0991e3985f1drow1_col2\" class=\"data row1 col2\" >0</td>\n",
       "                        <td id=\"T_6a26dbfa_84d1_11eb_b99f_0991e3985f1drow1_col3\" class=\"data row1 col3\" >0</td>\n",
       "                        <td id=\"T_6a26dbfa_84d1_11eb_b99f_0991e3985f1drow1_col4\" class=\"data row1 col4\" >0</td>\n",
       "                        <td id=\"T_6a26dbfa_84d1_11eb_b99f_0991e3985f1drow1_col5\" class=\"data row1 col5\" >0</td>\n",
       "                        <td id=\"T_6a26dbfa_84d1_11eb_b99f_0991e3985f1drow1_col6\" class=\"data row1 col6\" >0</td>\n",
       "                        <td id=\"T_6a26dbfa_84d1_11eb_b99f_0991e3985f1drow1_col7\" class=\"data row1 col7\" >0</td>\n",
       "                        <td id=\"T_6a26dbfa_84d1_11eb_b99f_0991e3985f1drow1_col8\" class=\"data row1 col8\" >0</td>\n",
       "                        <td id=\"T_6a26dbfa_84d1_11eb_b99f_0991e3985f1drow1_col9\" class=\"data row1 col9\" >0</td>\n",
       "                        <td id=\"T_6a26dbfa_84d1_11eb_b99f_0991e3985f1drow1_col10\" class=\"data row1 col10\" >0</td>\n",
       "                        <td id=\"T_6a26dbfa_84d1_11eb_b99f_0991e3985f1drow1_col11\" class=\"data row1 col11\" >0</td>\n",
       "                        <td id=\"T_6a26dbfa_84d1_11eb_b99f_0991e3985f1drow1_col12\" class=\"data row1 col12\" >0</td>\n",
       "                        <td id=\"T_6a26dbfa_84d1_11eb_b99f_0991e3985f1drow1_col13\" class=\"data row1 col13\" >0</td>\n",
       "                        <td id=\"T_6a26dbfa_84d1_11eb_b99f_0991e3985f1drow1_col14\" class=\"data row1 col14\" >0</td>\n",
       "                        <td id=\"T_6a26dbfa_84d1_11eb_b99f_0991e3985f1drow1_col15\" class=\"data row1 col15\" >0</td>\n",
       "                        <td id=\"T_6a26dbfa_84d1_11eb_b99f_0991e3985f1drow1_col16\" class=\"data row1 col16\" >0</td>\n",
       "                        <td id=\"T_6a26dbfa_84d1_11eb_b99f_0991e3985f1drow1_col17\" class=\"data row1 col17\" >0</td>\n",
       "                        <td id=\"T_6a26dbfa_84d1_11eb_b99f_0991e3985f1drow1_col18\" class=\"data row1 col18\" >0</td>\n",
       "                        <td id=\"T_6a26dbfa_84d1_11eb_b99f_0991e3985f1drow1_col19\" class=\"data row1 col19\" >0</td>\n",
       "                        <td id=\"T_6a26dbfa_84d1_11eb_b99f_0991e3985f1drow1_col20\" class=\"data row1 col20\" >0</td>\n",
       "                        <td id=\"T_6a26dbfa_84d1_11eb_b99f_0991e3985f1drow1_col21\" class=\"data row1 col21\" >0</td>\n",
       "                        <td id=\"T_6a26dbfa_84d1_11eb_b99f_0991e3985f1drow1_col22\" class=\"data row1 col22\" >0</td>\n",
       "                        <td id=\"T_6a26dbfa_84d1_11eb_b99f_0991e3985f1drow1_col23\" class=\"data row1 col23\" >0</td>\n",
       "                        <td id=\"T_6a26dbfa_84d1_11eb_b99f_0991e3985f1drow1_col24\" class=\"data row1 col24\" >0</td>\n",
       "                        <td id=\"T_6a26dbfa_84d1_11eb_b99f_0991e3985f1drow1_col25\" class=\"data row1 col25\" >0</td>\n",
       "                        <td id=\"T_6a26dbfa_84d1_11eb_b99f_0991e3985f1drow1_col26\" class=\"data row1 col26\" >0</td>\n",
       "            </tr>\n",
       "            <tr>\n",
       "                        <th id=\"T_6a26dbfa_84d1_11eb_b99f_0991e3985f1dlevel0_row2\" class=\"row_heading level0 row2\" >2</th>\n",
       "                        <td id=\"T_6a26dbfa_84d1_11eb_b99f_0991e3985f1drow2_col0\" class=\"data row2 col0\" >0</td>\n",
       "                        <td id=\"T_6a26dbfa_84d1_11eb_b99f_0991e3985f1drow2_col1\" class=\"data row2 col1\" >0</td>\n",
       "                        <td id=\"T_6a26dbfa_84d1_11eb_b99f_0991e3985f1drow2_col2\" class=\"data row2 col2\" >0</td>\n",
       "                        <td id=\"T_6a26dbfa_84d1_11eb_b99f_0991e3985f1drow2_col3\" class=\"data row2 col3\" >0</td>\n",
       "                        <td id=\"T_6a26dbfa_84d1_11eb_b99f_0991e3985f1drow2_col4\" class=\"data row2 col4\" >0</td>\n",
       "                        <td id=\"T_6a26dbfa_84d1_11eb_b99f_0991e3985f1drow2_col5\" class=\"data row2 col5\" >0</td>\n",
       "                        <td id=\"T_6a26dbfa_84d1_11eb_b99f_0991e3985f1drow2_col6\" class=\"data row2 col6\" >0</td>\n",
       "                        <td id=\"T_6a26dbfa_84d1_11eb_b99f_0991e3985f1drow2_col7\" class=\"data row2 col7\" >0</td>\n",
       "                        <td id=\"T_6a26dbfa_84d1_11eb_b99f_0991e3985f1drow2_col8\" class=\"data row2 col8\" >0</td>\n",
       "                        <td id=\"T_6a26dbfa_84d1_11eb_b99f_0991e3985f1drow2_col9\" class=\"data row2 col9\" >0</td>\n",
       "                        <td id=\"T_6a26dbfa_84d1_11eb_b99f_0991e3985f1drow2_col10\" class=\"data row2 col10\" >0</td>\n",
       "                        <td id=\"T_6a26dbfa_84d1_11eb_b99f_0991e3985f1drow2_col11\" class=\"data row2 col11\" >0</td>\n",
       "                        <td id=\"T_6a26dbfa_84d1_11eb_b99f_0991e3985f1drow2_col12\" class=\"data row2 col12\" >0</td>\n",
       "                        <td id=\"T_6a26dbfa_84d1_11eb_b99f_0991e3985f1drow2_col13\" class=\"data row2 col13\" >0</td>\n",
       "                        <td id=\"T_6a26dbfa_84d1_11eb_b99f_0991e3985f1drow2_col14\" class=\"data row2 col14\" >0</td>\n",
       "                        <td id=\"T_6a26dbfa_84d1_11eb_b99f_0991e3985f1drow2_col15\" class=\"data row2 col15\" >0</td>\n",
       "                        <td id=\"T_6a26dbfa_84d1_11eb_b99f_0991e3985f1drow2_col16\" class=\"data row2 col16\" >0</td>\n",
       "                        <td id=\"T_6a26dbfa_84d1_11eb_b99f_0991e3985f1drow2_col17\" class=\"data row2 col17\" >0</td>\n",
       "                        <td id=\"T_6a26dbfa_84d1_11eb_b99f_0991e3985f1drow2_col18\" class=\"data row2 col18\" >0</td>\n",
       "                        <td id=\"T_6a26dbfa_84d1_11eb_b99f_0991e3985f1drow2_col19\" class=\"data row2 col19\" >0</td>\n",
       "                        <td id=\"T_6a26dbfa_84d1_11eb_b99f_0991e3985f1drow2_col20\" class=\"data row2 col20\" >0</td>\n",
       "                        <td id=\"T_6a26dbfa_84d1_11eb_b99f_0991e3985f1drow2_col21\" class=\"data row2 col21\" >0</td>\n",
       "                        <td id=\"T_6a26dbfa_84d1_11eb_b99f_0991e3985f1drow2_col22\" class=\"data row2 col22\" >0</td>\n",
       "                        <td id=\"T_6a26dbfa_84d1_11eb_b99f_0991e3985f1drow2_col23\" class=\"data row2 col23\" >0</td>\n",
       "                        <td id=\"T_6a26dbfa_84d1_11eb_b99f_0991e3985f1drow2_col24\" class=\"data row2 col24\" >0</td>\n",
       "                        <td id=\"T_6a26dbfa_84d1_11eb_b99f_0991e3985f1drow2_col25\" class=\"data row2 col25\" >0</td>\n",
       "                        <td id=\"T_6a26dbfa_84d1_11eb_b99f_0991e3985f1drow2_col26\" class=\"data row2 col26\" >0</td>\n",
       "            </tr>\n",
       "            <tr>\n",
       "                        <th id=\"T_6a26dbfa_84d1_11eb_b99f_0991e3985f1dlevel0_row3\" class=\"row_heading level0 row3\" >3</th>\n",
       "                        <td id=\"T_6a26dbfa_84d1_11eb_b99f_0991e3985f1drow3_col0\" class=\"data row3 col0\" >0</td>\n",
       "                        <td id=\"T_6a26dbfa_84d1_11eb_b99f_0991e3985f1drow3_col1\" class=\"data row3 col1\" >0</td>\n",
       "                        <td id=\"T_6a26dbfa_84d1_11eb_b99f_0991e3985f1drow3_col2\" class=\"data row3 col2\" >0</td>\n",
       "                        <td id=\"T_6a26dbfa_84d1_11eb_b99f_0991e3985f1drow3_col3\" class=\"data row3 col3\" >0</td>\n",
       "                        <td id=\"T_6a26dbfa_84d1_11eb_b99f_0991e3985f1drow3_col4\" class=\"data row3 col4\" >0</td>\n",
       "                        <td id=\"T_6a26dbfa_84d1_11eb_b99f_0991e3985f1drow3_col5\" class=\"data row3 col5\" >0</td>\n",
       "                        <td id=\"T_6a26dbfa_84d1_11eb_b99f_0991e3985f1drow3_col6\" class=\"data row3 col6\" >0</td>\n",
       "                        <td id=\"T_6a26dbfa_84d1_11eb_b99f_0991e3985f1drow3_col7\" class=\"data row3 col7\" >0</td>\n",
       "                        <td id=\"T_6a26dbfa_84d1_11eb_b99f_0991e3985f1drow3_col8\" class=\"data row3 col8\" >0</td>\n",
       "                        <td id=\"T_6a26dbfa_84d1_11eb_b99f_0991e3985f1drow3_col9\" class=\"data row3 col9\" >0</td>\n",
       "                        <td id=\"T_6a26dbfa_84d1_11eb_b99f_0991e3985f1drow3_col10\" class=\"data row3 col10\" >0</td>\n",
       "                        <td id=\"T_6a26dbfa_84d1_11eb_b99f_0991e3985f1drow3_col11\" class=\"data row3 col11\" >0</td>\n",
       "                        <td id=\"T_6a26dbfa_84d1_11eb_b99f_0991e3985f1drow3_col12\" class=\"data row3 col12\" >0</td>\n",
       "                        <td id=\"T_6a26dbfa_84d1_11eb_b99f_0991e3985f1drow3_col13\" class=\"data row3 col13\" >0</td>\n",
       "                        <td id=\"T_6a26dbfa_84d1_11eb_b99f_0991e3985f1drow3_col14\" class=\"data row3 col14\" >0</td>\n",
       "                        <td id=\"T_6a26dbfa_84d1_11eb_b99f_0991e3985f1drow3_col15\" class=\"data row3 col15\" >0</td>\n",
       "                        <td id=\"T_6a26dbfa_84d1_11eb_b99f_0991e3985f1drow3_col16\" class=\"data row3 col16\" >0</td>\n",
       "                        <td id=\"T_6a26dbfa_84d1_11eb_b99f_0991e3985f1drow3_col17\" class=\"data row3 col17\" >0</td>\n",
       "                        <td id=\"T_6a26dbfa_84d1_11eb_b99f_0991e3985f1drow3_col18\" class=\"data row3 col18\" >0</td>\n",
       "                        <td id=\"T_6a26dbfa_84d1_11eb_b99f_0991e3985f1drow3_col19\" class=\"data row3 col19\" >0</td>\n",
       "                        <td id=\"T_6a26dbfa_84d1_11eb_b99f_0991e3985f1drow3_col20\" class=\"data row3 col20\" >0</td>\n",
       "                        <td id=\"T_6a26dbfa_84d1_11eb_b99f_0991e3985f1drow3_col21\" class=\"data row3 col21\" >0</td>\n",
       "                        <td id=\"T_6a26dbfa_84d1_11eb_b99f_0991e3985f1drow3_col22\" class=\"data row3 col22\" >0</td>\n",
       "                        <td id=\"T_6a26dbfa_84d1_11eb_b99f_0991e3985f1drow3_col23\" class=\"data row3 col23\" >0</td>\n",
       "                        <td id=\"T_6a26dbfa_84d1_11eb_b99f_0991e3985f1drow3_col24\" class=\"data row3 col24\" >0</td>\n",
       "                        <td id=\"T_6a26dbfa_84d1_11eb_b99f_0991e3985f1drow3_col25\" class=\"data row3 col25\" >0</td>\n",
       "                        <td id=\"T_6a26dbfa_84d1_11eb_b99f_0991e3985f1drow3_col26\" class=\"data row3 col26\" >0</td>\n",
       "            </tr>\n",
       "            <tr>\n",
       "                        <th id=\"T_6a26dbfa_84d1_11eb_b99f_0991e3985f1dlevel0_row4\" class=\"row_heading level0 row4\" >4</th>\n",
       "                        <td id=\"T_6a26dbfa_84d1_11eb_b99f_0991e3985f1drow4_col0\" class=\"data row4 col0\" >0</td>\n",
       "                        <td id=\"T_6a26dbfa_84d1_11eb_b99f_0991e3985f1drow4_col1\" class=\"data row4 col1\" >0</td>\n",
       "                        <td id=\"T_6a26dbfa_84d1_11eb_b99f_0991e3985f1drow4_col2\" class=\"data row4 col2\" >0</td>\n",
       "                        <td id=\"T_6a26dbfa_84d1_11eb_b99f_0991e3985f1drow4_col3\" class=\"data row4 col3\" >0</td>\n",
       "                        <td id=\"T_6a26dbfa_84d1_11eb_b99f_0991e3985f1drow4_col4\" class=\"data row4 col4\" >0</td>\n",
       "                        <td id=\"T_6a26dbfa_84d1_11eb_b99f_0991e3985f1drow4_col5\" class=\"data row4 col5\" >0</td>\n",
       "                        <td id=\"T_6a26dbfa_84d1_11eb_b99f_0991e3985f1drow4_col6\" class=\"data row4 col6\" >0</td>\n",
       "                        <td id=\"T_6a26dbfa_84d1_11eb_b99f_0991e3985f1drow4_col7\" class=\"data row4 col7\" >0</td>\n",
       "                        <td id=\"T_6a26dbfa_84d1_11eb_b99f_0991e3985f1drow4_col8\" class=\"data row4 col8\" >0</td>\n",
       "                        <td id=\"T_6a26dbfa_84d1_11eb_b99f_0991e3985f1drow4_col9\" class=\"data row4 col9\" >0</td>\n",
       "                        <td id=\"T_6a26dbfa_84d1_11eb_b99f_0991e3985f1drow4_col10\" class=\"data row4 col10\" >0</td>\n",
       "                        <td id=\"T_6a26dbfa_84d1_11eb_b99f_0991e3985f1drow4_col11\" class=\"data row4 col11\" >0</td>\n",
       "                        <td id=\"T_6a26dbfa_84d1_11eb_b99f_0991e3985f1drow4_col12\" class=\"data row4 col12\" >0</td>\n",
       "                        <td id=\"T_6a26dbfa_84d1_11eb_b99f_0991e3985f1drow4_col13\" class=\"data row4 col13\" >0</td>\n",
       "                        <td id=\"T_6a26dbfa_84d1_11eb_b99f_0991e3985f1drow4_col14\" class=\"data row4 col14\" >0</td>\n",
       "                        <td id=\"T_6a26dbfa_84d1_11eb_b99f_0991e3985f1drow4_col15\" class=\"data row4 col15\" >0</td>\n",
       "                        <td id=\"T_6a26dbfa_84d1_11eb_b99f_0991e3985f1drow4_col16\" class=\"data row4 col16\" >0</td>\n",
       "                        <td id=\"T_6a26dbfa_84d1_11eb_b99f_0991e3985f1drow4_col17\" class=\"data row4 col17\" >0</td>\n",
       "                        <td id=\"T_6a26dbfa_84d1_11eb_b99f_0991e3985f1drow4_col18\" class=\"data row4 col18\" >0</td>\n",
       "                        <td id=\"T_6a26dbfa_84d1_11eb_b99f_0991e3985f1drow4_col19\" class=\"data row4 col19\" >0</td>\n",
       "                        <td id=\"T_6a26dbfa_84d1_11eb_b99f_0991e3985f1drow4_col20\" class=\"data row4 col20\" >0</td>\n",
       "                        <td id=\"T_6a26dbfa_84d1_11eb_b99f_0991e3985f1drow4_col21\" class=\"data row4 col21\" >0</td>\n",
       "                        <td id=\"T_6a26dbfa_84d1_11eb_b99f_0991e3985f1drow4_col22\" class=\"data row4 col22\" >0</td>\n",
       "                        <td id=\"T_6a26dbfa_84d1_11eb_b99f_0991e3985f1drow4_col23\" class=\"data row4 col23\" >0</td>\n",
       "                        <td id=\"T_6a26dbfa_84d1_11eb_b99f_0991e3985f1drow4_col24\" class=\"data row4 col24\" >0</td>\n",
       "                        <td id=\"T_6a26dbfa_84d1_11eb_b99f_0991e3985f1drow4_col25\" class=\"data row4 col25\" >0</td>\n",
       "                        <td id=\"T_6a26dbfa_84d1_11eb_b99f_0991e3985f1drow4_col26\" class=\"data row4 col26\" >0</td>\n",
       "            </tr>\n",
       "            <tr>\n",
       "                        <th id=\"T_6a26dbfa_84d1_11eb_b99f_0991e3985f1dlevel0_row5\" class=\"row_heading level0 row5\" >5</th>\n",
       "                        <td id=\"T_6a26dbfa_84d1_11eb_b99f_0991e3985f1drow5_col0\" class=\"data row5 col0\" >0</td>\n",
       "                        <td id=\"T_6a26dbfa_84d1_11eb_b99f_0991e3985f1drow5_col1\" class=\"data row5 col1\" >0</td>\n",
       "                        <td id=\"T_6a26dbfa_84d1_11eb_b99f_0991e3985f1drow5_col2\" class=\"data row5 col2\" >0</td>\n",
       "                        <td id=\"T_6a26dbfa_84d1_11eb_b99f_0991e3985f1drow5_col3\" class=\"data row5 col3\" >0</td>\n",
       "                        <td id=\"T_6a26dbfa_84d1_11eb_b99f_0991e3985f1drow5_col4\" class=\"data row5 col4\" >0</td>\n",
       "                        <td id=\"T_6a26dbfa_84d1_11eb_b99f_0991e3985f1drow5_col5\" class=\"data row5 col5\" >0</td>\n",
       "                        <td id=\"T_6a26dbfa_84d1_11eb_b99f_0991e3985f1drow5_col6\" class=\"data row5 col6\" >0</td>\n",
       "                        <td id=\"T_6a26dbfa_84d1_11eb_b99f_0991e3985f1drow5_col7\" class=\"data row5 col7\" >0</td>\n",
       "                        <td id=\"T_6a26dbfa_84d1_11eb_b99f_0991e3985f1drow5_col8\" class=\"data row5 col8\" >0</td>\n",
       "                        <td id=\"T_6a26dbfa_84d1_11eb_b99f_0991e3985f1drow5_col9\" class=\"data row5 col9\" >29</td>\n",
       "                        <td id=\"T_6a26dbfa_84d1_11eb_b99f_0991e3985f1drow5_col10\" class=\"data row5 col10\" >150</td>\n",
       "                        <td id=\"T_6a26dbfa_84d1_11eb_b99f_0991e3985f1drow5_col11\" class=\"data row5 col11\" >195</td>\n",
       "                        <td id=\"T_6a26dbfa_84d1_11eb_b99f_0991e3985f1drow5_col12\" class=\"data row5 col12\" >254</td>\n",
       "                        <td id=\"T_6a26dbfa_84d1_11eb_b99f_0991e3985f1drow5_col13\" class=\"data row5 col13\" >255</td>\n",
       "                        <td id=\"T_6a26dbfa_84d1_11eb_b99f_0991e3985f1drow5_col14\" class=\"data row5 col14\" >254</td>\n",
       "                        <td id=\"T_6a26dbfa_84d1_11eb_b99f_0991e3985f1drow5_col15\" class=\"data row5 col15\" >176</td>\n",
       "                        <td id=\"T_6a26dbfa_84d1_11eb_b99f_0991e3985f1drow5_col16\" class=\"data row5 col16\" >193</td>\n",
       "                        <td id=\"T_6a26dbfa_84d1_11eb_b99f_0991e3985f1drow5_col17\" class=\"data row5 col17\" >150</td>\n",
       "                        <td id=\"T_6a26dbfa_84d1_11eb_b99f_0991e3985f1drow5_col18\" class=\"data row5 col18\" >96</td>\n",
       "                        <td id=\"T_6a26dbfa_84d1_11eb_b99f_0991e3985f1drow5_col19\" class=\"data row5 col19\" >0</td>\n",
       "                        <td id=\"T_6a26dbfa_84d1_11eb_b99f_0991e3985f1drow5_col20\" class=\"data row5 col20\" >0</td>\n",
       "                        <td id=\"T_6a26dbfa_84d1_11eb_b99f_0991e3985f1drow5_col21\" class=\"data row5 col21\" >0</td>\n",
       "                        <td id=\"T_6a26dbfa_84d1_11eb_b99f_0991e3985f1drow5_col22\" class=\"data row5 col22\" >0</td>\n",
       "                        <td id=\"T_6a26dbfa_84d1_11eb_b99f_0991e3985f1drow5_col23\" class=\"data row5 col23\" >0</td>\n",
       "                        <td id=\"T_6a26dbfa_84d1_11eb_b99f_0991e3985f1drow5_col24\" class=\"data row5 col24\" >0</td>\n",
       "                        <td id=\"T_6a26dbfa_84d1_11eb_b99f_0991e3985f1drow5_col25\" class=\"data row5 col25\" >0</td>\n",
       "                        <td id=\"T_6a26dbfa_84d1_11eb_b99f_0991e3985f1drow5_col26\" class=\"data row5 col26\" >0</td>\n",
       "            </tr>\n",
       "            <tr>\n",
       "                        <th id=\"T_6a26dbfa_84d1_11eb_b99f_0991e3985f1dlevel0_row6\" class=\"row_heading level0 row6\" >6</th>\n",
       "                        <td id=\"T_6a26dbfa_84d1_11eb_b99f_0991e3985f1drow6_col0\" class=\"data row6 col0\" >0</td>\n",
       "                        <td id=\"T_6a26dbfa_84d1_11eb_b99f_0991e3985f1drow6_col1\" class=\"data row6 col1\" >0</td>\n",
       "                        <td id=\"T_6a26dbfa_84d1_11eb_b99f_0991e3985f1drow6_col2\" class=\"data row6 col2\" >0</td>\n",
       "                        <td id=\"T_6a26dbfa_84d1_11eb_b99f_0991e3985f1drow6_col3\" class=\"data row6 col3\" >0</td>\n",
       "                        <td id=\"T_6a26dbfa_84d1_11eb_b99f_0991e3985f1drow6_col4\" class=\"data row6 col4\" >0</td>\n",
       "                        <td id=\"T_6a26dbfa_84d1_11eb_b99f_0991e3985f1drow6_col5\" class=\"data row6 col5\" >0</td>\n",
       "                        <td id=\"T_6a26dbfa_84d1_11eb_b99f_0991e3985f1drow6_col6\" class=\"data row6 col6\" >0</td>\n",
       "                        <td id=\"T_6a26dbfa_84d1_11eb_b99f_0991e3985f1drow6_col7\" class=\"data row6 col7\" >48</td>\n",
       "                        <td id=\"T_6a26dbfa_84d1_11eb_b99f_0991e3985f1drow6_col8\" class=\"data row6 col8\" >166</td>\n",
       "                        <td id=\"T_6a26dbfa_84d1_11eb_b99f_0991e3985f1drow6_col9\" class=\"data row6 col9\" >224</td>\n",
       "                        <td id=\"T_6a26dbfa_84d1_11eb_b99f_0991e3985f1drow6_col10\" class=\"data row6 col10\" >253</td>\n",
       "                        <td id=\"T_6a26dbfa_84d1_11eb_b99f_0991e3985f1drow6_col11\" class=\"data row6 col11\" >253</td>\n",
       "                        <td id=\"T_6a26dbfa_84d1_11eb_b99f_0991e3985f1drow6_col12\" class=\"data row6 col12\" >234</td>\n",
       "                        <td id=\"T_6a26dbfa_84d1_11eb_b99f_0991e3985f1drow6_col13\" class=\"data row6 col13\" >196</td>\n",
       "                        <td id=\"T_6a26dbfa_84d1_11eb_b99f_0991e3985f1drow6_col14\" class=\"data row6 col14\" >253</td>\n",
       "                        <td id=\"T_6a26dbfa_84d1_11eb_b99f_0991e3985f1drow6_col15\" class=\"data row6 col15\" >253</td>\n",
       "                        <td id=\"T_6a26dbfa_84d1_11eb_b99f_0991e3985f1drow6_col16\" class=\"data row6 col16\" >253</td>\n",
       "                        <td id=\"T_6a26dbfa_84d1_11eb_b99f_0991e3985f1drow6_col17\" class=\"data row6 col17\" >253</td>\n",
       "                        <td id=\"T_6a26dbfa_84d1_11eb_b99f_0991e3985f1drow6_col18\" class=\"data row6 col18\" >233</td>\n",
       "                        <td id=\"T_6a26dbfa_84d1_11eb_b99f_0991e3985f1drow6_col19\" class=\"data row6 col19\" >0</td>\n",
       "                        <td id=\"T_6a26dbfa_84d1_11eb_b99f_0991e3985f1drow6_col20\" class=\"data row6 col20\" >0</td>\n",
       "                        <td id=\"T_6a26dbfa_84d1_11eb_b99f_0991e3985f1drow6_col21\" class=\"data row6 col21\" >0</td>\n",
       "                        <td id=\"T_6a26dbfa_84d1_11eb_b99f_0991e3985f1drow6_col22\" class=\"data row6 col22\" >0</td>\n",
       "                        <td id=\"T_6a26dbfa_84d1_11eb_b99f_0991e3985f1drow6_col23\" class=\"data row6 col23\" >0</td>\n",
       "                        <td id=\"T_6a26dbfa_84d1_11eb_b99f_0991e3985f1drow6_col24\" class=\"data row6 col24\" >0</td>\n",
       "                        <td id=\"T_6a26dbfa_84d1_11eb_b99f_0991e3985f1drow6_col25\" class=\"data row6 col25\" >0</td>\n",
       "                        <td id=\"T_6a26dbfa_84d1_11eb_b99f_0991e3985f1drow6_col26\" class=\"data row6 col26\" >0</td>\n",
       "            </tr>\n",
       "            <tr>\n",
       "                        <th id=\"T_6a26dbfa_84d1_11eb_b99f_0991e3985f1dlevel0_row7\" class=\"row_heading level0 row7\" >7</th>\n",
       "                        <td id=\"T_6a26dbfa_84d1_11eb_b99f_0991e3985f1drow7_col0\" class=\"data row7 col0\" >0</td>\n",
       "                        <td id=\"T_6a26dbfa_84d1_11eb_b99f_0991e3985f1drow7_col1\" class=\"data row7 col1\" >0</td>\n",
       "                        <td id=\"T_6a26dbfa_84d1_11eb_b99f_0991e3985f1drow7_col2\" class=\"data row7 col2\" >0</td>\n",
       "                        <td id=\"T_6a26dbfa_84d1_11eb_b99f_0991e3985f1drow7_col3\" class=\"data row7 col3\" >0</td>\n",
       "                        <td id=\"T_6a26dbfa_84d1_11eb_b99f_0991e3985f1drow7_col4\" class=\"data row7 col4\" >0</td>\n",
       "                        <td id=\"T_6a26dbfa_84d1_11eb_b99f_0991e3985f1drow7_col5\" class=\"data row7 col5\" >93</td>\n",
       "                        <td id=\"T_6a26dbfa_84d1_11eb_b99f_0991e3985f1drow7_col6\" class=\"data row7 col6\" >244</td>\n",
       "                        <td id=\"T_6a26dbfa_84d1_11eb_b99f_0991e3985f1drow7_col7\" class=\"data row7 col7\" >249</td>\n",
       "                        <td id=\"T_6a26dbfa_84d1_11eb_b99f_0991e3985f1drow7_col8\" class=\"data row7 col8\" >253</td>\n",
       "                        <td id=\"T_6a26dbfa_84d1_11eb_b99f_0991e3985f1drow7_col9\" class=\"data row7 col9\" >187</td>\n",
       "                        <td id=\"T_6a26dbfa_84d1_11eb_b99f_0991e3985f1drow7_col10\" class=\"data row7 col10\" >46</td>\n",
       "                        <td id=\"T_6a26dbfa_84d1_11eb_b99f_0991e3985f1drow7_col11\" class=\"data row7 col11\" >10</td>\n",
       "                        <td id=\"T_6a26dbfa_84d1_11eb_b99f_0991e3985f1drow7_col12\" class=\"data row7 col12\" >8</td>\n",
       "                        <td id=\"T_6a26dbfa_84d1_11eb_b99f_0991e3985f1drow7_col13\" class=\"data row7 col13\" >4</td>\n",
       "                        <td id=\"T_6a26dbfa_84d1_11eb_b99f_0991e3985f1drow7_col14\" class=\"data row7 col14\" >10</td>\n",
       "                        <td id=\"T_6a26dbfa_84d1_11eb_b99f_0991e3985f1drow7_col15\" class=\"data row7 col15\" >194</td>\n",
       "                        <td id=\"T_6a26dbfa_84d1_11eb_b99f_0991e3985f1drow7_col16\" class=\"data row7 col16\" >253</td>\n",
       "                        <td id=\"T_6a26dbfa_84d1_11eb_b99f_0991e3985f1drow7_col17\" class=\"data row7 col17\" >253</td>\n",
       "                        <td id=\"T_6a26dbfa_84d1_11eb_b99f_0991e3985f1drow7_col18\" class=\"data row7 col18\" >233</td>\n",
       "                        <td id=\"T_6a26dbfa_84d1_11eb_b99f_0991e3985f1drow7_col19\" class=\"data row7 col19\" >0</td>\n",
       "                        <td id=\"T_6a26dbfa_84d1_11eb_b99f_0991e3985f1drow7_col20\" class=\"data row7 col20\" >0</td>\n",
       "                        <td id=\"T_6a26dbfa_84d1_11eb_b99f_0991e3985f1drow7_col21\" class=\"data row7 col21\" >0</td>\n",
       "                        <td id=\"T_6a26dbfa_84d1_11eb_b99f_0991e3985f1drow7_col22\" class=\"data row7 col22\" >0</td>\n",
       "                        <td id=\"T_6a26dbfa_84d1_11eb_b99f_0991e3985f1drow7_col23\" class=\"data row7 col23\" >0</td>\n",
       "                        <td id=\"T_6a26dbfa_84d1_11eb_b99f_0991e3985f1drow7_col24\" class=\"data row7 col24\" >0</td>\n",
       "                        <td id=\"T_6a26dbfa_84d1_11eb_b99f_0991e3985f1drow7_col25\" class=\"data row7 col25\" >0</td>\n",
       "                        <td id=\"T_6a26dbfa_84d1_11eb_b99f_0991e3985f1drow7_col26\" class=\"data row7 col26\" >0</td>\n",
       "            </tr>\n",
       "            <tr>\n",
       "                        <th id=\"T_6a26dbfa_84d1_11eb_b99f_0991e3985f1dlevel0_row8\" class=\"row_heading level0 row8\" >8</th>\n",
       "                        <td id=\"T_6a26dbfa_84d1_11eb_b99f_0991e3985f1drow8_col0\" class=\"data row8 col0\" >0</td>\n",
       "                        <td id=\"T_6a26dbfa_84d1_11eb_b99f_0991e3985f1drow8_col1\" class=\"data row8 col1\" >0</td>\n",
       "                        <td id=\"T_6a26dbfa_84d1_11eb_b99f_0991e3985f1drow8_col2\" class=\"data row8 col2\" >0</td>\n",
       "                        <td id=\"T_6a26dbfa_84d1_11eb_b99f_0991e3985f1drow8_col3\" class=\"data row8 col3\" >0</td>\n",
       "                        <td id=\"T_6a26dbfa_84d1_11eb_b99f_0991e3985f1drow8_col4\" class=\"data row8 col4\" >0</td>\n",
       "                        <td id=\"T_6a26dbfa_84d1_11eb_b99f_0991e3985f1drow8_col5\" class=\"data row8 col5\" >107</td>\n",
       "                        <td id=\"T_6a26dbfa_84d1_11eb_b99f_0991e3985f1drow8_col6\" class=\"data row8 col6\" >253</td>\n",
       "                        <td id=\"T_6a26dbfa_84d1_11eb_b99f_0991e3985f1drow8_col7\" class=\"data row8 col7\" >253</td>\n",
       "                        <td id=\"T_6a26dbfa_84d1_11eb_b99f_0991e3985f1drow8_col8\" class=\"data row8 col8\" >230</td>\n",
       "                        <td id=\"T_6a26dbfa_84d1_11eb_b99f_0991e3985f1drow8_col9\" class=\"data row8 col9\" >48</td>\n",
       "                        <td id=\"T_6a26dbfa_84d1_11eb_b99f_0991e3985f1drow8_col10\" class=\"data row8 col10\" >0</td>\n",
       "                        <td id=\"T_6a26dbfa_84d1_11eb_b99f_0991e3985f1drow8_col11\" class=\"data row8 col11\" >0</td>\n",
       "                        <td id=\"T_6a26dbfa_84d1_11eb_b99f_0991e3985f1drow8_col12\" class=\"data row8 col12\" >0</td>\n",
       "                        <td id=\"T_6a26dbfa_84d1_11eb_b99f_0991e3985f1drow8_col13\" class=\"data row8 col13\" >0</td>\n",
       "                        <td id=\"T_6a26dbfa_84d1_11eb_b99f_0991e3985f1drow8_col14\" class=\"data row8 col14\" >0</td>\n",
       "                        <td id=\"T_6a26dbfa_84d1_11eb_b99f_0991e3985f1drow8_col15\" class=\"data row8 col15\" >192</td>\n",
       "                        <td id=\"T_6a26dbfa_84d1_11eb_b99f_0991e3985f1drow8_col16\" class=\"data row8 col16\" >253</td>\n",
       "                        <td id=\"T_6a26dbfa_84d1_11eb_b99f_0991e3985f1drow8_col17\" class=\"data row8 col17\" >253</td>\n",
       "                        <td id=\"T_6a26dbfa_84d1_11eb_b99f_0991e3985f1drow8_col18\" class=\"data row8 col18\" >156</td>\n",
       "                        <td id=\"T_6a26dbfa_84d1_11eb_b99f_0991e3985f1drow8_col19\" class=\"data row8 col19\" >0</td>\n",
       "                        <td id=\"T_6a26dbfa_84d1_11eb_b99f_0991e3985f1drow8_col20\" class=\"data row8 col20\" >0</td>\n",
       "                        <td id=\"T_6a26dbfa_84d1_11eb_b99f_0991e3985f1drow8_col21\" class=\"data row8 col21\" >0</td>\n",
       "                        <td id=\"T_6a26dbfa_84d1_11eb_b99f_0991e3985f1drow8_col22\" class=\"data row8 col22\" >0</td>\n",
       "                        <td id=\"T_6a26dbfa_84d1_11eb_b99f_0991e3985f1drow8_col23\" class=\"data row8 col23\" >0</td>\n",
       "                        <td id=\"T_6a26dbfa_84d1_11eb_b99f_0991e3985f1drow8_col24\" class=\"data row8 col24\" >0</td>\n",
       "                        <td id=\"T_6a26dbfa_84d1_11eb_b99f_0991e3985f1drow8_col25\" class=\"data row8 col25\" >0</td>\n",
       "                        <td id=\"T_6a26dbfa_84d1_11eb_b99f_0991e3985f1drow8_col26\" class=\"data row8 col26\" >0</td>\n",
       "            </tr>\n",
       "            <tr>\n",
       "                        <th id=\"T_6a26dbfa_84d1_11eb_b99f_0991e3985f1dlevel0_row9\" class=\"row_heading level0 row9\" >9</th>\n",
       "                        <td id=\"T_6a26dbfa_84d1_11eb_b99f_0991e3985f1drow9_col0\" class=\"data row9 col0\" >0</td>\n",
       "                        <td id=\"T_6a26dbfa_84d1_11eb_b99f_0991e3985f1drow9_col1\" class=\"data row9 col1\" >0</td>\n",
       "                        <td id=\"T_6a26dbfa_84d1_11eb_b99f_0991e3985f1drow9_col2\" class=\"data row9 col2\" >0</td>\n",
       "                        <td id=\"T_6a26dbfa_84d1_11eb_b99f_0991e3985f1drow9_col3\" class=\"data row9 col3\" >0</td>\n",
       "                        <td id=\"T_6a26dbfa_84d1_11eb_b99f_0991e3985f1drow9_col4\" class=\"data row9 col4\" >0</td>\n",
       "                        <td id=\"T_6a26dbfa_84d1_11eb_b99f_0991e3985f1drow9_col5\" class=\"data row9 col5\" >3</td>\n",
       "                        <td id=\"T_6a26dbfa_84d1_11eb_b99f_0991e3985f1drow9_col6\" class=\"data row9 col6\" >20</td>\n",
       "                        <td id=\"T_6a26dbfa_84d1_11eb_b99f_0991e3985f1drow9_col7\" class=\"data row9 col7\" >20</td>\n",
       "                        <td id=\"T_6a26dbfa_84d1_11eb_b99f_0991e3985f1drow9_col8\" class=\"data row9 col8\" >15</td>\n",
       "                        <td id=\"T_6a26dbfa_84d1_11eb_b99f_0991e3985f1drow9_col9\" class=\"data row9 col9\" >0</td>\n",
       "                        <td id=\"T_6a26dbfa_84d1_11eb_b99f_0991e3985f1drow9_col10\" class=\"data row9 col10\" >0</td>\n",
       "                        <td id=\"T_6a26dbfa_84d1_11eb_b99f_0991e3985f1drow9_col11\" class=\"data row9 col11\" >0</td>\n",
       "                        <td id=\"T_6a26dbfa_84d1_11eb_b99f_0991e3985f1drow9_col12\" class=\"data row9 col12\" >0</td>\n",
       "                        <td id=\"T_6a26dbfa_84d1_11eb_b99f_0991e3985f1drow9_col13\" class=\"data row9 col13\" >0</td>\n",
       "                        <td id=\"T_6a26dbfa_84d1_11eb_b99f_0991e3985f1drow9_col14\" class=\"data row9 col14\" >43</td>\n",
       "                        <td id=\"T_6a26dbfa_84d1_11eb_b99f_0991e3985f1drow9_col15\" class=\"data row9 col15\" >224</td>\n",
       "                        <td id=\"T_6a26dbfa_84d1_11eb_b99f_0991e3985f1drow9_col16\" class=\"data row9 col16\" >253</td>\n",
       "                        <td id=\"T_6a26dbfa_84d1_11eb_b99f_0991e3985f1drow9_col17\" class=\"data row9 col17\" >245</td>\n",
       "                        <td id=\"T_6a26dbfa_84d1_11eb_b99f_0991e3985f1drow9_col18\" class=\"data row9 col18\" >74</td>\n",
       "                        <td id=\"T_6a26dbfa_84d1_11eb_b99f_0991e3985f1drow9_col19\" class=\"data row9 col19\" >0</td>\n",
       "                        <td id=\"T_6a26dbfa_84d1_11eb_b99f_0991e3985f1drow9_col20\" class=\"data row9 col20\" >0</td>\n",
       "                        <td id=\"T_6a26dbfa_84d1_11eb_b99f_0991e3985f1drow9_col21\" class=\"data row9 col21\" >0</td>\n",
       "                        <td id=\"T_6a26dbfa_84d1_11eb_b99f_0991e3985f1drow9_col22\" class=\"data row9 col22\" >0</td>\n",
       "                        <td id=\"T_6a26dbfa_84d1_11eb_b99f_0991e3985f1drow9_col23\" class=\"data row9 col23\" >0</td>\n",
       "                        <td id=\"T_6a26dbfa_84d1_11eb_b99f_0991e3985f1drow9_col24\" class=\"data row9 col24\" >0</td>\n",
       "                        <td id=\"T_6a26dbfa_84d1_11eb_b99f_0991e3985f1drow9_col25\" class=\"data row9 col25\" >0</td>\n",
       "                        <td id=\"T_6a26dbfa_84d1_11eb_b99f_0991e3985f1drow9_col26\" class=\"data row9 col26\" >0</td>\n",
       "            </tr>\n",
       "            <tr>\n",
       "                        <th id=\"T_6a26dbfa_84d1_11eb_b99f_0991e3985f1dlevel0_row10\" class=\"row_heading level0 row10\" >10</th>\n",
       "                        <td id=\"T_6a26dbfa_84d1_11eb_b99f_0991e3985f1drow10_col0\" class=\"data row10 col0\" >0</td>\n",
       "                        <td id=\"T_6a26dbfa_84d1_11eb_b99f_0991e3985f1drow10_col1\" class=\"data row10 col1\" >0</td>\n",
       "                        <td id=\"T_6a26dbfa_84d1_11eb_b99f_0991e3985f1drow10_col2\" class=\"data row10 col2\" >0</td>\n",
       "                        <td id=\"T_6a26dbfa_84d1_11eb_b99f_0991e3985f1drow10_col3\" class=\"data row10 col3\" >0</td>\n",
       "                        <td id=\"T_6a26dbfa_84d1_11eb_b99f_0991e3985f1drow10_col4\" class=\"data row10 col4\" >0</td>\n",
       "                        <td id=\"T_6a26dbfa_84d1_11eb_b99f_0991e3985f1drow10_col5\" class=\"data row10 col5\" >0</td>\n",
       "                        <td id=\"T_6a26dbfa_84d1_11eb_b99f_0991e3985f1drow10_col6\" class=\"data row10 col6\" >0</td>\n",
       "                        <td id=\"T_6a26dbfa_84d1_11eb_b99f_0991e3985f1drow10_col7\" class=\"data row10 col7\" >0</td>\n",
       "                        <td id=\"T_6a26dbfa_84d1_11eb_b99f_0991e3985f1drow10_col8\" class=\"data row10 col8\" >0</td>\n",
       "                        <td id=\"T_6a26dbfa_84d1_11eb_b99f_0991e3985f1drow10_col9\" class=\"data row10 col9\" >0</td>\n",
       "                        <td id=\"T_6a26dbfa_84d1_11eb_b99f_0991e3985f1drow10_col10\" class=\"data row10 col10\" >0</td>\n",
       "                        <td id=\"T_6a26dbfa_84d1_11eb_b99f_0991e3985f1drow10_col11\" class=\"data row10 col11\" >0</td>\n",
       "                        <td id=\"T_6a26dbfa_84d1_11eb_b99f_0991e3985f1drow10_col12\" class=\"data row10 col12\" >0</td>\n",
       "                        <td id=\"T_6a26dbfa_84d1_11eb_b99f_0991e3985f1drow10_col13\" class=\"data row10 col13\" >0</td>\n",
       "                        <td id=\"T_6a26dbfa_84d1_11eb_b99f_0991e3985f1drow10_col14\" class=\"data row10 col14\" >249</td>\n",
       "                        <td id=\"T_6a26dbfa_84d1_11eb_b99f_0991e3985f1drow10_col15\" class=\"data row10 col15\" >253</td>\n",
       "                        <td id=\"T_6a26dbfa_84d1_11eb_b99f_0991e3985f1drow10_col16\" class=\"data row10 col16\" >245</td>\n",
       "                        <td id=\"T_6a26dbfa_84d1_11eb_b99f_0991e3985f1drow10_col17\" class=\"data row10 col17\" >126</td>\n",
       "                        <td id=\"T_6a26dbfa_84d1_11eb_b99f_0991e3985f1drow10_col18\" class=\"data row10 col18\" >0</td>\n",
       "                        <td id=\"T_6a26dbfa_84d1_11eb_b99f_0991e3985f1drow10_col19\" class=\"data row10 col19\" >0</td>\n",
       "                        <td id=\"T_6a26dbfa_84d1_11eb_b99f_0991e3985f1drow10_col20\" class=\"data row10 col20\" >0</td>\n",
       "                        <td id=\"T_6a26dbfa_84d1_11eb_b99f_0991e3985f1drow10_col21\" class=\"data row10 col21\" >0</td>\n",
       "                        <td id=\"T_6a26dbfa_84d1_11eb_b99f_0991e3985f1drow10_col22\" class=\"data row10 col22\" >0</td>\n",
       "                        <td id=\"T_6a26dbfa_84d1_11eb_b99f_0991e3985f1drow10_col23\" class=\"data row10 col23\" >0</td>\n",
       "                        <td id=\"T_6a26dbfa_84d1_11eb_b99f_0991e3985f1drow10_col24\" class=\"data row10 col24\" >0</td>\n",
       "                        <td id=\"T_6a26dbfa_84d1_11eb_b99f_0991e3985f1drow10_col25\" class=\"data row10 col25\" >0</td>\n",
       "                        <td id=\"T_6a26dbfa_84d1_11eb_b99f_0991e3985f1drow10_col26\" class=\"data row10 col26\" >0</td>\n",
       "            </tr>\n",
       "            <tr>\n",
       "                        <th id=\"T_6a26dbfa_84d1_11eb_b99f_0991e3985f1dlevel0_row11\" class=\"row_heading level0 row11\" >11</th>\n",
       "                        <td id=\"T_6a26dbfa_84d1_11eb_b99f_0991e3985f1drow11_col0\" class=\"data row11 col0\" >0</td>\n",
       "                        <td id=\"T_6a26dbfa_84d1_11eb_b99f_0991e3985f1drow11_col1\" class=\"data row11 col1\" >0</td>\n",
       "                        <td id=\"T_6a26dbfa_84d1_11eb_b99f_0991e3985f1drow11_col2\" class=\"data row11 col2\" >0</td>\n",
       "                        <td id=\"T_6a26dbfa_84d1_11eb_b99f_0991e3985f1drow11_col3\" class=\"data row11 col3\" >0</td>\n",
       "                        <td id=\"T_6a26dbfa_84d1_11eb_b99f_0991e3985f1drow11_col4\" class=\"data row11 col4\" >0</td>\n",
       "                        <td id=\"T_6a26dbfa_84d1_11eb_b99f_0991e3985f1drow11_col5\" class=\"data row11 col5\" >0</td>\n",
       "                        <td id=\"T_6a26dbfa_84d1_11eb_b99f_0991e3985f1drow11_col6\" class=\"data row11 col6\" >0</td>\n",
       "                        <td id=\"T_6a26dbfa_84d1_11eb_b99f_0991e3985f1drow11_col7\" class=\"data row11 col7\" >0</td>\n",
       "                        <td id=\"T_6a26dbfa_84d1_11eb_b99f_0991e3985f1drow11_col8\" class=\"data row11 col8\" >0</td>\n",
       "                        <td id=\"T_6a26dbfa_84d1_11eb_b99f_0991e3985f1drow11_col9\" class=\"data row11 col9\" >0</td>\n",
       "                        <td id=\"T_6a26dbfa_84d1_11eb_b99f_0991e3985f1drow11_col10\" class=\"data row11 col10\" >0</td>\n",
       "                        <td id=\"T_6a26dbfa_84d1_11eb_b99f_0991e3985f1drow11_col11\" class=\"data row11 col11\" >14</td>\n",
       "                        <td id=\"T_6a26dbfa_84d1_11eb_b99f_0991e3985f1drow11_col12\" class=\"data row11 col12\" >101</td>\n",
       "                        <td id=\"T_6a26dbfa_84d1_11eb_b99f_0991e3985f1drow11_col13\" class=\"data row11 col13\" >223</td>\n",
       "                        <td id=\"T_6a26dbfa_84d1_11eb_b99f_0991e3985f1drow11_col14\" class=\"data row11 col14\" >253</td>\n",
       "                        <td id=\"T_6a26dbfa_84d1_11eb_b99f_0991e3985f1drow11_col15\" class=\"data row11 col15\" >248</td>\n",
       "                        <td id=\"T_6a26dbfa_84d1_11eb_b99f_0991e3985f1drow11_col16\" class=\"data row11 col16\" >124</td>\n",
       "                        <td id=\"T_6a26dbfa_84d1_11eb_b99f_0991e3985f1drow11_col17\" class=\"data row11 col17\" >0</td>\n",
       "                        <td id=\"T_6a26dbfa_84d1_11eb_b99f_0991e3985f1drow11_col18\" class=\"data row11 col18\" >0</td>\n",
       "                        <td id=\"T_6a26dbfa_84d1_11eb_b99f_0991e3985f1drow11_col19\" class=\"data row11 col19\" >0</td>\n",
       "                        <td id=\"T_6a26dbfa_84d1_11eb_b99f_0991e3985f1drow11_col20\" class=\"data row11 col20\" >0</td>\n",
       "                        <td id=\"T_6a26dbfa_84d1_11eb_b99f_0991e3985f1drow11_col21\" class=\"data row11 col21\" >0</td>\n",
       "                        <td id=\"T_6a26dbfa_84d1_11eb_b99f_0991e3985f1drow11_col22\" class=\"data row11 col22\" >0</td>\n",
       "                        <td id=\"T_6a26dbfa_84d1_11eb_b99f_0991e3985f1drow11_col23\" class=\"data row11 col23\" >0</td>\n",
       "                        <td id=\"T_6a26dbfa_84d1_11eb_b99f_0991e3985f1drow11_col24\" class=\"data row11 col24\" >0</td>\n",
       "                        <td id=\"T_6a26dbfa_84d1_11eb_b99f_0991e3985f1drow11_col25\" class=\"data row11 col25\" >0</td>\n",
       "                        <td id=\"T_6a26dbfa_84d1_11eb_b99f_0991e3985f1drow11_col26\" class=\"data row11 col26\" >0</td>\n",
       "            </tr>\n",
       "            <tr>\n",
       "                        <th id=\"T_6a26dbfa_84d1_11eb_b99f_0991e3985f1dlevel0_row12\" class=\"row_heading level0 row12\" >12</th>\n",
       "                        <td id=\"T_6a26dbfa_84d1_11eb_b99f_0991e3985f1drow12_col0\" class=\"data row12 col0\" >0</td>\n",
       "                        <td id=\"T_6a26dbfa_84d1_11eb_b99f_0991e3985f1drow12_col1\" class=\"data row12 col1\" >0</td>\n",
       "                        <td id=\"T_6a26dbfa_84d1_11eb_b99f_0991e3985f1drow12_col2\" class=\"data row12 col2\" >0</td>\n",
       "                        <td id=\"T_6a26dbfa_84d1_11eb_b99f_0991e3985f1drow12_col3\" class=\"data row12 col3\" >0</td>\n",
       "                        <td id=\"T_6a26dbfa_84d1_11eb_b99f_0991e3985f1drow12_col4\" class=\"data row12 col4\" >0</td>\n",
       "                        <td id=\"T_6a26dbfa_84d1_11eb_b99f_0991e3985f1drow12_col5\" class=\"data row12 col5\" >0</td>\n",
       "                        <td id=\"T_6a26dbfa_84d1_11eb_b99f_0991e3985f1drow12_col6\" class=\"data row12 col6\" >0</td>\n",
       "                        <td id=\"T_6a26dbfa_84d1_11eb_b99f_0991e3985f1drow12_col7\" class=\"data row12 col7\" >0</td>\n",
       "                        <td id=\"T_6a26dbfa_84d1_11eb_b99f_0991e3985f1drow12_col8\" class=\"data row12 col8\" >0</td>\n",
       "                        <td id=\"T_6a26dbfa_84d1_11eb_b99f_0991e3985f1drow12_col9\" class=\"data row12 col9\" >11</td>\n",
       "                        <td id=\"T_6a26dbfa_84d1_11eb_b99f_0991e3985f1drow12_col10\" class=\"data row12 col10\" >166</td>\n",
       "                        <td id=\"T_6a26dbfa_84d1_11eb_b99f_0991e3985f1drow12_col11\" class=\"data row12 col11\" >239</td>\n",
       "                        <td id=\"T_6a26dbfa_84d1_11eb_b99f_0991e3985f1drow12_col12\" class=\"data row12 col12\" >253</td>\n",
       "                        <td id=\"T_6a26dbfa_84d1_11eb_b99f_0991e3985f1drow12_col13\" class=\"data row12 col13\" >253</td>\n",
       "                        <td id=\"T_6a26dbfa_84d1_11eb_b99f_0991e3985f1drow12_col14\" class=\"data row12 col14\" >253</td>\n",
       "                        <td id=\"T_6a26dbfa_84d1_11eb_b99f_0991e3985f1drow12_col15\" class=\"data row12 col15\" >187</td>\n",
       "                        <td id=\"T_6a26dbfa_84d1_11eb_b99f_0991e3985f1drow12_col16\" class=\"data row12 col16\" >30</td>\n",
       "                        <td id=\"T_6a26dbfa_84d1_11eb_b99f_0991e3985f1drow12_col17\" class=\"data row12 col17\" >0</td>\n",
       "                        <td id=\"T_6a26dbfa_84d1_11eb_b99f_0991e3985f1drow12_col18\" class=\"data row12 col18\" >0</td>\n",
       "                        <td id=\"T_6a26dbfa_84d1_11eb_b99f_0991e3985f1drow12_col19\" class=\"data row12 col19\" >0</td>\n",
       "                        <td id=\"T_6a26dbfa_84d1_11eb_b99f_0991e3985f1drow12_col20\" class=\"data row12 col20\" >0</td>\n",
       "                        <td id=\"T_6a26dbfa_84d1_11eb_b99f_0991e3985f1drow12_col21\" class=\"data row12 col21\" >0</td>\n",
       "                        <td id=\"T_6a26dbfa_84d1_11eb_b99f_0991e3985f1drow12_col22\" class=\"data row12 col22\" >0</td>\n",
       "                        <td id=\"T_6a26dbfa_84d1_11eb_b99f_0991e3985f1drow12_col23\" class=\"data row12 col23\" >0</td>\n",
       "                        <td id=\"T_6a26dbfa_84d1_11eb_b99f_0991e3985f1drow12_col24\" class=\"data row12 col24\" >0</td>\n",
       "                        <td id=\"T_6a26dbfa_84d1_11eb_b99f_0991e3985f1drow12_col25\" class=\"data row12 col25\" >0</td>\n",
       "                        <td id=\"T_6a26dbfa_84d1_11eb_b99f_0991e3985f1drow12_col26\" class=\"data row12 col26\" >0</td>\n",
       "            </tr>\n",
       "            <tr>\n",
       "                        <th id=\"T_6a26dbfa_84d1_11eb_b99f_0991e3985f1dlevel0_row13\" class=\"row_heading level0 row13\" >13</th>\n",
       "                        <td id=\"T_6a26dbfa_84d1_11eb_b99f_0991e3985f1drow13_col0\" class=\"data row13 col0\" >0</td>\n",
       "                        <td id=\"T_6a26dbfa_84d1_11eb_b99f_0991e3985f1drow13_col1\" class=\"data row13 col1\" >0</td>\n",
       "                        <td id=\"T_6a26dbfa_84d1_11eb_b99f_0991e3985f1drow13_col2\" class=\"data row13 col2\" >0</td>\n",
       "                        <td id=\"T_6a26dbfa_84d1_11eb_b99f_0991e3985f1drow13_col3\" class=\"data row13 col3\" >0</td>\n",
       "                        <td id=\"T_6a26dbfa_84d1_11eb_b99f_0991e3985f1drow13_col4\" class=\"data row13 col4\" >0</td>\n",
       "                        <td id=\"T_6a26dbfa_84d1_11eb_b99f_0991e3985f1drow13_col5\" class=\"data row13 col5\" >0</td>\n",
       "                        <td id=\"T_6a26dbfa_84d1_11eb_b99f_0991e3985f1drow13_col6\" class=\"data row13 col6\" >0</td>\n",
       "                        <td id=\"T_6a26dbfa_84d1_11eb_b99f_0991e3985f1drow13_col7\" class=\"data row13 col7\" >0</td>\n",
       "                        <td id=\"T_6a26dbfa_84d1_11eb_b99f_0991e3985f1drow13_col8\" class=\"data row13 col8\" >0</td>\n",
       "                        <td id=\"T_6a26dbfa_84d1_11eb_b99f_0991e3985f1drow13_col9\" class=\"data row13 col9\" >16</td>\n",
       "                        <td id=\"T_6a26dbfa_84d1_11eb_b99f_0991e3985f1drow13_col10\" class=\"data row13 col10\" >248</td>\n",
       "                        <td id=\"T_6a26dbfa_84d1_11eb_b99f_0991e3985f1drow13_col11\" class=\"data row13 col11\" >250</td>\n",
       "                        <td id=\"T_6a26dbfa_84d1_11eb_b99f_0991e3985f1drow13_col12\" class=\"data row13 col12\" >253</td>\n",
       "                        <td id=\"T_6a26dbfa_84d1_11eb_b99f_0991e3985f1drow13_col13\" class=\"data row13 col13\" >253</td>\n",
       "                        <td id=\"T_6a26dbfa_84d1_11eb_b99f_0991e3985f1drow13_col14\" class=\"data row13 col14\" >253</td>\n",
       "                        <td id=\"T_6a26dbfa_84d1_11eb_b99f_0991e3985f1drow13_col15\" class=\"data row13 col15\" >253</td>\n",
       "                        <td id=\"T_6a26dbfa_84d1_11eb_b99f_0991e3985f1drow13_col16\" class=\"data row13 col16\" >232</td>\n",
       "                        <td id=\"T_6a26dbfa_84d1_11eb_b99f_0991e3985f1drow13_col17\" class=\"data row13 col17\" >213</td>\n",
       "                        <td id=\"T_6a26dbfa_84d1_11eb_b99f_0991e3985f1drow13_col18\" class=\"data row13 col18\" >111</td>\n",
       "                        <td id=\"T_6a26dbfa_84d1_11eb_b99f_0991e3985f1drow13_col19\" class=\"data row13 col19\" >2</td>\n",
       "                        <td id=\"T_6a26dbfa_84d1_11eb_b99f_0991e3985f1drow13_col20\" class=\"data row13 col20\" >0</td>\n",
       "                        <td id=\"T_6a26dbfa_84d1_11eb_b99f_0991e3985f1drow13_col21\" class=\"data row13 col21\" >0</td>\n",
       "                        <td id=\"T_6a26dbfa_84d1_11eb_b99f_0991e3985f1drow13_col22\" class=\"data row13 col22\" >0</td>\n",
       "                        <td id=\"T_6a26dbfa_84d1_11eb_b99f_0991e3985f1drow13_col23\" class=\"data row13 col23\" >0</td>\n",
       "                        <td id=\"T_6a26dbfa_84d1_11eb_b99f_0991e3985f1drow13_col24\" class=\"data row13 col24\" >0</td>\n",
       "                        <td id=\"T_6a26dbfa_84d1_11eb_b99f_0991e3985f1drow13_col25\" class=\"data row13 col25\" >0</td>\n",
       "                        <td id=\"T_6a26dbfa_84d1_11eb_b99f_0991e3985f1drow13_col26\" class=\"data row13 col26\" >0</td>\n",
       "            </tr>\n",
       "            <tr>\n",
       "                        <th id=\"T_6a26dbfa_84d1_11eb_b99f_0991e3985f1dlevel0_row14\" class=\"row_heading level0 row14\" >14</th>\n",
       "                        <td id=\"T_6a26dbfa_84d1_11eb_b99f_0991e3985f1drow14_col0\" class=\"data row14 col0\" >0</td>\n",
       "                        <td id=\"T_6a26dbfa_84d1_11eb_b99f_0991e3985f1drow14_col1\" class=\"data row14 col1\" >0</td>\n",
       "                        <td id=\"T_6a26dbfa_84d1_11eb_b99f_0991e3985f1drow14_col2\" class=\"data row14 col2\" >0</td>\n",
       "                        <td id=\"T_6a26dbfa_84d1_11eb_b99f_0991e3985f1drow14_col3\" class=\"data row14 col3\" >0</td>\n",
       "                        <td id=\"T_6a26dbfa_84d1_11eb_b99f_0991e3985f1drow14_col4\" class=\"data row14 col4\" >0</td>\n",
       "                        <td id=\"T_6a26dbfa_84d1_11eb_b99f_0991e3985f1drow14_col5\" class=\"data row14 col5\" >0</td>\n",
       "                        <td id=\"T_6a26dbfa_84d1_11eb_b99f_0991e3985f1drow14_col6\" class=\"data row14 col6\" >0</td>\n",
       "                        <td id=\"T_6a26dbfa_84d1_11eb_b99f_0991e3985f1drow14_col7\" class=\"data row14 col7\" >0</td>\n",
       "                        <td id=\"T_6a26dbfa_84d1_11eb_b99f_0991e3985f1drow14_col8\" class=\"data row14 col8\" >0</td>\n",
       "                        <td id=\"T_6a26dbfa_84d1_11eb_b99f_0991e3985f1drow14_col9\" class=\"data row14 col9\" >0</td>\n",
       "                        <td id=\"T_6a26dbfa_84d1_11eb_b99f_0991e3985f1drow14_col10\" class=\"data row14 col10\" >0</td>\n",
       "                        <td id=\"T_6a26dbfa_84d1_11eb_b99f_0991e3985f1drow14_col11\" class=\"data row14 col11\" >43</td>\n",
       "                        <td id=\"T_6a26dbfa_84d1_11eb_b99f_0991e3985f1drow14_col12\" class=\"data row14 col12\" >98</td>\n",
       "                        <td id=\"T_6a26dbfa_84d1_11eb_b99f_0991e3985f1drow14_col13\" class=\"data row14 col13\" >98</td>\n",
       "                        <td id=\"T_6a26dbfa_84d1_11eb_b99f_0991e3985f1drow14_col14\" class=\"data row14 col14\" >208</td>\n",
       "                        <td id=\"T_6a26dbfa_84d1_11eb_b99f_0991e3985f1drow14_col15\" class=\"data row14 col15\" >253</td>\n",
       "                        <td id=\"T_6a26dbfa_84d1_11eb_b99f_0991e3985f1drow14_col16\" class=\"data row14 col16\" >253</td>\n",
       "                        <td id=\"T_6a26dbfa_84d1_11eb_b99f_0991e3985f1drow14_col17\" class=\"data row14 col17\" >253</td>\n",
       "                        <td id=\"T_6a26dbfa_84d1_11eb_b99f_0991e3985f1drow14_col18\" class=\"data row14 col18\" >253</td>\n",
       "                        <td id=\"T_6a26dbfa_84d1_11eb_b99f_0991e3985f1drow14_col19\" class=\"data row14 col19\" >187</td>\n",
       "                        <td id=\"T_6a26dbfa_84d1_11eb_b99f_0991e3985f1drow14_col20\" class=\"data row14 col20\" >22</td>\n",
       "                        <td id=\"T_6a26dbfa_84d1_11eb_b99f_0991e3985f1drow14_col21\" class=\"data row14 col21\" >0</td>\n",
       "                        <td id=\"T_6a26dbfa_84d1_11eb_b99f_0991e3985f1drow14_col22\" class=\"data row14 col22\" >0</td>\n",
       "                        <td id=\"T_6a26dbfa_84d1_11eb_b99f_0991e3985f1drow14_col23\" class=\"data row14 col23\" >0</td>\n",
       "                        <td id=\"T_6a26dbfa_84d1_11eb_b99f_0991e3985f1drow14_col24\" class=\"data row14 col24\" >0</td>\n",
       "                        <td id=\"T_6a26dbfa_84d1_11eb_b99f_0991e3985f1drow14_col25\" class=\"data row14 col25\" >0</td>\n",
       "                        <td id=\"T_6a26dbfa_84d1_11eb_b99f_0991e3985f1drow14_col26\" class=\"data row14 col26\" >0</td>\n",
       "            </tr>\n",
       "            <tr>\n",
       "                        <th id=\"T_6a26dbfa_84d1_11eb_b99f_0991e3985f1dlevel0_row15\" class=\"row_heading level0 row15\" >15</th>\n",
       "                        <td id=\"T_6a26dbfa_84d1_11eb_b99f_0991e3985f1drow15_col0\" class=\"data row15 col0\" >0</td>\n",
       "                        <td id=\"T_6a26dbfa_84d1_11eb_b99f_0991e3985f1drow15_col1\" class=\"data row15 col1\" >0</td>\n",
       "                        <td id=\"T_6a26dbfa_84d1_11eb_b99f_0991e3985f1drow15_col2\" class=\"data row15 col2\" >0</td>\n",
       "                        <td id=\"T_6a26dbfa_84d1_11eb_b99f_0991e3985f1drow15_col3\" class=\"data row15 col3\" >0</td>\n",
       "                        <td id=\"T_6a26dbfa_84d1_11eb_b99f_0991e3985f1drow15_col4\" class=\"data row15 col4\" >0</td>\n",
       "                        <td id=\"T_6a26dbfa_84d1_11eb_b99f_0991e3985f1drow15_col5\" class=\"data row15 col5\" >0</td>\n",
       "                        <td id=\"T_6a26dbfa_84d1_11eb_b99f_0991e3985f1drow15_col6\" class=\"data row15 col6\" >0</td>\n",
       "                        <td id=\"T_6a26dbfa_84d1_11eb_b99f_0991e3985f1drow15_col7\" class=\"data row15 col7\" >0</td>\n",
       "                        <td id=\"T_6a26dbfa_84d1_11eb_b99f_0991e3985f1drow15_col8\" class=\"data row15 col8\" >0</td>\n",
       "                        <td id=\"T_6a26dbfa_84d1_11eb_b99f_0991e3985f1drow15_col9\" class=\"data row15 col9\" >0</td>\n",
       "                        <td id=\"T_6a26dbfa_84d1_11eb_b99f_0991e3985f1drow15_col10\" class=\"data row15 col10\" >0</td>\n",
       "                        <td id=\"T_6a26dbfa_84d1_11eb_b99f_0991e3985f1drow15_col11\" class=\"data row15 col11\" >0</td>\n",
       "                        <td id=\"T_6a26dbfa_84d1_11eb_b99f_0991e3985f1drow15_col12\" class=\"data row15 col12\" >0</td>\n",
       "                        <td id=\"T_6a26dbfa_84d1_11eb_b99f_0991e3985f1drow15_col13\" class=\"data row15 col13\" >0</td>\n",
       "                        <td id=\"T_6a26dbfa_84d1_11eb_b99f_0991e3985f1drow15_col14\" class=\"data row15 col14\" >9</td>\n",
       "                        <td id=\"T_6a26dbfa_84d1_11eb_b99f_0991e3985f1drow15_col15\" class=\"data row15 col15\" >51</td>\n",
       "                        <td id=\"T_6a26dbfa_84d1_11eb_b99f_0991e3985f1drow15_col16\" class=\"data row15 col16\" >119</td>\n",
       "                        <td id=\"T_6a26dbfa_84d1_11eb_b99f_0991e3985f1drow15_col17\" class=\"data row15 col17\" >253</td>\n",
       "                        <td id=\"T_6a26dbfa_84d1_11eb_b99f_0991e3985f1drow15_col18\" class=\"data row15 col18\" >253</td>\n",
       "                        <td id=\"T_6a26dbfa_84d1_11eb_b99f_0991e3985f1drow15_col19\" class=\"data row15 col19\" >253</td>\n",
       "                        <td id=\"T_6a26dbfa_84d1_11eb_b99f_0991e3985f1drow15_col20\" class=\"data row15 col20\" >76</td>\n",
       "                        <td id=\"T_6a26dbfa_84d1_11eb_b99f_0991e3985f1drow15_col21\" class=\"data row15 col21\" >0</td>\n",
       "                        <td id=\"T_6a26dbfa_84d1_11eb_b99f_0991e3985f1drow15_col22\" class=\"data row15 col22\" >0</td>\n",
       "                        <td id=\"T_6a26dbfa_84d1_11eb_b99f_0991e3985f1drow15_col23\" class=\"data row15 col23\" >0</td>\n",
       "                        <td id=\"T_6a26dbfa_84d1_11eb_b99f_0991e3985f1drow15_col24\" class=\"data row15 col24\" >0</td>\n",
       "                        <td id=\"T_6a26dbfa_84d1_11eb_b99f_0991e3985f1drow15_col25\" class=\"data row15 col25\" >0</td>\n",
       "                        <td id=\"T_6a26dbfa_84d1_11eb_b99f_0991e3985f1drow15_col26\" class=\"data row15 col26\" >0</td>\n",
       "            </tr>\n",
       "            <tr>\n",
       "                        <th id=\"T_6a26dbfa_84d1_11eb_b99f_0991e3985f1dlevel0_row16\" class=\"row_heading level0 row16\" >16</th>\n",
       "                        <td id=\"T_6a26dbfa_84d1_11eb_b99f_0991e3985f1drow16_col0\" class=\"data row16 col0\" >0</td>\n",
       "                        <td id=\"T_6a26dbfa_84d1_11eb_b99f_0991e3985f1drow16_col1\" class=\"data row16 col1\" >0</td>\n",
       "                        <td id=\"T_6a26dbfa_84d1_11eb_b99f_0991e3985f1drow16_col2\" class=\"data row16 col2\" >0</td>\n",
       "                        <td id=\"T_6a26dbfa_84d1_11eb_b99f_0991e3985f1drow16_col3\" class=\"data row16 col3\" >0</td>\n",
       "                        <td id=\"T_6a26dbfa_84d1_11eb_b99f_0991e3985f1drow16_col4\" class=\"data row16 col4\" >0</td>\n",
       "                        <td id=\"T_6a26dbfa_84d1_11eb_b99f_0991e3985f1drow16_col5\" class=\"data row16 col5\" >0</td>\n",
       "                        <td id=\"T_6a26dbfa_84d1_11eb_b99f_0991e3985f1drow16_col6\" class=\"data row16 col6\" >0</td>\n",
       "                        <td id=\"T_6a26dbfa_84d1_11eb_b99f_0991e3985f1drow16_col7\" class=\"data row16 col7\" >0</td>\n",
       "                        <td id=\"T_6a26dbfa_84d1_11eb_b99f_0991e3985f1drow16_col8\" class=\"data row16 col8\" >0</td>\n",
       "                        <td id=\"T_6a26dbfa_84d1_11eb_b99f_0991e3985f1drow16_col9\" class=\"data row16 col9\" >0</td>\n",
       "                        <td id=\"T_6a26dbfa_84d1_11eb_b99f_0991e3985f1drow16_col10\" class=\"data row16 col10\" >0</td>\n",
       "                        <td id=\"T_6a26dbfa_84d1_11eb_b99f_0991e3985f1drow16_col11\" class=\"data row16 col11\" >0</td>\n",
       "                        <td id=\"T_6a26dbfa_84d1_11eb_b99f_0991e3985f1drow16_col12\" class=\"data row16 col12\" >0</td>\n",
       "                        <td id=\"T_6a26dbfa_84d1_11eb_b99f_0991e3985f1drow16_col13\" class=\"data row16 col13\" >0</td>\n",
       "                        <td id=\"T_6a26dbfa_84d1_11eb_b99f_0991e3985f1drow16_col14\" class=\"data row16 col14\" >0</td>\n",
       "                        <td id=\"T_6a26dbfa_84d1_11eb_b99f_0991e3985f1drow16_col15\" class=\"data row16 col15\" >0</td>\n",
       "                        <td id=\"T_6a26dbfa_84d1_11eb_b99f_0991e3985f1drow16_col16\" class=\"data row16 col16\" >1</td>\n",
       "                        <td id=\"T_6a26dbfa_84d1_11eb_b99f_0991e3985f1drow16_col17\" class=\"data row16 col17\" >183</td>\n",
       "                        <td id=\"T_6a26dbfa_84d1_11eb_b99f_0991e3985f1drow16_col18\" class=\"data row16 col18\" >253</td>\n",
       "                        <td id=\"T_6a26dbfa_84d1_11eb_b99f_0991e3985f1drow16_col19\" class=\"data row16 col19\" >253</td>\n",
       "                        <td id=\"T_6a26dbfa_84d1_11eb_b99f_0991e3985f1drow16_col20\" class=\"data row16 col20\" >139</td>\n",
       "                        <td id=\"T_6a26dbfa_84d1_11eb_b99f_0991e3985f1drow16_col21\" class=\"data row16 col21\" >0</td>\n",
       "                        <td id=\"T_6a26dbfa_84d1_11eb_b99f_0991e3985f1drow16_col22\" class=\"data row16 col22\" >0</td>\n",
       "                        <td id=\"T_6a26dbfa_84d1_11eb_b99f_0991e3985f1drow16_col23\" class=\"data row16 col23\" >0</td>\n",
       "                        <td id=\"T_6a26dbfa_84d1_11eb_b99f_0991e3985f1drow16_col24\" class=\"data row16 col24\" >0</td>\n",
       "                        <td id=\"T_6a26dbfa_84d1_11eb_b99f_0991e3985f1drow16_col25\" class=\"data row16 col25\" >0</td>\n",
       "                        <td id=\"T_6a26dbfa_84d1_11eb_b99f_0991e3985f1drow16_col26\" class=\"data row16 col26\" >0</td>\n",
       "            </tr>\n",
       "            <tr>\n",
       "                        <th id=\"T_6a26dbfa_84d1_11eb_b99f_0991e3985f1dlevel0_row17\" class=\"row_heading level0 row17\" >17</th>\n",
       "                        <td id=\"T_6a26dbfa_84d1_11eb_b99f_0991e3985f1drow17_col0\" class=\"data row17 col0\" >0</td>\n",
       "                        <td id=\"T_6a26dbfa_84d1_11eb_b99f_0991e3985f1drow17_col1\" class=\"data row17 col1\" >0</td>\n",
       "                        <td id=\"T_6a26dbfa_84d1_11eb_b99f_0991e3985f1drow17_col2\" class=\"data row17 col2\" >0</td>\n",
       "                        <td id=\"T_6a26dbfa_84d1_11eb_b99f_0991e3985f1drow17_col3\" class=\"data row17 col3\" >0</td>\n",
       "                        <td id=\"T_6a26dbfa_84d1_11eb_b99f_0991e3985f1drow17_col4\" class=\"data row17 col4\" >0</td>\n",
       "                        <td id=\"T_6a26dbfa_84d1_11eb_b99f_0991e3985f1drow17_col5\" class=\"data row17 col5\" >0</td>\n",
       "                        <td id=\"T_6a26dbfa_84d1_11eb_b99f_0991e3985f1drow17_col6\" class=\"data row17 col6\" >0</td>\n",
       "                        <td id=\"T_6a26dbfa_84d1_11eb_b99f_0991e3985f1drow17_col7\" class=\"data row17 col7\" >0</td>\n",
       "                        <td id=\"T_6a26dbfa_84d1_11eb_b99f_0991e3985f1drow17_col8\" class=\"data row17 col8\" >0</td>\n",
       "                        <td id=\"T_6a26dbfa_84d1_11eb_b99f_0991e3985f1drow17_col9\" class=\"data row17 col9\" >0</td>\n",
       "                        <td id=\"T_6a26dbfa_84d1_11eb_b99f_0991e3985f1drow17_col10\" class=\"data row17 col10\" >0</td>\n",
       "                        <td id=\"T_6a26dbfa_84d1_11eb_b99f_0991e3985f1drow17_col11\" class=\"data row17 col11\" >0</td>\n",
       "                        <td id=\"T_6a26dbfa_84d1_11eb_b99f_0991e3985f1drow17_col12\" class=\"data row17 col12\" >0</td>\n",
       "                        <td id=\"T_6a26dbfa_84d1_11eb_b99f_0991e3985f1drow17_col13\" class=\"data row17 col13\" >0</td>\n",
       "                        <td id=\"T_6a26dbfa_84d1_11eb_b99f_0991e3985f1drow17_col14\" class=\"data row17 col14\" >0</td>\n",
       "                        <td id=\"T_6a26dbfa_84d1_11eb_b99f_0991e3985f1drow17_col15\" class=\"data row17 col15\" >0</td>\n",
       "                        <td id=\"T_6a26dbfa_84d1_11eb_b99f_0991e3985f1drow17_col16\" class=\"data row17 col16\" >0</td>\n",
       "                        <td id=\"T_6a26dbfa_84d1_11eb_b99f_0991e3985f1drow17_col17\" class=\"data row17 col17\" >182</td>\n",
       "                        <td id=\"T_6a26dbfa_84d1_11eb_b99f_0991e3985f1drow17_col18\" class=\"data row17 col18\" >253</td>\n",
       "                        <td id=\"T_6a26dbfa_84d1_11eb_b99f_0991e3985f1drow17_col19\" class=\"data row17 col19\" >253</td>\n",
       "                        <td id=\"T_6a26dbfa_84d1_11eb_b99f_0991e3985f1drow17_col20\" class=\"data row17 col20\" >104</td>\n",
       "                        <td id=\"T_6a26dbfa_84d1_11eb_b99f_0991e3985f1drow17_col21\" class=\"data row17 col21\" >0</td>\n",
       "                        <td id=\"T_6a26dbfa_84d1_11eb_b99f_0991e3985f1drow17_col22\" class=\"data row17 col22\" >0</td>\n",
       "                        <td id=\"T_6a26dbfa_84d1_11eb_b99f_0991e3985f1drow17_col23\" class=\"data row17 col23\" >0</td>\n",
       "                        <td id=\"T_6a26dbfa_84d1_11eb_b99f_0991e3985f1drow17_col24\" class=\"data row17 col24\" >0</td>\n",
       "                        <td id=\"T_6a26dbfa_84d1_11eb_b99f_0991e3985f1drow17_col25\" class=\"data row17 col25\" >0</td>\n",
       "                        <td id=\"T_6a26dbfa_84d1_11eb_b99f_0991e3985f1drow17_col26\" class=\"data row17 col26\" >0</td>\n",
       "            </tr>\n",
       "            <tr>\n",
       "                        <th id=\"T_6a26dbfa_84d1_11eb_b99f_0991e3985f1dlevel0_row18\" class=\"row_heading level0 row18\" >18</th>\n",
       "                        <td id=\"T_6a26dbfa_84d1_11eb_b99f_0991e3985f1drow18_col0\" class=\"data row18 col0\" >0</td>\n",
       "                        <td id=\"T_6a26dbfa_84d1_11eb_b99f_0991e3985f1drow18_col1\" class=\"data row18 col1\" >0</td>\n",
       "                        <td id=\"T_6a26dbfa_84d1_11eb_b99f_0991e3985f1drow18_col2\" class=\"data row18 col2\" >0</td>\n",
       "                        <td id=\"T_6a26dbfa_84d1_11eb_b99f_0991e3985f1drow18_col3\" class=\"data row18 col3\" >0</td>\n",
       "                        <td id=\"T_6a26dbfa_84d1_11eb_b99f_0991e3985f1drow18_col4\" class=\"data row18 col4\" >0</td>\n",
       "                        <td id=\"T_6a26dbfa_84d1_11eb_b99f_0991e3985f1drow18_col5\" class=\"data row18 col5\" >0</td>\n",
       "                        <td id=\"T_6a26dbfa_84d1_11eb_b99f_0991e3985f1drow18_col6\" class=\"data row18 col6\" >0</td>\n",
       "                        <td id=\"T_6a26dbfa_84d1_11eb_b99f_0991e3985f1drow18_col7\" class=\"data row18 col7\" >0</td>\n",
       "                        <td id=\"T_6a26dbfa_84d1_11eb_b99f_0991e3985f1drow18_col8\" class=\"data row18 col8\" >0</td>\n",
       "                        <td id=\"T_6a26dbfa_84d1_11eb_b99f_0991e3985f1drow18_col9\" class=\"data row18 col9\" >0</td>\n",
       "                        <td id=\"T_6a26dbfa_84d1_11eb_b99f_0991e3985f1drow18_col10\" class=\"data row18 col10\" >0</td>\n",
       "                        <td id=\"T_6a26dbfa_84d1_11eb_b99f_0991e3985f1drow18_col11\" class=\"data row18 col11\" >0</td>\n",
       "                        <td id=\"T_6a26dbfa_84d1_11eb_b99f_0991e3985f1drow18_col12\" class=\"data row18 col12\" >0</td>\n",
       "                        <td id=\"T_6a26dbfa_84d1_11eb_b99f_0991e3985f1drow18_col13\" class=\"data row18 col13\" >0</td>\n",
       "                        <td id=\"T_6a26dbfa_84d1_11eb_b99f_0991e3985f1drow18_col14\" class=\"data row18 col14\" >0</td>\n",
       "                        <td id=\"T_6a26dbfa_84d1_11eb_b99f_0991e3985f1drow18_col15\" class=\"data row18 col15\" >0</td>\n",
       "                        <td id=\"T_6a26dbfa_84d1_11eb_b99f_0991e3985f1drow18_col16\" class=\"data row18 col16\" >85</td>\n",
       "                        <td id=\"T_6a26dbfa_84d1_11eb_b99f_0991e3985f1drow18_col17\" class=\"data row18 col17\" >249</td>\n",
       "                        <td id=\"T_6a26dbfa_84d1_11eb_b99f_0991e3985f1drow18_col18\" class=\"data row18 col18\" >253</td>\n",
       "                        <td id=\"T_6a26dbfa_84d1_11eb_b99f_0991e3985f1drow18_col19\" class=\"data row18 col19\" >253</td>\n",
       "                        <td id=\"T_6a26dbfa_84d1_11eb_b99f_0991e3985f1drow18_col20\" class=\"data row18 col20\" >36</td>\n",
       "                        <td id=\"T_6a26dbfa_84d1_11eb_b99f_0991e3985f1drow18_col21\" class=\"data row18 col21\" >0</td>\n",
       "                        <td id=\"T_6a26dbfa_84d1_11eb_b99f_0991e3985f1drow18_col22\" class=\"data row18 col22\" >0</td>\n",
       "                        <td id=\"T_6a26dbfa_84d1_11eb_b99f_0991e3985f1drow18_col23\" class=\"data row18 col23\" >0</td>\n",
       "                        <td id=\"T_6a26dbfa_84d1_11eb_b99f_0991e3985f1drow18_col24\" class=\"data row18 col24\" >0</td>\n",
       "                        <td id=\"T_6a26dbfa_84d1_11eb_b99f_0991e3985f1drow18_col25\" class=\"data row18 col25\" >0</td>\n",
       "                        <td id=\"T_6a26dbfa_84d1_11eb_b99f_0991e3985f1drow18_col26\" class=\"data row18 col26\" >0</td>\n",
       "            </tr>\n",
       "            <tr>\n",
       "                        <th id=\"T_6a26dbfa_84d1_11eb_b99f_0991e3985f1dlevel0_row19\" class=\"row_heading level0 row19\" >19</th>\n",
       "                        <td id=\"T_6a26dbfa_84d1_11eb_b99f_0991e3985f1drow19_col0\" class=\"data row19 col0\" >0</td>\n",
       "                        <td id=\"T_6a26dbfa_84d1_11eb_b99f_0991e3985f1drow19_col1\" class=\"data row19 col1\" >0</td>\n",
       "                        <td id=\"T_6a26dbfa_84d1_11eb_b99f_0991e3985f1drow19_col2\" class=\"data row19 col2\" >0</td>\n",
       "                        <td id=\"T_6a26dbfa_84d1_11eb_b99f_0991e3985f1drow19_col3\" class=\"data row19 col3\" >0</td>\n",
       "                        <td id=\"T_6a26dbfa_84d1_11eb_b99f_0991e3985f1drow19_col4\" class=\"data row19 col4\" >0</td>\n",
       "                        <td id=\"T_6a26dbfa_84d1_11eb_b99f_0991e3985f1drow19_col5\" class=\"data row19 col5\" >0</td>\n",
       "                        <td id=\"T_6a26dbfa_84d1_11eb_b99f_0991e3985f1drow19_col6\" class=\"data row19 col6\" >0</td>\n",
       "                        <td id=\"T_6a26dbfa_84d1_11eb_b99f_0991e3985f1drow19_col7\" class=\"data row19 col7\" >0</td>\n",
       "                        <td id=\"T_6a26dbfa_84d1_11eb_b99f_0991e3985f1drow19_col8\" class=\"data row19 col8\" >0</td>\n",
       "                        <td id=\"T_6a26dbfa_84d1_11eb_b99f_0991e3985f1drow19_col9\" class=\"data row19 col9\" >0</td>\n",
       "                        <td id=\"T_6a26dbfa_84d1_11eb_b99f_0991e3985f1drow19_col10\" class=\"data row19 col10\" >0</td>\n",
       "                        <td id=\"T_6a26dbfa_84d1_11eb_b99f_0991e3985f1drow19_col11\" class=\"data row19 col11\" >0</td>\n",
       "                        <td id=\"T_6a26dbfa_84d1_11eb_b99f_0991e3985f1drow19_col12\" class=\"data row19 col12\" >0</td>\n",
       "                        <td id=\"T_6a26dbfa_84d1_11eb_b99f_0991e3985f1drow19_col13\" class=\"data row19 col13\" >0</td>\n",
       "                        <td id=\"T_6a26dbfa_84d1_11eb_b99f_0991e3985f1drow19_col14\" class=\"data row19 col14\" >0</td>\n",
       "                        <td id=\"T_6a26dbfa_84d1_11eb_b99f_0991e3985f1drow19_col15\" class=\"data row19 col15\" >60</td>\n",
       "                        <td id=\"T_6a26dbfa_84d1_11eb_b99f_0991e3985f1drow19_col16\" class=\"data row19 col16\" >214</td>\n",
       "                        <td id=\"T_6a26dbfa_84d1_11eb_b99f_0991e3985f1drow19_col17\" class=\"data row19 col17\" >253</td>\n",
       "                        <td id=\"T_6a26dbfa_84d1_11eb_b99f_0991e3985f1drow19_col18\" class=\"data row19 col18\" >253</td>\n",
       "                        <td id=\"T_6a26dbfa_84d1_11eb_b99f_0991e3985f1drow19_col19\" class=\"data row19 col19\" >173</td>\n",
       "                        <td id=\"T_6a26dbfa_84d1_11eb_b99f_0991e3985f1drow19_col20\" class=\"data row19 col20\" >11</td>\n",
       "                        <td id=\"T_6a26dbfa_84d1_11eb_b99f_0991e3985f1drow19_col21\" class=\"data row19 col21\" >0</td>\n",
       "                        <td id=\"T_6a26dbfa_84d1_11eb_b99f_0991e3985f1drow19_col22\" class=\"data row19 col22\" >0</td>\n",
       "                        <td id=\"T_6a26dbfa_84d1_11eb_b99f_0991e3985f1drow19_col23\" class=\"data row19 col23\" >0</td>\n",
       "                        <td id=\"T_6a26dbfa_84d1_11eb_b99f_0991e3985f1drow19_col24\" class=\"data row19 col24\" >0</td>\n",
       "                        <td id=\"T_6a26dbfa_84d1_11eb_b99f_0991e3985f1drow19_col25\" class=\"data row19 col25\" >0</td>\n",
       "                        <td id=\"T_6a26dbfa_84d1_11eb_b99f_0991e3985f1drow19_col26\" class=\"data row19 col26\" >0</td>\n",
       "            </tr>\n",
       "            <tr>\n",
       "                        <th id=\"T_6a26dbfa_84d1_11eb_b99f_0991e3985f1dlevel0_row20\" class=\"row_heading level0 row20\" >20</th>\n",
       "                        <td id=\"T_6a26dbfa_84d1_11eb_b99f_0991e3985f1drow20_col0\" class=\"data row20 col0\" >0</td>\n",
       "                        <td id=\"T_6a26dbfa_84d1_11eb_b99f_0991e3985f1drow20_col1\" class=\"data row20 col1\" >0</td>\n",
       "                        <td id=\"T_6a26dbfa_84d1_11eb_b99f_0991e3985f1drow20_col2\" class=\"data row20 col2\" >0</td>\n",
       "                        <td id=\"T_6a26dbfa_84d1_11eb_b99f_0991e3985f1drow20_col3\" class=\"data row20 col3\" >0</td>\n",
       "                        <td id=\"T_6a26dbfa_84d1_11eb_b99f_0991e3985f1drow20_col4\" class=\"data row20 col4\" >0</td>\n",
       "                        <td id=\"T_6a26dbfa_84d1_11eb_b99f_0991e3985f1drow20_col5\" class=\"data row20 col5\" >0</td>\n",
       "                        <td id=\"T_6a26dbfa_84d1_11eb_b99f_0991e3985f1drow20_col6\" class=\"data row20 col6\" >0</td>\n",
       "                        <td id=\"T_6a26dbfa_84d1_11eb_b99f_0991e3985f1drow20_col7\" class=\"data row20 col7\" >0</td>\n",
       "                        <td id=\"T_6a26dbfa_84d1_11eb_b99f_0991e3985f1drow20_col8\" class=\"data row20 col8\" >0</td>\n",
       "                        <td id=\"T_6a26dbfa_84d1_11eb_b99f_0991e3985f1drow20_col9\" class=\"data row20 col9\" >0</td>\n",
       "                        <td id=\"T_6a26dbfa_84d1_11eb_b99f_0991e3985f1drow20_col10\" class=\"data row20 col10\" >0</td>\n",
       "                        <td id=\"T_6a26dbfa_84d1_11eb_b99f_0991e3985f1drow20_col11\" class=\"data row20 col11\" >0</td>\n",
       "                        <td id=\"T_6a26dbfa_84d1_11eb_b99f_0991e3985f1drow20_col12\" class=\"data row20 col12\" >0</td>\n",
       "                        <td id=\"T_6a26dbfa_84d1_11eb_b99f_0991e3985f1drow20_col13\" class=\"data row20 col13\" >0</td>\n",
       "                        <td id=\"T_6a26dbfa_84d1_11eb_b99f_0991e3985f1drow20_col14\" class=\"data row20 col14\" >98</td>\n",
       "                        <td id=\"T_6a26dbfa_84d1_11eb_b99f_0991e3985f1drow20_col15\" class=\"data row20 col15\" >247</td>\n",
       "                        <td id=\"T_6a26dbfa_84d1_11eb_b99f_0991e3985f1drow20_col16\" class=\"data row20 col16\" >253</td>\n",
       "                        <td id=\"T_6a26dbfa_84d1_11eb_b99f_0991e3985f1drow20_col17\" class=\"data row20 col17\" >253</td>\n",
       "                        <td id=\"T_6a26dbfa_84d1_11eb_b99f_0991e3985f1drow20_col18\" class=\"data row20 col18\" >226</td>\n",
       "                        <td id=\"T_6a26dbfa_84d1_11eb_b99f_0991e3985f1drow20_col19\" class=\"data row20 col19\" >9</td>\n",
       "                        <td id=\"T_6a26dbfa_84d1_11eb_b99f_0991e3985f1drow20_col20\" class=\"data row20 col20\" >0</td>\n",
       "                        <td id=\"T_6a26dbfa_84d1_11eb_b99f_0991e3985f1drow20_col21\" class=\"data row20 col21\" >0</td>\n",
       "                        <td id=\"T_6a26dbfa_84d1_11eb_b99f_0991e3985f1drow20_col22\" class=\"data row20 col22\" >0</td>\n",
       "                        <td id=\"T_6a26dbfa_84d1_11eb_b99f_0991e3985f1drow20_col23\" class=\"data row20 col23\" >0</td>\n",
       "                        <td id=\"T_6a26dbfa_84d1_11eb_b99f_0991e3985f1drow20_col24\" class=\"data row20 col24\" >0</td>\n",
       "                        <td id=\"T_6a26dbfa_84d1_11eb_b99f_0991e3985f1drow20_col25\" class=\"data row20 col25\" >0</td>\n",
       "                        <td id=\"T_6a26dbfa_84d1_11eb_b99f_0991e3985f1drow20_col26\" class=\"data row20 col26\" >0</td>\n",
       "            </tr>\n",
       "            <tr>\n",
       "                        <th id=\"T_6a26dbfa_84d1_11eb_b99f_0991e3985f1dlevel0_row21\" class=\"row_heading level0 row21\" >21</th>\n",
       "                        <td id=\"T_6a26dbfa_84d1_11eb_b99f_0991e3985f1drow21_col0\" class=\"data row21 col0\" >0</td>\n",
       "                        <td id=\"T_6a26dbfa_84d1_11eb_b99f_0991e3985f1drow21_col1\" class=\"data row21 col1\" >0</td>\n",
       "                        <td id=\"T_6a26dbfa_84d1_11eb_b99f_0991e3985f1drow21_col2\" class=\"data row21 col2\" >0</td>\n",
       "                        <td id=\"T_6a26dbfa_84d1_11eb_b99f_0991e3985f1drow21_col3\" class=\"data row21 col3\" >0</td>\n",
       "                        <td id=\"T_6a26dbfa_84d1_11eb_b99f_0991e3985f1drow21_col4\" class=\"data row21 col4\" >0</td>\n",
       "                        <td id=\"T_6a26dbfa_84d1_11eb_b99f_0991e3985f1drow21_col5\" class=\"data row21 col5\" >0</td>\n",
       "                        <td id=\"T_6a26dbfa_84d1_11eb_b99f_0991e3985f1drow21_col6\" class=\"data row21 col6\" >0</td>\n",
       "                        <td id=\"T_6a26dbfa_84d1_11eb_b99f_0991e3985f1drow21_col7\" class=\"data row21 col7\" >0</td>\n",
       "                        <td id=\"T_6a26dbfa_84d1_11eb_b99f_0991e3985f1drow21_col8\" class=\"data row21 col8\" >0</td>\n",
       "                        <td id=\"T_6a26dbfa_84d1_11eb_b99f_0991e3985f1drow21_col9\" class=\"data row21 col9\" >0</td>\n",
       "                        <td id=\"T_6a26dbfa_84d1_11eb_b99f_0991e3985f1drow21_col10\" class=\"data row21 col10\" >0</td>\n",
       "                        <td id=\"T_6a26dbfa_84d1_11eb_b99f_0991e3985f1drow21_col11\" class=\"data row21 col11\" >0</td>\n",
       "                        <td id=\"T_6a26dbfa_84d1_11eb_b99f_0991e3985f1drow21_col12\" class=\"data row21 col12\" >42</td>\n",
       "                        <td id=\"T_6a26dbfa_84d1_11eb_b99f_0991e3985f1drow21_col13\" class=\"data row21 col13\" >150</td>\n",
       "                        <td id=\"T_6a26dbfa_84d1_11eb_b99f_0991e3985f1drow21_col14\" class=\"data row21 col14\" >252</td>\n",
       "                        <td id=\"T_6a26dbfa_84d1_11eb_b99f_0991e3985f1drow21_col15\" class=\"data row21 col15\" >253</td>\n",
       "                        <td id=\"T_6a26dbfa_84d1_11eb_b99f_0991e3985f1drow21_col16\" class=\"data row21 col16\" >253</td>\n",
       "                        <td id=\"T_6a26dbfa_84d1_11eb_b99f_0991e3985f1drow21_col17\" class=\"data row21 col17\" >233</td>\n",
       "                        <td id=\"T_6a26dbfa_84d1_11eb_b99f_0991e3985f1drow21_col18\" class=\"data row21 col18\" >53</td>\n",
       "                        <td id=\"T_6a26dbfa_84d1_11eb_b99f_0991e3985f1drow21_col19\" class=\"data row21 col19\" >0</td>\n",
       "                        <td id=\"T_6a26dbfa_84d1_11eb_b99f_0991e3985f1drow21_col20\" class=\"data row21 col20\" >0</td>\n",
       "                        <td id=\"T_6a26dbfa_84d1_11eb_b99f_0991e3985f1drow21_col21\" class=\"data row21 col21\" >0</td>\n",
       "                        <td id=\"T_6a26dbfa_84d1_11eb_b99f_0991e3985f1drow21_col22\" class=\"data row21 col22\" >0</td>\n",
       "                        <td id=\"T_6a26dbfa_84d1_11eb_b99f_0991e3985f1drow21_col23\" class=\"data row21 col23\" >0</td>\n",
       "                        <td id=\"T_6a26dbfa_84d1_11eb_b99f_0991e3985f1drow21_col24\" class=\"data row21 col24\" >0</td>\n",
       "                        <td id=\"T_6a26dbfa_84d1_11eb_b99f_0991e3985f1drow21_col25\" class=\"data row21 col25\" >0</td>\n",
       "                        <td id=\"T_6a26dbfa_84d1_11eb_b99f_0991e3985f1drow21_col26\" class=\"data row21 col26\" >0</td>\n",
       "            </tr>\n",
       "            <tr>\n",
       "                        <th id=\"T_6a26dbfa_84d1_11eb_b99f_0991e3985f1dlevel0_row22\" class=\"row_heading level0 row22\" >22</th>\n",
       "                        <td id=\"T_6a26dbfa_84d1_11eb_b99f_0991e3985f1drow22_col0\" class=\"data row22 col0\" >0</td>\n",
       "                        <td id=\"T_6a26dbfa_84d1_11eb_b99f_0991e3985f1drow22_col1\" class=\"data row22 col1\" >0</td>\n",
       "                        <td id=\"T_6a26dbfa_84d1_11eb_b99f_0991e3985f1drow22_col2\" class=\"data row22 col2\" >0</td>\n",
       "                        <td id=\"T_6a26dbfa_84d1_11eb_b99f_0991e3985f1drow22_col3\" class=\"data row22 col3\" >0</td>\n",
       "                        <td id=\"T_6a26dbfa_84d1_11eb_b99f_0991e3985f1drow22_col4\" class=\"data row22 col4\" >0</td>\n",
       "                        <td id=\"T_6a26dbfa_84d1_11eb_b99f_0991e3985f1drow22_col5\" class=\"data row22 col5\" >0</td>\n",
       "                        <td id=\"T_6a26dbfa_84d1_11eb_b99f_0991e3985f1drow22_col6\" class=\"data row22 col6\" >42</td>\n",
       "                        <td id=\"T_6a26dbfa_84d1_11eb_b99f_0991e3985f1drow22_col7\" class=\"data row22 col7\" >115</td>\n",
       "                        <td id=\"T_6a26dbfa_84d1_11eb_b99f_0991e3985f1drow22_col8\" class=\"data row22 col8\" >42</td>\n",
       "                        <td id=\"T_6a26dbfa_84d1_11eb_b99f_0991e3985f1drow22_col9\" class=\"data row22 col9\" >60</td>\n",
       "                        <td id=\"T_6a26dbfa_84d1_11eb_b99f_0991e3985f1drow22_col10\" class=\"data row22 col10\" >115</td>\n",
       "                        <td id=\"T_6a26dbfa_84d1_11eb_b99f_0991e3985f1drow22_col11\" class=\"data row22 col11\" >159</td>\n",
       "                        <td id=\"T_6a26dbfa_84d1_11eb_b99f_0991e3985f1drow22_col12\" class=\"data row22 col12\" >240</td>\n",
       "                        <td id=\"T_6a26dbfa_84d1_11eb_b99f_0991e3985f1drow22_col13\" class=\"data row22 col13\" >253</td>\n",
       "                        <td id=\"T_6a26dbfa_84d1_11eb_b99f_0991e3985f1drow22_col14\" class=\"data row22 col14\" >253</td>\n",
       "                        <td id=\"T_6a26dbfa_84d1_11eb_b99f_0991e3985f1drow22_col15\" class=\"data row22 col15\" >250</td>\n",
       "                        <td id=\"T_6a26dbfa_84d1_11eb_b99f_0991e3985f1drow22_col16\" class=\"data row22 col16\" >175</td>\n",
       "                        <td id=\"T_6a26dbfa_84d1_11eb_b99f_0991e3985f1drow22_col17\" class=\"data row22 col17\" >25</td>\n",
       "                        <td id=\"T_6a26dbfa_84d1_11eb_b99f_0991e3985f1drow22_col18\" class=\"data row22 col18\" >0</td>\n",
       "                        <td id=\"T_6a26dbfa_84d1_11eb_b99f_0991e3985f1drow22_col19\" class=\"data row22 col19\" >0</td>\n",
       "                        <td id=\"T_6a26dbfa_84d1_11eb_b99f_0991e3985f1drow22_col20\" class=\"data row22 col20\" >0</td>\n",
       "                        <td id=\"T_6a26dbfa_84d1_11eb_b99f_0991e3985f1drow22_col21\" class=\"data row22 col21\" >0</td>\n",
       "                        <td id=\"T_6a26dbfa_84d1_11eb_b99f_0991e3985f1drow22_col22\" class=\"data row22 col22\" >0</td>\n",
       "                        <td id=\"T_6a26dbfa_84d1_11eb_b99f_0991e3985f1drow22_col23\" class=\"data row22 col23\" >0</td>\n",
       "                        <td id=\"T_6a26dbfa_84d1_11eb_b99f_0991e3985f1drow22_col24\" class=\"data row22 col24\" >0</td>\n",
       "                        <td id=\"T_6a26dbfa_84d1_11eb_b99f_0991e3985f1drow22_col25\" class=\"data row22 col25\" >0</td>\n",
       "                        <td id=\"T_6a26dbfa_84d1_11eb_b99f_0991e3985f1drow22_col26\" class=\"data row22 col26\" >0</td>\n",
       "            </tr>\n",
       "            <tr>\n",
       "                        <th id=\"T_6a26dbfa_84d1_11eb_b99f_0991e3985f1dlevel0_row23\" class=\"row_heading level0 row23\" >23</th>\n",
       "                        <td id=\"T_6a26dbfa_84d1_11eb_b99f_0991e3985f1drow23_col0\" class=\"data row23 col0\" >0</td>\n",
       "                        <td id=\"T_6a26dbfa_84d1_11eb_b99f_0991e3985f1drow23_col1\" class=\"data row23 col1\" >0</td>\n",
       "                        <td id=\"T_6a26dbfa_84d1_11eb_b99f_0991e3985f1drow23_col2\" class=\"data row23 col2\" >0</td>\n",
       "                        <td id=\"T_6a26dbfa_84d1_11eb_b99f_0991e3985f1drow23_col3\" class=\"data row23 col3\" >0</td>\n",
       "                        <td id=\"T_6a26dbfa_84d1_11eb_b99f_0991e3985f1drow23_col4\" class=\"data row23 col4\" >0</td>\n",
       "                        <td id=\"T_6a26dbfa_84d1_11eb_b99f_0991e3985f1drow23_col5\" class=\"data row23 col5\" >0</td>\n",
       "                        <td id=\"T_6a26dbfa_84d1_11eb_b99f_0991e3985f1drow23_col6\" class=\"data row23 col6\" >187</td>\n",
       "                        <td id=\"T_6a26dbfa_84d1_11eb_b99f_0991e3985f1drow23_col7\" class=\"data row23 col7\" >253</td>\n",
       "                        <td id=\"T_6a26dbfa_84d1_11eb_b99f_0991e3985f1drow23_col8\" class=\"data row23 col8\" >253</td>\n",
       "                        <td id=\"T_6a26dbfa_84d1_11eb_b99f_0991e3985f1drow23_col9\" class=\"data row23 col9\" >253</td>\n",
       "                        <td id=\"T_6a26dbfa_84d1_11eb_b99f_0991e3985f1drow23_col10\" class=\"data row23 col10\" >253</td>\n",
       "                        <td id=\"T_6a26dbfa_84d1_11eb_b99f_0991e3985f1drow23_col11\" class=\"data row23 col11\" >253</td>\n",
       "                        <td id=\"T_6a26dbfa_84d1_11eb_b99f_0991e3985f1drow23_col12\" class=\"data row23 col12\" >253</td>\n",
       "                        <td id=\"T_6a26dbfa_84d1_11eb_b99f_0991e3985f1drow23_col13\" class=\"data row23 col13\" >253</td>\n",
       "                        <td id=\"T_6a26dbfa_84d1_11eb_b99f_0991e3985f1drow23_col14\" class=\"data row23 col14\" >197</td>\n",
       "                        <td id=\"T_6a26dbfa_84d1_11eb_b99f_0991e3985f1drow23_col15\" class=\"data row23 col15\" >86</td>\n",
       "                        <td id=\"T_6a26dbfa_84d1_11eb_b99f_0991e3985f1drow23_col16\" class=\"data row23 col16\" >0</td>\n",
       "                        <td id=\"T_6a26dbfa_84d1_11eb_b99f_0991e3985f1drow23_col17\" class=\"data row23 col17\" >0</td>\n",
       "                        <td id=\"T_6a26dbfa_84d1_11eb_b99f_0991e3985f1drow23_col18\" class=\"data row23 col18\" >0</td>\n",
       "                        <td id=\"T_6a26dbfa_84d1_11eb_b99f_0991e3985f1drow23_col19\" class=\"data row23 col19\" >0</td>\n",
       "                        <td id=\"T_6a26dbfa_84d1_11eb_b99f_0991e3985f1drow23_col20\" class=\"data row23 col20\" >0</td>\n",
       "                        <td id=\"T_6a26dbfa_84d1_11eb_b99f_0991e3985f1drow23_col21\" class=\"data row23 col21\" >0</td>\n",
       "                        <td id=\"T_6a26dbfa_84d1_11eb_b99f_0991e3985f1drow23_col22\" class=\"data row23 col22\" >0</td>\n",
       "                        <td id=\"T_6a26dbfa_84d1_11eb_b99f_0991e3985f1drow23_col23\" class=\"data row23 col23\" >0</td>\n",
       "                        <td id=\"T_6a26dbfa_84d1_11eb_b99f_0991e3985f1drow23_col24\" class=\"data row23 col24\" >0</td>\n",
       "                        <td id=\"T_6a26dbfa_84d1_11eb_b99f_0991e3985f1drow23_col25\" class=\"data row23 col25\" >0</td>\n",
       "                        <td id=\"T_6a26dbfa_84d1_11eb_b99f_0991e3985f1drow23_col26\" class=\"data row23 col26\" >0</td>\n",
       "            </tr>\n",
       "            <tr>\n",
       "                        <th id=\"T_6a26dbfa_84d1_11eb_b99f_0991e3985f1dlevel0_row24\" class=\"row_heading level0 row24\" >24</th>\n",
       "                        <td id=\"T_6a26dbfa_84d1_11eb_b99f_0991e3985f1drow24_col0\" class=\"data row24 col0\" >0</td>\n",
       "                        <td id=\"T_6a26dbfa_84d1_11eb_b99f_0991e3985f1drow24_col1\" class=\"data row24 col1\" >0</td>\n",
       "                        <td id=\"T_6a26dbfa_84d1_11eb_b99f_0991e3985f1drow24_col2\" class=\"data row24 col2\" >0</td>\n",
       "                        <td id=\"T_6a26dbfa_84d1_11eb_b99f_0991e3985f1drow24_col3\" class=\"data row24 col3\" >0</td>\n",
       "                        <td id=\"T_6a26dbfa_84d1_11eb_b99f_0991e3985f1drow24_col4\" class=\"data row24 col4\" >0</td>\n",
       "                        <td id=\"T_6a26dbfa_84d1_11eb_b99f_0991e3985f1drow24_col5\" class=\"data row24 col5\" >0</td>\n",
       "                        <td id=\"T_6a26dbfa_84d1_11eb_b99f_0991e3985f1drow24_col6\" class=\"data row24 col6\" >103</td>\n",
       "                        <td id=\"T_6a26dbfa_84d1_11eb_b99f_0991e3985f1drow24_col7\" class=\"data row24 col7\" >253</td>\n",
       "                        <td id=\"T_6a26dbfa_84d1_11eb_b99f_0991e3985f1drow24_col8\" class=\"data row24 col8\" >253</td>\n",
       "                        <td id=\"T_6a26dbfa_84d1_11eb_b99f_0991e3985f1drow24_col9\" class=\"data row24 col9\" >253</td>\n",
       "                        <td id=\"T_6a26dbfa_84d1_11eb_b99f_0991e3985f1drow24_col10\" class=\"data row24 col10\" >253</td>\n",
       "                        <td id=\"T_6a26dbfa_84d1_11eb_b99f_0991e3985f1drow24_col11\" class=\"data row24 col11\" >253</td>\n",
       "                        <td id=\"T_6a26dbfa_84d1_11eb_b99f_0991e3985f1drow24_col12\" class=\"data row24 col12\" >232</td>\n",
       "                        <td id=\"T_6a26dbfa_84d1_11eb_b99f_0991e3985f1drow24_col13\" class=\"data row24 col13\" >67</td>\n",
       "                        <td id=\"T_6a26dbfa_84d1_11eb_b99f_0991e3985f1drow24_col14\" class=\"data row24 col14\" >1</td>\n",
       "                        <td id=\"T_6a26dbfa_84d1_11eb_b99f_0991e3985f1drow24_col15\" class=\"data row24 col15\" >0</td>\n",
       "                        <td id=\"T_6a26dbfa_84d1_11eb_b99f_0991e3985f1drow24_col16\" class=\"data row24 col16\" >0</td>\n",
       "                        <td id=\"T_6a26dbfa_84d1_11eb_b99f_0991e3985f1drow24_col17\" class=\"data row24 col17\" >0</td>\n",
       "                        <td id=\"T_6a26dbfa_84d1_11eb_b99f_0991e3985f1drow24_col18\" class=\"data row24 col18\" >0</td>\n",
       "                        <td id=\"T_6a26dbfa_84d1_11eb_b99f_0991e3985f1drow24_col19\" class=\"data row24 col19\" >0</td>\n",
       "                        <td id=\"T_6a26dbfa_84d1_11eb_b99f_0991e3985f1drow24_col20\" class=\"data row24 col20\" >0</td>\n",
       "                        <td id=\"T_6a26dbfa_84d1_11eb_b99f_0991e3985f1drow24_col21\" class=\"data row24 col21\" >0</td>\n",
       "                        <td id=\"T_6a26dbfa_84d1_11eb_b99f_0991e3985f1drow24_col22\" class=\"data row24 col22\" >0</td>\n",
       "                        <td id=\"T_6a26dbfa_84d1_11eb_b99f_0991e3985f1drow24_col23\" class=\"data row24 col23\" >0</td>\n",
       "                        <td id=\"T_6a26dbfa_84d1_11eb_b99f_0991e3985f1drow24_col24\" class=\"data row24 col24\" >0</td>\n",
       "                        <td id=\"T_6a26dbfa_84d1_11eb_b99f_0991e3985f1drow24_col25\" class=\"data row24 col25\" >0</td>\n",
       "                        <td id=\"T_6a26dbfa_84d1_11eb_b99f_0991e3985f1drow24_col26\" class=\"data row24 col26\" >0</td>\n",
       "            </tr>\n",
       "            <tr>\n",
       "                        <th id=\"T_6a26dbfa_84d1_11eb_b99f_0991e3985f1dlevel0_row25\" class=\"row_heading level0 row25\" >25</th>\n",
       "                        <td id=\"T_6a26dbfa_84d1_11eb_b99f_0991e3985f1drow25_col0\" class=\"data row25 col0\" >0</td>\n",
       "                        <td id=\"T_6a26dbfa_84d1_11eb_b99f_0991e3985f1drow25_col1\" class=\"data row25 col1\" >0</td>\n",
       "                        <td id=\"T_6a26dbfa_84d1_11eb_b99f_0991e3985f1drow25_col2\" class=\"data row25 col2\" >0</td>\n",
       "                        <td id=\"T_6a26dbfa_84d1_11eb_b99f_0991e3985f1drow25_col3\" class=\"data row25 col3\" >0</td>\n",
       "                        <td id=\"T_6a26dbfa_84d1_11eb_b99f_0991e3985f1drow25_col4\" class=\"data row25 col4\" >0</td>\n",
       "                        <td id=\"T_6a26dbfa_84d1_11eb_b99f_0991e3985f1drow25_col5\" class=\"data row25 col5\" >0</td>\n",
       "                        <td id=\"T_6a26dbfa_84d1_11eb_b99f_0991e3985f1drow25_col6\" class=\"data row25 col6\" >0</td>\n",
       "                        <td id=\"T_6a26dbfa_84d1_11eb_b99f_0991e3985f1drow25_col7\" class=\"data row25 col7\" >0</td>\n",
       "                        <td id=\"T_6a26dbfa_84d1_11eb_b99f_0991e3985f1drow25_col8\" class=\"data row25 col8\" >0</td>\n",
       "                        <td id=\"T_6a26dbfa_84d1_11eb_b99f_0991e3985f1drow25_col9\" class=\"data row25 col9\" >0</td>\n",
       "                        <td id=\"T_6a26dbfa_84d1_11eb_b99f_0991e3985f1drow25_col10\" class=\"data row25 col10\" >0</td>\n",
       "                        <td id=\"T_6a26dbfa_84d1_11eb_b99f_0991e3985f1drow25_col11\" class=\"data row25 col11\" >0</td>\n",
       "                        <td id=\"T_6a26dbfa_84d1_11eb_b99f_0991e3985f1drow25_col12\" class=\"data row25 col12\" >0</td>\n",
       "                        <td id=\"T_6a26dbfa_84d1_11eb_b99f_0991e3985f1drow25_col13\" class=\"data row25 col13\" >0</td>\n",
       "                        <td id=\"T_6a26dbfa_84d1_11eb_b99f_0991e3985f1drow25_col14\" class=\"data row25 col14\" >0</td>\n",
       "                        <td id=\"T_6a26dbfa_84d1_11eb_b99f_0991e3985f1drow25_col15\" class=\"data row25 col15\" >0</td>\n",
       "                        <td id=\"T_6a26dbfa_84d1_11eb_b99f_0991e3985f1drow25_col16\" class=\"data row25 col16\" >0</td>\n",
       "                        <td id=\"T_6a26dbfa_84d1_11eb_b99f_0991e3985f1drow25_col17\" class=\"data row25 col17\" >0</td>\n",
       "                        <td id=\"T_6a26dbfa_84d1_11eb_b99f_0991e3985f1drow25_col18\" class=\"data row25 col18\" >0</td>\n",
       "                        <td id=\"T_6a26dbfa_84d1_11eb_b99f_0991e3985f1drow25_col19\" class=\"data row25 col19\" >0</td>\n",
       "                        <td id=\"T_6a26dbfa_84d1_11eb_b99f_0991e3985f1drow25_col20\" class=\"data row25 col20\" >0</td>\n",
       "                        <td id=\"T_6a26dbfa_84d1_11eb_b99f_0991e3985f1drow25_col21\" class=\"data row25 col21\" >0</td>\n",
       "                        <td id=\"T_6a26dbfa_84d1_11eb_b99f_0991e3985f1drow25_col22\" class=\"data row25 col22\" >0</td>\n",
       "                        <td id=\"T_6a26dbfa_84d1_11eb_b99f_0991e3985f1drow25_col23\" class=\"data row25 col23\" >0</td>\n",
       "                        <td id=\"T_6a26dbfa_84d1_11eb_b99f_0991e3985f1drow25_col24\" class=\"data row25 col24\" >0</td>\n",
       "                        <td id=\"T_6a26dbfa_84d1_11eb_b99f_0991e3985f1drow25_col25\" class=\"data row25 col25\" >0</td>\n",
       "                        <td id=\"T_6a26dbfa_84d1_11eb_b99f_0991e3985f1drow25_col26\" class=\"data row25 col26\" >0</td>\n",
       "            </tr>\n",
       "            <tr>\n",
       "                        <th id=\"T_6a26dbfa_84d1_11eb_b99f_0991e3985f1dlevel0_row26\" class=\"row_heading level0 row26\" >26</th>\n",
       "                        <td id=\"T_6a26dbfa_84d1_11eb_b99f_0991e3985f1drow26_col0\" class=\"data row26 col0\" >0</td>\n",
       "                        <td id=\"T_6a26dbfa_84d1_11eb_b99f_0991e3985f1drow26_col1\" class=\"data row26 col1\" >0</td>\n",
       "                        <td id=\"T_6a26dbfa_84d1_11eb_b99f_0991e3985f1drow26_col2\" class=\"data row26 col2\" >0</td>\n",
       "                        <td id=\"T_6a26dbfa_84d1_11eb_b99f_0991e3985f1drow26_col3\" class=\"data row26 col3\" >0</td>\n",
       "                        <td id=\"T_6a26dbfa_84d1_11eb_b99f_0991e3985f1drow26_col4\" class=\"data row26 col4\" >0</td>\n",
       "                        <td id=\"T_6a26dbfa_84d1_11eb_b99f_0991e3985f1drow26_col5\" class=\"data row26 col5\" >0</td>\n",
       "                        <td id=\"T_6a26dbfa_84d1_11eb_b99f_0991e3985f1drow26_col6\" class=\"data row26 col6\" >0</td>\n",
       "                        <td id=\"T_6a26dbfa_84d1_11eb_b99f_0991e3985f1drow26_col7\" class=\"data row26 col7\" >0</td>\n",
       "                        <td id=\"T_6a26dbfa_84d1_11eb_b99f_0991e3985f1drow26_col8\" class=\"data row26 col8\" >0</td>\n",
       "                        <td id=\"T_6a26dbfa_84d1_11eb_b99f_0991e3985f1drow26_col9\" class=\"data row26 col9\" >0</td>\n",
       "                        <td id=\"T_6a26dbfa_84d1_11eb_b99f_0991e3985f1drow26_col10\" class=\"data row26 col10\" >0</td>\n",
       "                        <td id=\"T_6a26dbfa_84d1_11eb_b99f_0991e3985f1drow26_col11\" class=\"data row26 col11\" >0</td>\n",
       "                        <td id=\"T_6a26dbfa_84d1_11eb_b99f_0991e3985f1drow26_col12\" class=\"data row26 col12\" >0</td>\n",
       "                        <td id=\"T_6a26dbfa_84d1_11eb_b99f_0991e3985f1drow26_col13\" class=\"data row26 col13\" >0</td>\n",
       "                        <td id=\"T_6a26dbfa_84d1_11eb_b99f_0991e3985f1drow26_col14\" class=\"data row26 col14\" >0</td>\n",
       "                        <td id=\"T_6a26dbfa_84d1_11eb_b99f_0991e3985f1drow26_col15\" class=\"data row26 col15\" >0</td>\n",
       "                        <td id=\"T_6a26dbfa_84d1_11eb_b99f_0991e3985f1drow26_col16\" class=\"data row26 col16\" >0</td>\n",
       "                        <td id=\"T_6a26dbfa_84d1_11eb_b99f_0991e3985f1drow26_col17\" class=\"data row26 col17\" >0</td>\n",
       "                        <td id=\"T_6a26dbfa_84d1_11eb_b99f_0991e3985f1drow26_col18\" class=\"data row26 col18\" >0</td>\n",
       "                        <td id=\"T_6a26dbfa_84d1_11eb_b99f_0991e3985f1drow26_col19\" class=\"data row26 col19\" >0</td>\n",
       "                        <td id=\"T_6a26dbfa_84d1_11eb_b99f_0991e3985f1drow26_col20\" class=\"data row26 col20\" >0</td>\n",
       "                        <td id=\"T_6a26dbfa_84d1_11eb_b99f_0991e3985f1drow26_col21\" class=\"data row26 col21\" >0</td>\n",
       "                        <td id=\"T_6a26dbfa_84d1_11eb_b99f_0991e3985f1drow26_col22\" class=\"data row26 col22\" >0</td>\n",
       "                        <td id=\"T_6a26dbfa_84d1_11eb_b99f_0991e3985f1drow26_col23\" class=\"data row26 col23\" >0</td>\n",
       "                        <td id=\"T_6a26dbfa_84d1_11eb_b99f_0991e3985f1drow26_col24\" class=\"data row26 col24\" >0</td>\n",
       "                        <td id=\"T_6a26dbfa_84d1_11eb_b99f_0991e3985f1drow26_col25\" class=\"data row26 col25\" >0</td>\n",
       "                        <td id=\"T_6a26dbfa_84d1_11eb_b99f_0991e3985f1drow26_col26\" class=\"data row26 col26\" >0</td>\n",
       "            </tr>\n",
       "    </tbody></table>"
      ],
      "text/plain": [
       "<pandas.io.formats.style.Styler at 0x7f823c4ceb50>"
      ]
     },
     "execution_count": 6,
     "metadata": {},
     "output_type": "execute_result"
    }
   ],
   "source": [
    "#converting the image into tensor \n",
    "im3_t = tensor(im3)\n",
    "df = pd.DataFrame(im3_t[0:27,0:27])\n",
    "df.style.set_properties(**{'font-size':'6pt'}).background_gradient('Greys')"
   ]
  },
  {
   "cell_type": "code",
   "execution_count": 7,
   "metadata": {},
   "outputs": [
    {
     "data": {
      "text/plain": [
       "torch.Size([28, 28])"
      ]
     },
     "execution_count": 7,
     "metadata": {},
     "output_type": "execute_result"
    }
   ],
   "source": [
    "im3_t.shape"
   ]
  },
  {
   "cell_type": "code",
   "execution_count": 8,
   "metadata": {},
   "outputs": [
    {
     "data": {
      "text/plain": [
       "(6131, 6265)"
      ]
     },
     "execution_count": 8,
     "metadata": {},
     "output_type": "execute_result"
    }
   ],
   "source": [
    "#Idea for first classifier (naive) \n",
    "#Get the \"mean\" of each digit and classify as the most similar one. \n",
    "\n",
    "#Creating list of tensors for data \n",
    "seven_tensors = [tensor(Image.open(o)) for o in sevens]\n",
    "three_tensors = [tensor(Image.open(o)) for o in threes]\n",
    "len(three_tensors), len(seven_tensors)"
   ]
  },
  {
   "cell_type": "code",
   "execution_count": 9,
   "metadata": {},
   "outputs": [
    {
     "data": {
      "text/plain": [
       "<AxesSubplot:>"
      ]
     },
     "execution_count": 9,
     "metadata": {},
     "output_type": "execute_result"
    },
    {
     "data": {
      "image/png": "[encoded data removed]",
      "text/plain": [
       "<Figure size 72x72 with 1 Axes>"
      ]
     },
     "metadata": {
      "needs_background": "light"
     },
     "output_type": "display_data"
    }
   ],
   "source": [
    "show_image(three_tensors[1])"
   ]
  },
  {
   "cell_type": "code",
   "execution_count": 10,
   "metadata": {},
   "outputs": [
    {
     "data": {
      "text/plain": [
       "torch.Size([6265, 28, 28])"
      ]
     },
     "execution_count": 10,
     "metadata": {},
     "output_type": "execute_result"
    }
   ],
   "source": [
    "#Stacking the tensors into 3D tensor and normalizing pixels. \n",
    "stacked_sevens = torch.stack(seven_tensors).float()/255\n",
    "stacked_threes = torch.stack(three_tensors).float()/255\n",
    "stacked_sevens.shape"
   ]
  },
  {
   "cell_type": "code",
   "execution_count": 11,
   "metadata": {},
   "outputs": [
    {
     "data": {
      "text/plain": [
       "<AxesSubplot:>"
      ]
     },
     "execution_count": 11,
     "metadata": {},
     "output_type": "execute_result"
    },
    {
     "data": {
      "image/png": "[encoded data removed]",
      "text/plain": [
       "<Figure size 72x72 with 1 Axes>"
      ]
     },
     "metadata": {
      "needs_background": "light"
     },
     "output_type": "display_data"
    }
   ],
   "source": [
    "#mean of 3 \n",
    "mean3 = stacked_threes.mean(0)\n",
    "show_image(mean3)"
   ]
  },
  {
   "cell_type": "code",
   "execution_count": 12,
   "metadata": {},
   "outputs": [
    {
     "data": {
      "text/plain": [
       "<AxesSubplot:>"
      ]
     },
     "execution_count": 12,
     "metadata": {},
     "output_type": "execute_result"
    },
    {
     "data": {
      "image/png": "[encoded data removed]",
      "text/plain": [
       "<Figure size 72x72 with 1 Axes>"
      ]
     },
     "metadata": {
      "needs_background": "light"
     },
     "output_type": "display_data"
    }
   ],
   "source": [
    "mean7 = stacked_sevens.mean(0)\n",
    "show_image(mean7)"
   ]
  },
  {
   "cell_type": "markdown",
   "metadata": {},
   "source": [
    "# How can we measure the difference between two pictures in this context ? \n",
    "\n",
    "Often we will take the mean of absolute values of differences between pixels (MAE == L1 NORM)) OR take the mean square of differences (RMSE == L2 NORM)"
   ]
  },
  {
   "cell_type": "code",
   "execution_count": 13,
   "metadata": {},
   "outputs": [
    {
     "data": {
      "image/png": "[encoded data removed]",
      "text/plain": [
       "<Figure size 72x72 with 1 Axes>"
      ]
     },
     "metadata": {
      "needs_background": "light"
     },
     "output_type": "display_data"
    }
   ],
   "source": [
    "#Trying on a sample image \n",
    "a_3 = stacked_threes[1]\n",
    "show_image(a_3);"
   ]
  },
  {
   "cell_type": "code",
   "execution_count": 14,
   "metadata": {},
   "outputs": [
    {
     "data": {
      "text/plain": [
       "(tensor(0.1114), tensor(0.2021))"
      ]
     },
     "execution_count": 14,
     "metadata": {},
     "output_type": "execute_result"
    }
   ],
   "source": [
    "#distance from threes\n",
    "l1norm = (a_3 - mean3).abs().mean()\n",
    "l2norm = ((a_3 - mean3)**2).mean().sqrt()\n",
    "l1norm, l2norm"
   ]
  },
  {
   "cell_type": "code",
   "execution_count": 15,
   "metadata": {},
   "outputs": [
    {
     "data": {
      "text/plain": [
       "(tensor(0.1586), tensor(0.3021))"
      ]
     },
     "execution_count": 15,
     "metadata": {},
     "output_type": "execute_result"
    }
   ],
   "source": [
    "#distance from sevens \n",
    "l1norm = (a_3 - mean7).abs().mean()\n",
    "l2norm = ((a_3 - mean7)**2).mean().sqrt()\n",
    "l1norm, l2norm"
   ]
  },
  {
   "cell_type": "code",
   "execution_count": 16,
   "metadata": {},
   "outputs": [
    {
     "data": {
      "text/plain": [
       "(tensor(0.1586), tensor(0.3021))"
      ]
     },
     "execution_count": 16,
     "metadata": {},
     "output_type": "execute_result"
    }
   ],
   "source": [
    "#or use pytorch functions for it\n",
    "F.l1_loss(a_3.float(),mean7), F.mse_loss(a_3,mean7).sqrt()"
   ]
  },
  {
   "cell_type": "code",
   "execution_count": 17,
   "metadata": {},
   "outputs": [],
   "source": [
    "#Creating a tensor \n",
    "data = [[1,2],[3,4]]\n",
    "\n",
    "#Numpy array \n",
    "arr = array(data)\n",
    "\n",
    "#Pytorch tensor \n",
    "tns = tensor(data)"
   ]
  },
  {
   "cell_type": "code",
   "execution_count": 18,
   "metadata": {},
   "outputs": [
    {
     "data": {
      "text/plain": [
       "tensor([[1, 2],\n",
       "        [3, 4]])"
      ]
     },
     "execution_count": 18,
     "metadata": {},
     "output_type": "execute_result"
    }
   ],
   "source": [
    "tns"
   ]
  },
  {
   "cell_type": "markdown",
   "metadata": {},
   "source": [
    "# Some data selections examples\n",
    "\n",
    "Note: tensors work almost like np arrays"
   ]
  },
  {
   "cell_type": "code",
   "execution_count": 19,
   "metadata": {},
   "outputs": [
    {
     "data": {
      "text/plain": [
       "tensor([3, 4])"
      ]
     },
     "execution_count": 19,
     "metadata": {},
     "output_type": "execute_result"
    }
   ],
   "source": [
    "#row \n",
    "tns[1]"
   ]
  },
  {
   "cell_type": "code",
   "execution_count": 20,
   "metadata": {},
   "outputs": [
    {
     "data": {
      "text/plain": [
       "tensor([2, 4])"
      ]
     },
     "execution_count": 20,
     "metadata": {},
     "output_type": "execute_result"
    }
   ],
   "source": [
    "#col\n",
    "tns[:,1]"
   ]
  },
  {
   "cell_type": "code",
   "execution_count": 21,
   "metadata": {},
   "outputs": [
    {
     "data": {
      "text/plain": [
       "tensor([[1],\n",
       "        [3]])"
      ]
     },
     "execution_count": 21,
     "metadata": {},
     "output_type": "execute_result"
    }
   ],
   "source": [
    "#slice syntax \n",
    "tns[0:2,0:1]"
   ]
  },
  {
   "cell_type": "markdown",
   "metadata": {},
   "source": [
    "# Using operations on tensors + choosing type"
   ]
  },
  {
   "cell_type": "code",
   "execution_count": 22,
   "metadata": {},
   "outputs": [
    {
     "data": {
      "text/plain": [
       "tensor([[2, 3],\n",
       "        [4, 5]])"
      ]
     },
     "execution_count": 22,
     "metadata": {},
     "output_type": "execute_result"
    }
   ],
   "source": [
    "tns + 1"
   ]
  },
  {
   "cell_type": "code",
   "execution_count": 23,
   "metadata": {},
   "outputs": [
    {
     "data": {
      "text/plain": [
       "tensor([[2, 4],\n",
       "        [6, 8]])"
      ]
     },
     "execution_count": 23,
     "metadata": {},
     "output_type": "execute_result"
    }
   ],
   "source": [
    "tns * 2"
   ]
  },
  {
   "cell_type": "code",
   "execution_count": 24,
   "metadata": {},
   "outputs": [
    {
     "data": {
      "text/plain": [
       "tensor([[ 1,  4],\n",
       "        [ 9, 16]])"
      ]
     },
     "execution_count": 24,
     "metadata": {},
     "output_type": "execute_result"
    }
   ],
   "source": [
    "tns * tns"
   ]
  },
  {
   "cell_type": "code",
   "execution_count": 25,
   "metadata": {},
   "outputs": [
    {
     "data": {
      "text/plain": [
       "'torch.LongTensor'"
      ]
     },
     "execution_count": 25,
     "metadata": {},
     "output_type": "execute_result"
    }
   ],
   "source": [
    "tns.type()"
   ]
  },
  {
   "cell_type": "code",
   "execution_count": 26,
   "metadata": {},
   "outputs": [],
   "source": [
    "#to float ? \n",
    "tns = tns.float()"
   ]
  },
  {
   "cell_type": "code",
   "execution_count": 27,
   "metadata": {},
   "outputs": [
    {
     "data": {
      "text/plain": [
       "tensor([[1.0000, 1.4142],\n",
       "        [1.7321, 2.0000]])"
      ]
     },
     "execution_count": 27,
     "metadata": {},
     "output_type": "execute_result"
    }
   ],
   "source": [
    "tns.sqrt()"
   ]
  },
  {
   "cell_type": "code",
   "execution_count": 28,
   "metadata": {},
   "outputs": [
    {
     "data": {
      "text/plain": [
       "tensor(2.5000)"
      ]
     },
     "execution_count": 28,
     "metadata": {},
     "output_type": "execute_result"
    }
   ],
   "source": [
    "tns.mean()"
   ]
  },
  {
   "cell_type": "code",
   "execution_count": 29,
   "metadata": {},
   "outputs": [
    {
     "data": {
      "text/plain": [
       "(tensor(10.), tensor(5.4772))"
      ]
     },
     "execution_count": 29,
     "metadata": {},
     "output_type": "execute_result"
    }
   ],
   "source": [
    "tns.norm(1), tns.norm(2)"
   ]
  },
  {
   "cell_type": "code",
   "execution_count": 30,
   "metadata": {},
   "outputs": [],
   "source": [
    "tns = tns.long()"
   ]
  },
  {
   "cell_type": "code",
   "execution_count": 31,
   "metadata": {},
   "outputs": [
    {
     "data": {
      "text/plain": [
       "tensor([[1, 2],\n",
       "        [3, 4]])"
      ]
     },
     "execution_count": 31,
     "metadata": {},
     "output_type": "execute_result"
    }
   ],
   "source": [
    "tns"
   ]
  },
  {
   "cell_type": "markdown",
   "metadata": {},
   "source": [
    "# Opening the validation data "
   ]
  },
  {
   "cell_type": "code",
   "execution_count": 32,
   "metadata": {},
   "outputs": [
    {
     "data": {
      "text/plain": [
       "(torch.Size([1010, 28, 28]), torch.Size([1028, 28, 28]))"
      ]
     },
     "execution_count": 32,
     "metadata": {},
     "output_type": "execute_result"
    }
   ],
   "source": [
    "valid_3_tens = torch.stack([tensor(Image.open(o)) \n",
    "                            for o in (path/'valid'/'3').ls()])\n",
    "valid_3_tens = valid_3_tens.float()/255\n",
    "valid_7_tens = torch.stack([tensor(Image.open(o)) \n",
    "                            for o in (path/'valid'/'7').ls()])\n",
    "valid_7_tens = valid_7_tens.float()/255\n",
    "valid_3_tens.shape,valid_7_tens.shape"
   ]
  },
  {
   "cell_type": "code",
   "execution_count": 33,
   "metadata": {},
   "outputs": [
    {
     "data": {
      "text/plain": [
       "tensor(0.1114)"
      ]
     },
     "execution_count": 33,
     "metadata": {},
     "output_type": "execute_result"
    }
   ],
   "source": [
    "#write a function that returns the l1 norm. \n",
    "def l1(t1,t2):\n",
    "    res = (t1-t2).abs().mean((-1,-2))\n",
    "    return res \n",
    "l1(a_3, mean3)"
   ]
  },
  {
   "cell_type": "code",
   "execution_count": 34,
   "metadata": {},
   "outputs": [
    {
     "data": {
      "text/plain": [
       "(tensor([0.1456, 0.1290, 0.1356,  ..., 0.1133, 0.1151, 0.1358]),\n",
       " torch.Size([1010]))"
      ]
     },
     "execution_count": 34,
     "metadata": {},
     "output_type": "execute_result"
    }
   ],
   "source": [
    "#use that function on the tensors of valid to get results \n",
    "#We have a rank2 and rank 3 tensor. Pytorch uses broadcasting so it expends the smaller rank tensor to have same rank.\n",
    "#This will make the computation possible even with different sizes of tensor !\n",
    "valid_3_dist = l1(valid_3_tens, mean3)\n",
    "valid_3_dist, valid_3_dist.shape"
   ]
  },
  {
   "cell_type": "code",
   "execution_count": 35,
   "metadata": {},
   "outputs": [
    {
     "data": {
      "text/plain": [
       "(torch.Size([1010, 28, 28]), torch.Size([28, 28]))"
      ]
     },
     "execution_count": 35,
     "metadata": {},
     "output_type": "execute_result"
    }
   ],
   "source": [
    "valid_3_tens.shape, mean3.shape"
   ]
  },
  {
   "cell_type": "code",
   "execution_count": 36,
   "metadata": {},
   "outputs": [
    {
     "data": {
      "text/plain": [
       "tensor([2, 3, 4])"
      ]
     },
     "execution_count": 36,
     "metadata": {},
     "output_type": "execute_result"
    }
   ],
   "source": [
    "#Example of broadcasting \n",
    "tensor([1,2,3]) + tensor(1)"
   ]
  },
  {
   "cell_type": "code",
   "execution_count": 37,
   "metadata": {},
   "outputs": [
    {
     "data": {
      "text/plain": [
       "torch.Size([3])"
      ]
     },
     "execution_count": 37,
     "metadata": {},
     "output_type": "execute_result"
    }
   ],
   "source": [
    "#checking shape of operation, it will broadcast to rank\n",
    "(tensor([1,2,3]) + tensor(1)).shape"
   ]
  },
  {
   "cell_type": "markdown",
   "metadata": {},
   "source": [
    "# Making the classifier function \n",
    "\n",
    "We can just use the distance function we created to see which one is more similar and then calculate the accuracies for each set ! \n"
   ]
  },
  {
   "cell_type": "code",
   "execution_count": 38,
   "metadata": {},
   "outputs": [],
   "source": [
    "def is_7(x):\n",
    "    return l1(x, mean7) < l1(x, mean3)\n",
    "\n",
    "#if this function is false, then predict 3"
   ]
  },
  {
   "cell_type": "code",
   "execution_count": 39,
   "metadata": {},
   "outputs": [
    {
     "data": {
      "text/plain": [
       "tensor(1.)"
      ]
     },
     "execution_count": 39,
     "metadata": {},
     "output_type": "execute_result"
    }
   ],
   "source": [
    "#Casting true tensor to float will convert it to a number \n",
    "tensor(True).float()"
   ]
  },
  {
   "cell_type": "code",
   "execution_count": 40,
   "metadata": {},
   "outputs": [
    {
     "data": {
      "text/plain": [
       "tensor(0.9854)"
      ]
     },
     "execution_count": 40,
     "metadata": {},
     "output_type": "execute_result"
    }
   ],
   "source": [
    "#Use this property to calculate the accuracy ! \n",
    "acc7 = is_7(valid_7_tens).float().mean()\n",
    "acc7"
   ]
  },
  {
   "cell_type": "code",
   "execution_count": 41,
   "metadata": {},
   "outputs": [
    {
     "data": {
      "text/plain": [
       "tensor(0.9168)"
      ]
     },
     "execution_count": 41,
     "metadata": {},
     "output_type": "execute_result"
    }
   ],
   "source": [
    "acc3 = (1-is_7(valid_3_tens).float().mean())\n",
    "acc3"
   ]
  },
  {
   "cell_type": "markdown",
   "metadata": {},
   "source": [
    "# Stochastic Gradient Descent\n",
    "Using SGD on a set of parameters ... \n",
    "For the example, we take x⁴ function as loss. The parameter is x. \n",
    "It is a toy example but doing it for multiple parameters is essentially the same. "
   ]
  },
  {
   "cell_type": "code",
   "execution_count": 42,
   "metadata": {},
   "outputs": [
    {
     "name": "stderr",
     "output_type": "stream",
     "text": [
      "/home/lucien/anaconda3/envs/fastai/lib/python3.8/site-packages/fastbook/__init__.py:73: UserWarning: Not providing a value for linspace's steps is deprecated and will throw a runtime error in a future release. This warning will appear only once per process. (Triggered internally at  /pytorch/aten/src/ATen/native/RangeFactories.cpp:23.)\n",
      "  x = torch.linspace(min,max)\n"
     ]
    },
    {
     "data": {
      "image/png": "[encoded data removed]",
      "text/plain": [
       "<Figure size 432x288 with 1 Axes>"
      ]
     },
     "metadata": {
      "needs_background": "light"
     },
     "output_type": "display_data"
    }
   ],
   "source": [
    "def f(x):\n",
    "    return x**4\n",
    "plot_function(f, 'x', 'x**4')"
   ]
  },
  {
   "cell_type": "code",
   "execution_count": 43,
   "metadata": {},
   "outputs": [
    {
     "data": {
      "text/plain": [
       "tensor(2., requires_grad=True)"
      ]
     },
     "execution_count": 43,
     "metadata": {},
     "output_type": "execute_result"
    }
   ],
   "source": [
    "#init random param (2 for purpose of reproducibility)\n",
    "param = torch.tensor(2).float().requires_grad_()\n",
    "param"
   ]
  },
  {
   "cell_type": "code",
   "execution_count": 44,
   "metadata": {},
   "outputs": [
    {
     "data": {
      "text/plain": [
       "<matplotlib.collections.PathCollection at 0x7f819757c490>"
      ]
     },
     "execution_count": 44,
     "metadata": {},
     "output_type": "execute_result"
    },
    {
     "data": {
      "image/png": "[encoded data removed]",
      "text/plain": [
       "<Figure size 432x288 with 1 Axes>"
      ]
     },
     "metadata": {
      "needs_background": "light"
     },
     "output_type": "display_data"
    }
   ],
   "source": [
    "plot_function(f, 'x', 'x**4')\n",
    "plt.scatter(param.detach().numpy(), f(param.detach().numpy()))"
   ]
  },
  {
   "cell_type": "code",
   "execution_count": 45,
   "metadata": {},
   "outputs": [
    {
     "data": {
      "text/plain": [
       "tensor(32.)"
      ]
     },
     "execution_count": 45,
     "metadata": {},
     "output_type": "execute_result"
    }
   ],
   "source": [
    "#Get gradient \n",
    "xt = param \n",
    "yt = f(xt)\n",
    "yt.backward()\n",
    "xt.grad"
   ]
  },
  {
   "cell_type": "code",
   "execution_count": 46,
   "metadata": {},
   "outputs": [
    {
     "data": {
      "text/plain": [
       "tensor(1.6800, requires_grad=True)"
      ]
     },
     "execution_count": 46,
     "metadata": {},
     "output_type": "execute_result"
    }
   ],
   "source": [
    "#Now do one step for param optimisation \n",
    "alpha = 0.01\n",
    "xt.data = xt + (xt.grad * alpha * -1)\n",
    "xt.grad = None #reset\n",
    "xt"
   ]
  },
  {
   "cell_type": "code",
   "execution_count": 47,
   "metadata": {},
   "outputs": [
    {
     "data": {
      "text/plain": [
       "<matplotlib.collections.PathCollection at 0x7f81974738e0>"
      ]
     },
     "execution_count": 47,
     "metadata": {},
     "output_type": "execute_result"
    },
    {
     "data": {
      "image/png": "[encoded data removed]",
      "text/plain": [
       "<Figure size 432x288 with 1 Axes>"
      ]
     },
     "metadata": {
      "needs_background": "light"
     },
     "output_type": "display_data"
    }
   ],
   "source": [
    "plot_function(f, 'x', 'x**4')\n",
    "plt.scatter(xt.detach().numpy(), f(xt.detach().numpy()))"
   ]
  },
  {
   "cell_type": "code",
   "execution_count": 48,
   "metadata": {},
   "outputs": [],
   "source": [
    "#function for a full step \n",
    "def step(param, alpha, render = False):\n",
    "    #Do a whole step on the parameter \n",
    "    yt = f(param)\n",
    "    yt.backward()\n",
    "    grad = param.grad\n",
    "    param.data = param - (alpha * grad)\n",
    "    param.grad = None #reset gradient\n",
    "    if render:\n",
    "        plot_function(f, 'x', 'x**4')\n",
    "        plt.scatter(param.detach().numpy(), f(param.detach().numpy()))\n",
    "    print(param)\n",
    "    \n",
    "    "
   ]
  },
  {
   "cell_type": "code",
   "execution_count": 49,
   "metadata": {},
   "outputs": [
    {
     "name": "stdout",
     "output_type": "stream",
     "text": [
      "tensor(1.4903, requires_grad=True)\n",
      "tensor(1.3579, requires_grad=True)\n",
      "tensor(1.2578, requires_grad=True)\n",
      "tensor(1.1782, requires_grad=True)\n",
      "tensor(1.1128, requires_grad=True)\n",
      "tensor(1.0576, requires_grad=True)\n",
      "tensor(1.0103, requires_grad=True)\n",
      "tensor(0.9691, requires_grad=True)\n",
      "tensor(0.9327, requires_grad=True)\n",
      "tensor(0.9002, requires_grad=True)\n",
      "tensor(0.8710, requires_grad=True)\n",
      "tensor(0.8446, requires_grad=True)\n",
      "tensor(0.8205, requires_grad=True)\n",
      "tensor(0.7984, requires_grad=True)\n",
      "tensor(0.7780, requires_grad=True)\n",
      "tensor(0.7592, requires_grad=True)\n",
      "tensor(0.7417, requires_grad=True)\n",
      "tensor(0.7254, requires_grad=True)\n",
      "tensor(0.7101, requires_grad=True)\n",
      "tensor(0.6958, requires_grad=True)\n",
      "tensor(0.6823, requires_grad=True)\n",
      "tensor(0.6696, requires_grad=True)\n",
      "tensor(0.6576, requires_grad=True)\n",
      "tensor(0.6462, requires_grad=True)\n",
      "tensor(0.6354, requires_grad=True)\n",
      "tensor(0.6252, requires_grad=True)\n",
      "tensor(0.6154, requires_grad=True)\n",
      "tensor(0.6061, requires_grad=True)\n",
      "tensor(0.5972, requires_grad=True)\n",
      "tensor(0.5887, requires_grad=True)\n",
      "tensor(0.5805, requires_grad=True)\n",
      "tensor(0.5727, requires_grad=True)\n",
      "tensor(0.5652, requires_grad=True)\n",
      "tensor(0.5579, requires_grad=True)\n",
      "tensor(0.5510, requires_grad=True)\n",
      "tensor(0.5443, requires_grad=True)\n",
      "tensor(0.5378, requires_grad=True)\n",
      "tensor(0.5316, requires_grad=True)\n",
      "tensor(0.5256, requires_grad=True)\n",
      "tensor(0.5198, requires_grad=True)\n",
      "tensor(0.5142, requires_grad=True)\n",
      "tensor(0.5087, requires_grad=True)\n",
      "tensor(0.5035, requires_grad=True)\n",
      "tensor(0.4984, requires_grad=True)\n",
      "tensor(0.4934, requires_grad=True)\n",
      "tensor(0.4886, requires_grad=True)\n",
      "tensor(0.4840, requires_grad=True)\n",
      "tensor(0.4794, requires_grad=True)\n",
      "tensor(0.4750, requires_grad=True)\n",
      "tensor(0.4707, requires_grad=True)\n",
      "tensor(0.4666, requires_grad=True)\n",
      "tensor(0.4625, requires_grad=True)\n",
      "tensor(0.4585, requires_grad=True)\n",
      "tensor(0.4547, requires_grad=True)\n",
      "tensor(0.4509, requires_grad=True)\n",
      "tensor(0.4472, requires_grad=True)\n",
      "tensor(0.4437, requires_grad=True)\n",
      "tensor(0.4402, requires_grad=True)\n",
      "tensor(0.4368, requires_grad=True)\n",
      "tensor(0.4334, requires_grad=True)\n",
      "tensor(0.4302, requires_grad=True)\n",
      "tensor(0.4270, requires_grad=True)\n",
      "tensor(0.4239, requires_grad=True)\n",
      "tensor(0.4208, requires_grad=True)\n",
      "tensor(0.4179, requires_grad=True)\n",
      "tensor(0.4149, requires_grad=True)\n",
      "tensor(0.4121, requires_grad=True)\n",
      "tensor(0.4093, requires_grad=True)\n",
      "tensor(0.4065, requires_grad=True)\n",
      "tensor(0.4038, requires_grad=True)\n",
      "tensor(0.4012, requires_grad=True)\n",
      "tensor(0.3986, requires_grad=True)\n",
      "tensor(0.3961, requires_grad=True)\n",
      "tensor(0.3936, requires_grad=True)\n",
      "tensor(0.3912, requires_grad=True)\n",
      "tensor(0.3888, requires_grad=True)\n",
      "tensor(0.3864, requires_grad=True)\n",
      "tensor(0.3841, requires_grad=True)\n",
      "tensor(0.3818, requires_grad=True)\n",
      "tensor(0.3796, requires_grad=True)\n",
      "tensor(0.3774, requires_grad=True)\n",
      "tensor(0.3753, requires_grad=True)\n",
      "tensor(0.3732, requires_grad=True)\n",
      "tensor(0.3711, requires_grad=True)\n",
      "tensor(0.3690, requires_grad=True)\n",
      "tensor(0.3670, requires_grad=True)\n",
      "tensor(0.3651, requires_grad=True)\n",
      "tensor(0.3631, requires_grad=True)\n",
      "tensor(0.3612, requires_grad=True)\n",
      "tensor(0.3593, requires_grad=True)\n",
      "tensor(0.3575, requires_grad=True)\n",
      "tensor(0.3556, requires_grad=True)\n",
      "tensor(0.3538, requires_grad=True)\n",
      "tensor(0.3521, requires_grad=True)\n",
      "tensor(0.3503, requires_grad=True)\n",
      "tensor(0.3486, requires_grad=True)\n",
      "tensor(0.3469, requires_grad=True)\n",
      "tensor(0.3452, requires_grad=True)\n",
      "tensor(0.3436, requires_grad=True)\n",
      "tensor(0.3420, requires_grad=True)\n",
      "tensor(0.3404, requires_grad=True)\n"
     ]
    },
    {
     "data": {
      "image/png": "[encoded data removed]",
      "text/plain": [
       "<Figure size 432x288 with 1 Axes>"
      ]
     },
     "metadata": {
      "needs_background": "light"
     },
     "output_type": "display_data"
    }
   ],
   "source": [
    "#Applying 100 steps \n",
    "for i in range(100):\n",
    "    step(xt, alpha, False)\n",
    "step(xt, alpha, True)"
   ]
  },
  {
   "cell_type": "markdown",
   "metadata": {},
   "source": [
    "This shows exactly how parameter optimisation works with gradient descent. "
   ]
  },
  {
   "cell_type": "markdown",
   "metadata": {},
   "source": [
    "# Try it now with a function with multiple parameters for regression. "
   ]
  },
  {
   "cell_type": "code",
   "execution_count": 50,
   "metadata": {},
   "outputs": [
    {
     "data": {
      "text/plain": [
       "tensor([ 0.,  1.,  2.,  3.,  4.,  5.,  6.,  7.,  8.,  9., 10., 11., 12., 13., 14., 15., 16., 17., 18., 19.])"
      ]
     },
     "execution_count": 50,
     "metadata": {},
     "output_type": "execute_result"
    }
   ],
   "source": [
    "#x \n",
    "time = torch.arange(0,20).float()\n",
    "time"
   ]
  },
  {
   "cell_type": "code",
   "execution_count": 51,
   "metadata": {},
   "outputs": [
    {
     "data": {
      "text/plain": [
       "tensor([74.4682, 59.6494, 45.8897, 26.3709, 21.4131, 19.4225, 12.5899, 10.7294,  3.7551, -0.8724, -0.2926,  3.4120,  4.9926, 10.3128, 15.4328, 26.2671, 31.7583, 42.0004, 57.5977, 66.8227])"
      ]
     },
     "execution_count": 51,
     "metadata": {},
     "output_type": "execute_result"
    }
   ],
   "source": [
    "#y \n",
    "speed = torch.randn(20).float() * 3 + 0.75*(time-9.5)**2 + 1\n",
    "speed"
   ]
  },
  {
   "cell_type": "code",
   "execution_count": 52,
   "metadata": {},
   "outputs": [
    {
     "data": {
      "text/plain": [
       "<matplotlib.collections.PathCollection at 0x7f8196b4a250>"
      ]
     },
     "execution_count": 52,
     "metadata": {},
     "output_type": "execute_result"
    },
    {
     "data": {
      "image/png": "[encoded data removed]",
      "text/plain": [
       "<Figure size 432x288 with 1 Axes>"
      ]
     },
     "metadata": {
      "needs_background": "light"
     },
     "output_type": "display_data"
    }
   ],
   "source": [
    "plt.scatter(time, speed)"
   ]
  },
  {
   "cell_type": "code",
   "execution_count": 53,
   "metadata": {},
   "outputs": [],
   "source": [
    "#Function with all parameters \n",
    "def f(t, params): #params is a vector tensor \n",
    "    a, b, c = params\n",
    "    return a*(t**2) + (b*t) + c\n",
    "\n",
    "#mse \n",
    "def mse(preds, targets):\n",
    "    return ((preds - targets)**2).mean().sqrt()\n"
   ]
  },
  {
   "cell_type": "code",
   "execution_count": 54,
   "metadata": {},
   "outputs": [],
   "source": [
    "params =torch.randn(3).requires_grad_()\n",
    "origin_parameters = params.clone()\n",
    "preds = f(time, params)"
   ]
  },
  {
   "cell_type": "code",
   "execution_count": 55,
   "metadata": {},
   "outputs": [
    {
     "data": {
      "image/png": "[encoded data removed]",
      "text/plain": [
       "<Figure size 432x288 with 1 Axes>"
      ]
     },
     "metadata": {
      "needs_background": "light"
     },
     "output_type": "display_data"
    }
   ],
   "source": [
    "def show_preds(preds, ax=None):\n",
    "    if ax is None: ax=plt.subplots()[1]\n",
    "    ax.scatter(time, speed)\n",
    "    ax.scatter(time, to_np(preds), color='red')\n",
    "    ax.set_ylim(-300,100)\n",
    "show_preds(preds)"
   ]
  },
  {
   "cell_type": "code",
   "execution_count": 56,
   "metadata": {},
   "outputs": [
    {
     "name": "stdout",
     "output_type": "stream",
     "text": [
      "160.6978759765625\n"
     ]
    },
    {
     "data": {
      "text/plain": [
       "tensor([ 1.3526e+00, -1.6214e-01, -3.2052e+00, -7.7766e+00, -1.3876e+01, -2.1505e+01, -3.0661e+01, -4.1346e+01, -5.3559e+01, -6.7301e+01, -8.2571e+01, -9.9369e+01, -1.1770e+02, -1.3755e+02,\n",
       "        -1.5893e+02, -1.8185e+02, -2.0629e+02, -2.3226e+02, -2.5975e+02, -2.8878e+02], grad_fn=<AddBackward0>)"
      ]
     },
     "execution_count": 56,
     "metadata": {},
     "output_type": "execute_result"
    },
    {
     "data": {
      "image/png": "[encoded data removed]",
      "text/plain": [
       "<Figure size 432x288 with 1 Axes>"
      ]
     },
     "metadata": {
      "needs_background": "light"
     },
     "output_type": "display_data"
    }
   ],
   "source": [
    "def step(params, alpha, show = False):\n",
    "    preds = f(time, params)\n",
    "    loss = mse(preds, speed)\n",
    "    loss.backward()\n",
    "    params.data = params - alpha * params.grad\n",
    "    params.grad = None\n",
    "    print(loss.item())\n",
    "    preds = f(time, params)\n",
    "    if show: \n",
    "        show_preds(preds)\n",
    "    return preds\n",
    "\n",
    "        #after one step\n",
    "step(params, 0.00001, show = True)    "
   ]
  },
  {
   "cell_type": "code",
   "execution_count": 57,
   "metadata": {},
   "outputs": [
    {
     "name": "stdout",
     "output_type": "stream",
     "text": [
      "160.42279052734375\n",
      "160.14772033691406\n",
      "159.87271118164062\n",
      "159.59768676757812\n",
      "159.3227081298828\n",
      "159.04774475097656\n",
      "158.7728271484375\n",
      "158.4979248046875\n",
      "158.22305297851562\n",
      "157.9481964111328\n",
      "157.67337036132812\n",
      "157.39857482910156\n",
      "157.12380981445312\n",
      "156.84906005859375\n",
      "156.5743408203125\n",
      "156.29965209960938\n",
      "156.02499389648438\n",
      "155.75035095214844\n",
      "155.4757537841797\n",
      "155.201171875\n",
      "154.92662048339844\n",
      "154.65211486816406\n",
      "154.37762451171875\n",
      "154.1031494140625\n",
      "153.82872009277344\n",
      "153.55430603027344\n",
      "153.27992248535156\n",
      "153.0055694580078\n",
      "152.73126220703125\n",
      "152.4569549560547\n",
      "152.18270874023438\n",
      "151.90847778320312\n",
      "151.63426208496094\n",
      "151.36009216308594\n",
      "151.08595275878906\n",
      "150.81185913085938\n",
      "150.5377655029297\n",
      "150.26370239257812\n",
      "149.9897003173828\n",
      "149.7156982421875\n",
      "149.44175720214844\n",
      "149.16783142089844\n",
      "148.89393615722656\n",
      "148.6200714111328\n",
      "148.3462371826172\n",
      "148.0724334716797\n",
      "147.79867553710938\n",
      "147.52493286132812\n",
      "147.25123596191406\n",
      "146.97756958007812\n",
      "146.7039337158203\n",
      "146.43032836914062\n",
      "146.15676879882812\n",
      "145.88323974609375\n",
      "145.60971069335938\n",
      "145.3362579345703\n",
      "145.06283569335938\n",
      "144.78941345214844\n",
      "144.51605224609375\n",
      "144.24273681640625\n",
      "143.96942138671875\n",
      "143.6961669921875\n",
      "143.4229278564453\n",
      "143.14974975585938\n",
      "142.87661743164062\n",
      "142.6034698486328\n",
      "142.3303985595703\n",
      "142.05734252929688\n",
      "141.78433227539062\n",
      "141.5113525390625\n",
      "141.23843383789062\n",
      "140.9655303955078\n",
      "140.69265747070312\n",
      "140.41983032226562\n",
      "140.14703369140625\n",
      "139.87429809570312\n",
      "139.60157775878906\n",
      "139.3289031982422\n",
      "139.05625915527344\n",
      "138.78367614746094\n",
      "138.5111083984375\n",
      "138.2386016845703\n",
      "137.96612548828125\n",
      "137.69369506835938\n",
      "137.42127990722656\n",
      "137.14894104003906\n",
      "136.87660217285156\n",
      "136.60433959960938\n",
      "136.3320770263672\n",
      "136.0598907470703\n",
      "135.78773498535156\n",
      "135.515625\n",
      "135.2435302734375\n",
      "134.9715118408203\n",
      "134.69952392578125\n",
      "134.42759704589844\n",
      "134.1556854248047\n",
      "133.88381958007812\n",
      "133.61199951171875\n",
      "133.3402099609375\n",
      "133.06849670410156\n",
      "132.79681396484375\n",
      "132.52517700195312\n",
      "132.25357055664062\n",
      "131.98204040527344\n",
      "131.71051025390625\n",
      "131.43905639648438\n",
      "131.16763305664062\n",
      "130.89625549316406\n",
      "130.62493896484375\n",
      "130.35366821289062\n",
      "130.08242797851562\n",
      "129.81126403808594\n",
      "129.54013061523438\n",
      "129.26902770996094\n",
      "128.99798583984375\n",
      "128.7269744873047\n",
      "128.4560546875\n",
      "128.18515014648438\n",
      "127.91431427001953\n",
      "127.64350891113281\n",
      "127.37277221679688\n",
      "127.1020736694336\n",
      "126.83142852783203\n",
      "126.56082916259766\n",
      "126.29029083251953\n",
      "126.01979064941406\n",
      "125.74935150146484\n",
      "125.47895812988281\n",
      "125.2086410522461\n",
      "124.93834686279297\n",
      "124.6681137084961\n",
      "124.39794921875\n",
      "124.12781524658203\n",
      "123.85774230957031\n",
      "123.58772277832031\n",
      "123.31776428222656\n",
      "123.04785919189453\n",
      "122.77799987792969\n",
      "122.5082015991211\n",
      "122.23847198486328\n",
      "121.96878051757812\n",
      "121.69916534423828\n",
      "121.42959594726562\n",
      "121.16008758544922\n",
      "120.89063262939453\n",
      "120.62123107910156\n",
      "120.35187530517578\n",
      "120.08259582519531\n",
      "119.81338500976562\n",
      "119.54422760009766\n",
      "119.27513122558594\n",
      "119.00609588623047\n",
      "118.73712158203125\n",
      "118.46820831298828\n",
      "118.19935607910156\n",
      "117.93054962158203\n",
      "117.66181182861328\n",
      "117.39315795898438\n",
      "117.12455749511719\n",
      "116.85601043701172\n",
      "116.5875473022461\n",
      "116.31913757324219\n",
      "116.05079650878906\n",
      "115.78250122070312\n",
      "115.51429748535156\n",
      "115.24613952636719\n",
      "114.97806549072266\n",
      "114.71004486083984\n",
      "114.44210052490234\n",
      "114.17422485351562\n",
      "113.90641784667969\n",
      "113.63868713378906\n",
      "113.37100982666016\n",
      "113.10340881347656\n",
      "112.83587646484375\n",
      "112.56842041015625\n",
      "112.30104064941406\n",
      "112.03372192382812\n",
      "111.76647186279297\n",
      "111.49932098388672\n",
      "111.23222351074219\n",
      "110.96520233154297\n",
      "110.6982421875\n",
      "110.43138122558594\n",
      "110.16458129882812\n",
      "109.89785766601562\n",
      "109.63121795654297\n",
      "109.36465454101562\n",
      "109.0981674194336\n",
      "108.83175659179688\n",
      "108.56542205810547\n",
      "108.2991714477539\n",
      "108.03301239013672\n",
      "107.76690673828125\n",
      "107.50090789794922\n",
      "107.23497772216797\n",
      "106.96912384033203\n",
      "106.70336151123047\n",
      "106.43769073486328\n",
      "106.17208862304688\n",
      "105.90658569335938\n",
      "105.64115142822266\n",
      "105.37582397460938\n",
      "105.1105728149414\n",
      "104.84541320800781\n",
      "104.58032989501953\n",
      "104.31534576416016\n",
      "104.05045318603516\n",
      "103.78563690185547\n",
      "103.52091217041016\n",
      "103.25629425048828\n",
      "102.99176025390625\n",
      "102.72731018066406\n",
      "102.46295928955078\n",
      "102.1987075805664\n",
      "101.9345474243164\n",
      "101.67047119140625\n",
      "101.40650177001953\n",
      "101.14262390136719\n",
      "100.87885284423828\n",
      "100.61516571044922\n",
      "100.35159301757812\n",
      "100.0881118774414\n",
      "99.8247299194336\n",
      "99.56145477294922\n",
      "99.29827117919922\n",
      "99.03519439697266\n",
      "98.772216796875\n",
      "98.50934600830078\n",
      "98.24658966064453\n",
      "97.98394012451172\n",
      "97.72139739990234\n",
      "97.45895385742188\n",
      "97.19661712646484\n",
      "96.93438720703125\n",
      "96.67227172851562\n",
      "96.41027069091797\n",
      "96.14837646484375\n",
      "95.88658905029297\n",
      "95.62493133544922\n",
      "95.36337280273438\n",
      "95.1019287109375\n",
      "94.84060668945312\n",
      "94.57940673828125\n",
      "94.31830596923828\n",
      "94.0573501586914\n",
      "93.79650115966797\n",
      "93.5357666015625\n",
      "93.27516174316406\n",
      "93.0146713256836\n",
      "92.75431823730469\n",
      "92.49407958984375\n",
      "92.23397827148438\n",
      "91.97398376464844\n",
      "91.7141342163086\n",
      "91.45439910888672\n",
      "91.1948013305664\n",
      "90.93533325195312\n",
      "90.67599487304688\n",
      "90.41679382324219\n",
      "90.15772247314453\n",
      "89.89878845214844\n",
      "89.63999938964844\n",
      "89.3813247680664\n",
      "89.122802734375\n",
      "88.86441802978516\n",
      "88.60618591308594\n",
      "88.34806823730469\n",
      "88.09011840820312\n",
      "87.8322982788086\n",
      "87.57463073730469\n",
      "87.31710815429688\n",
      "87.05973052978516\n",
      "86.80250549316406\n",
      "86.54542541503906\n",
      "86.28850555419922\n",
      "86.03172302246094\n",
      "85.77511596679688\n",
      "85.51864624023438\n",
      "85.26234436035156\n",
      "85.00618743896484\n",
      "84.75019836425781\n",
      "84.49436950683594\n",
      "84.23870086669922\n",
      "83.98320007324219\n",
      "83.72785949707031\n",
      "83.4726791381836\n",
      "83.2176742553711\n",
      "82.96282958984375\n",
      "82.70816802978516\n",
      "82.45367431640625\n",
      "82.19934844970703\n",
      "81.94519805908203\n",
      "81.69123077392578\n",
      "81.43744659423828\n",
      "81.18382263183594\n",
      "80.93038940429688\n",
      "80.67713928222656\n",
      "80.42406463623047\n",
      "80.17118072509766\n",
      "79.91848754882812\n",
      "79.66597747802734\n",
      "79.41366577148438\n",
      "79.16154479980469\n",
      "78.90961456298828\n",
      "78.65787506103516\n",
      "78.4063491821289\n",
      "78.15501403808594\n",
      "77.90387725830078\n",
      "77.65293884277344\n",
      "77.4022216796875\n",
      "77.15169525146484\n",
      "76.90137481689453\n",
      "76.6512680053711\n",
      "76.40138244628906\n",
      "76.15170288085938\n",
      "75.9022445678711\n",
      "75.65299224853516\n",
      "75.40396881103516\n",
      "75.15515899658203\n",
      "74.90658569335938\n",
      "74.6582260131836\n",
      "74.41009521484375\n",
      "74.16220092773438\n",
      "73.9145278930664\n",
      "73.6670913696289\n",
      "73.4198989868164\n",
      "73.17293548583984\n",
      "72.92621612548828\n",
      "72.67974853515625\n",
      "72.43351745605469\n",
      "72.18753051757812\n",
      "71.9417953491211\n",
      "71.6963119506836\n",
      "71.45108795166016\n",
      "71.20611572265625\n",
      "70.9614028930664\n",
      "70.71694946289062\n",
      "70.47276306152344\n",
      "70.22883605957031\n",
      "69.98519134521484\n",
      "69.74180603027344\n",
      "69.49870300292969\n",
      "69.25586700439453\n",
      "69.01331329345703\n",
      "68.77104187011719\n",
      "68.52906036376953\n",
      "68.28734588623047\n",
      "68.04594421386719\n",
      "67.80481719970703\n",
      "67.56399536132812\n",
      "67.3234634399414\n",
      "67.08323669433594\n",
      "66.84332275390625\n",
      "66.60370635986328\n",
      "66.36438751220703\n",
      "66.12539672851562\n",
      "65.88671875\n",
      "65.64836120605469\n",
      "65.41032409667969\n",
      "65.17259979248047\n",
      "64.93521118164062\n",
      "64.69815063476562\n",
      "64.46143341064453\n",
      "64.22504425048828\n",
      "63.98899841308594\n",
      "63.753299713134766\n",
      "63.5179328918457\n",
      "63.282928466796875\n",
      "63.048274993896484\n",
      "62.81398010253906\n",
      "62.580047607421875\n",
      "62.34648132324219\n",
      "62.11327362060547\n",
      "61.88043975830078\n",
      "61.64798355102539\n",
      "61.41590118408203\n",
      "61.184200286865234\n",
      "60.95288848876953\n",
      "60.72196960449219\n",
      "60.49143600463867\n",
      "60.26130294799805\n",
      "60.031578063964844\n",
      "59.80224609375\n",
      "59.573326110839844\n",
      "59.344825744628906\n",
      "59.116729736328125\n",
      "58.88906478881836\n",
      "58.66182327270508\n",
      "58.43500518798828\n",
      "58.2086296081543\n",
      "57.98268127441406\n",
      "57.757179260253906\n",
      "57.532127380371094\n",
      "57.30752182006836\n",
      "57.083377838134766\n",
      "56.859683990478516\n",
      "56.6364631652832\n",
      "56.413700103759766\n",
      "56.19141387939453\n",
      "55.969608306884766\n",
      "55.74828338623047\n",
      "55.52744674682617\n",
      "55.30709457397461\n",
      "55.087249755859375\n",
      "54.867897033691406\n",
      "54.64905548095703\n",
      "54.430721282958984\n",
      "54.21290969848633\n",
      "53.995609283447266\n",
      "53.77884292602539\n",
      "53.56260299682617\n",
      "53.346900939941406\n",
      "53.131744384765625\n",
      "52.91713333129883\n",
      "52.703067779541016\n",
      "52.489566802978516\n",
      "52.2766227722168\n",
      "52.06424331665039\n",
      "51.852447509765625\n",
      "51.641231536865234\n",
      "51.43058776855469\n",
      "51.220542907714844\n",
      "51.01108932495117\n",
      "50.802242279052734\n",
      "50.593997955322266\n",
      "50.38636779785156\n",
      "50.17935562133789\n",
      "49.972965240478516\n",
      "49.7672119140625\n",
      "49.56209182739258\n",
      "49.35761260986328\n",
      "49.153778076171875\n",
      "48.95060348510742\n",
      "48.74808120727539\n",
      "48.54623031616211\n",
      "48.34505081176758\n",
      "48.14455032348633\n",
      "47.944732666015625\n",
      "47.745609283447266\n",
      "47.547176361083984\n",
      "47.34945297241211\n",
      "47.152435302734375\n",
      "46.95613479614258\n",
      "46.76055908203125\n",
      "46.56570816040039\n",
      "46.3715934753418\n",
      "46.17822265625\n",
      "45.985599517822266\n",
      "45.793731689453125\n",
      "45.60261154174805\n",
      "45.41227340698242\n",
      "45.22270965576172\n",
      "45.03392028808594\n",
      "44.84592056274414\n",
      "44.65871810913086\n",
      "44.47231674194336\n",
      "44.286712646484375\n",
      "44.1019287109375\n",
      "43.91796875\n",
      "43.734832763671875\n",
      "43.552528381347656\n",
      "43.37106704711914\n",
      "43.190452575683594\n",
      "43.01069259643555\n",
      "42.831790924072266\n",
      "42.65375900268555\n",
      "42.476600646972656\n",
      "42.30031967163086\n",
      "42.12492752075195\n",
      "41.9504280090332\n",
      "41.77682876586914\n",
      "41.6041374206543\n",
      "41.43235778808594\n",
      "41.26150131225586\n",
      "41.09156799316406\n",
      "40.92256164550781\n",
      "40.75450134277344\n",
      "40.5873908996582\n",
      "40.42121887207031\n",
      "40.256011962890625\n",
      "40.091773986816406\n",
      "39.92850112915039\n",
      "39.766204833984375\n",
      "39.60489273071289\n",
      "39.4445686340332\n",
      "39.28523635864258\n",
      "39.12691116333008\n",
      "38.96958541870117\n",
      "38.81327438354492\n",
      "38.65798568725586\n",
      "38.50371551513672\n",
      "38.3504753112793\n",
      "38.19826889038086\n",
      "38.04710006713867\n",
      "37.896976470947266\n",
      "37.74790573120117\n",
      "37.599891662597656\n",
      "37.45293045043945\n",
      "37.30704116821289\n",
      "37.1622200012207\n",
      "37.01847457885742\n",
      "36.87580490112305\n",
      "36.73421859741211\n",
      "36.593719482421875\n",
      "36.454307556152344\n",
      "36.31599807739258\n",
      "36.17878341674805\n",
      "36.04267501831055\n",
      "35.90766906738281\n",
      "35.77377700805664\n",
      "35.640995025634766\n",
      "35.50933074951172\n",
      "35.378787994384766\n",
      "35.24936294555664\n",
      "35.121063232421875\n",
      "34.993892669677734\n",
      "34.86784744262695\n",
      "34.74293899536133\n",
      "34.619163513183594\n",
      "34.49652099609375\n",
      "34.37501907348633\n",
      "34.2546501159668\n",
      "34.13542556762695\n",
      "34.01734161376953\n",
      "33.90039825439453\n",
      "33.78459167480469\n",
      "33.66993713378906\n",
      "33.556419372558594\n",
      "33.44404602050781\n",
      "33.332820892333984\n",
      "33.22273635864258\n",
      "33.113792419433594\n",
      "33.00598907470703\n",
      "32.89932632446289\n",
      "32.79380416870117\n",
      "32.689422607421875\n",
      "32.58617401123047\n",
      "32.484066009521484\n",
      "32.38309097290039\n",
      "32.28324508666992\n",
      "32.18452835083008\n",
      "32.086936950683594\n",
      "31.9904727935791\n",
      "31.89512825012207\n",
      "31.800901412963867\n",
      "31.70779037475586\n",
      "31.61579132080078\n",
      "31.524898529052734\n",
      "31.43511199951172\n",
      "31.346420288085938\n",
      "31.258831024169922\n",
      "31.17232894897461\n",
      "31.086910247802734\n",
      "31.002578735351562\n",
      "30.919322967529297\n",
      "30.83713722229004\n",
      "30.756017684936523\n",
      "30.675962448120117\n",
      "30.596956253051758\n",
      "30.51900291442871\n",
      "30.442092895507812\n",
      "30.366222381591797\n",
      "30.291379928588867\n",
      "30.217561721801758\n",
      "30.14476203918457\n",
      "30.07297134399414\n",
      "30.00218963623047\n",
      "29.932401657104492\n",
      "29.863605499267578\n",
      "29.79578971862793\n",
      "29.72895050048828\n",
      "29.6630802154541\n",
      "29.598169326782227\n",
      "29.534210205078125\n",
      "29.4711971282959\n",
      "29.40911865234375\n",
      "29.347970962524414\n",
      "29.287738800048828\n",
      "29.228425979614258\n",
      "29.170013427734375\n",
      "29.11249351501465\n",
      "29.055862426757812\n",
      "29.000112533569336\n",
      "28.945226669311523\n",
      "28.891204833984375\n",
      "28.83803367614746\n",
      "28.785707473754883\n",
      "28.734216690063477\n",
      "28.683549880981445\n",
      "28.63370132446289\n",
      "28.584659576416016\n",
      "28.536418914794922\n",
      "28.488964080810547\n",
      "28.442291259765625\n",
      "28.396390914916992\n"
     ]
    },
    {
     "name": "stdout",
     "output_type": "stream",
     "text": [
      "28.35125160217285\n",
      "28.306867599487305\n",
      "28.263225555419922\n",
      "28.22032356262207\n",
      "28.178144454956055\n",
      "28.136680603027344\n",
      "28.095928192138672\n",
      "28.05587387084961\n",
      "28.016508102416992\n",
      "27.977825164794922\n",
      "27.9398136138916\n",
      "27.902463912963867\n",
      "27.86577033996582\n",
      "27.829721450805664\n",
      "27.794307708740234\n",
      "27.759519577026367\n",
      "27.725353240966797\n",
      "27.691795349121094\n",
      "27.65884017944336\n",
      "27.62647247314453\n",
      "27.594694137573242\n",
      "27.56348991394043\n",
      "27.532852172851562\n",
      "27.50277328491211\n",
      "27.473243713378906\n",
      "27.444255828857422\n",
      "27.415800094604492\n",
      "27.38787078857422\n",
      "27.360462188720703\n",
      "27.33355712890625\n",
      "27.307153701782227\n",
      "27.281246185302734\n",
      "27.255823135375977\n",
      "27.230878829956055\n",
      "27.206403732299805\n",
      "27.182390213012695\n",
      "27.158828735351562\n",
      "27.135717391967773\n",
      "27.113048553466797\n",
      "27.090808868408203\n",
      "27.068994522094727\n",
      "27.0476016998291\n",
      "27.02661895751953\n",
      "27.006040573120117\n",
      "26.985857009887695\n",
      "26.966068267822266\n",
      "26.946659088134766\n",
      "26.927631378173828\n",
      "26.90896987915039\n",
      "26.890676498413086\n",
      "26.872737884521484\n",
      "26.855154037475586\n",
      "26.837913513183594\n",
      "26.82101058959961\n",
      "26.804445266723633\n",
      "26.788204193115234\n",
      "26.77228546142578\n",
      "26.756681442260742\n",
      "26.74138832092285\n",
      "26.726398468017578\n",
      "26.711708068847656\n",
      "26.697309494018555\n",
      "26.683198928833008\n",
      "26.669370651245117\n",
      "26.65582275390625\n",
      "26.64254379272461\n",
      "26.629531860351562\n",
      "26.616785049438477\n",
      "26.604291915893555\n",
      "26.592050552368164\n",
      "26.580060958862305\n",
      "26.56831169128418\n",
      "26.556800842285156\n",
      "26.545522689819336\n",
      "26.53447723388672\n",
      "26.52365493774414\n",
      "26.513051986694336\n",
      "26.502666473388672\n",
      "26.49249267578125\n",
      "26.482528686523438\n",
      "26.472768783569336\n",
      "26.46320343017578\n",
      "26.453840255737305\n",
      "26.44466781616211\n",
      "26.43568229675293\n",
      "26.426881790161133\n",
      "26.418270111083984\n",
      "26.409826278686523\n",
      "26.401559829711914\n",
      "26.393465042114258\n",
      "26.38553810119629\n",
      "26.37777328491211\n",
      "26.370174407958984\n",
      "26.362730026245117\n",
      "26.355438232421875\n",
      "26.348299026489258\n",
      "26.341310501098633\n",
      "26.334463119506836\n",
      "26.327762603759766\n",
      "26.321199417114258\n",
      "26.314775466918945\n",
      "26.308483123779297\n",
      "26.302322387695312\n",
      "26.296289443969727\n",
      "26.29038429260254\n",
      "26.28460121154785\n",
      "26.27894401550293\n",
      "26.273401260375977\n",
      "26.267974853515625\n",
      "26.262662887573242\n",
      "26.25745964050293\n",
      "26.25237274169922\n",
      "26.24738883972168\n",
      "26.24250602722168\n",
      "26.23773193359375\n",
      "26.23305320739746\n",
      "26.228477478027344\n",
      "26.223997116088867\n",
      "26.2196102142334\n",
      "26.215314865112305\n",
      "26.211111068725586\n",
      "26.206995010375977\n",
      "26.20296859741211\n",
      "26.199024200439453\n",
      "26.195165634155273\n",
      "26.191389083862305\n",
      "26.18768882751465\n",
      "26.184072494506836\n",
      "26.18052864074707\n",
      "26.177061080932617\n",
      "26.173667907714844\n",
      "26.17034339904785\n",
      "26.16709327697754\n",
      "26.163908004760742\n",
      "26.160795211791992\n",
      "26.157745361328125\n",
      "26.154760360717773\n",
      "26.151840209960938\n",
      "26.14898109436035\n",
      "26.146183013916016\n",
      "26.143444061279297\n",
      "26.140766143798828\n",
      "26.138141632080078\n",
      "26.135574340820312\n",
      "26.1330623626709\n",
      "26.130603790283203\n",
      "26.128196716308594\n",
      "26.12584114074707\n",
      "26.12353515625\n",
      "26.121278762817383\n",
      "26.11907196044922\n",
      "26.11690902709961\n",
      "26.114795684814453\n",
      "26.11272430419922\n",
      "26.110698699951172\n",
      "26.108718872070312\n",
      "26.10677719116211\n",
      "26.104877471923828\n",
      "26.1030216217041\n",
      "26.10120391845703\n",
      "26.09942626953125\n",
      "26.09768295288086\n",
      "26.095979690551758\n",
      "26.094310760498047\n",
      "26.092681884765625\n",
      "26.091079711914062\n",
      "26.089519500732422\n",
      "26.08799171447754\n",
      "26.08649444580078\n",
      "26.08502960205078\n",
      "26.08359718322754\n",
      "26.082195281982422\n",
      "26.080820083618164\n",
      "26.07947540283203\n",
      "26.078163146972656\n",
      "26.07687759399414\n",
      "26.075618743896484\n",
      "26.074386596679688\n",
      "26.073179244995117\n",
      "26.07200050354004\n",
      "26.07084846496582\n",
      "26.069719314575195\n",
      "26.068614959716797\n",
      "26.06753158569336\n",
      "26.06647300720215\n",
      "26.06543731689453\n",
      "26.064422607421875\n",
      "26.063430786132812\n",
      "26.062463760375977\n",
      "26.061511993408203\n",
      "26.060585021972656\n",
      "26.059673309326172\n",
      "26.05878448486328\n",
      "26.057912826538086\n",
      "26.05706214904785\n",
      "26.05622673034668\n",
      "26.055410385131836\n",
      "26.05461311340332\n",
      "26.0538330078125\n",
      "26.053068161010742\n",
      "26.05232048034668\n",
      "26.05158805847168\n",
      "26.050870895385742\n",
      "26.0501708984375\n",
      "26.049484252929688\n",
      "26.04881477355957\n",
      "26.04815673828125\n",
      "26.04751205444336\n",
      "26.046886444091797\n",
      "26.0462703704834\n",
      "26.04566764831543\n",
      "26.04507827758789\n",
      "26.04450035095215\n",
      "26.0439395904541\n",
      "26.043384552001953\n",
      "26.0428466796875\n",
      "26.04231834411621\n",
      "26.04180145263672\n",
      "26.04129409790039\n",
      "26.04079818725586\n",
      "26.040315628051758\n",
      "26.039840698242188\n",
      "26.039377212524414\n",
      "26.038921356201172\n",
      "26.03847885131836\n",
      "26.038043975830078\n",
      "26.037616729736328\n",
      "26.037200927734375\n",
      "26.036794662475586\n",
      "26.036394119262695\n",
      "26.0360050201416\n",
      "26.03562355041504\n",
      "26.03525161743164\n",
      "26.03488540649414\n",
      "26.034526824951172\n",
      "26.034177780151367\n",
      "26.03383445739746\n",
      "26.033498764038086\n",
      "26.033170700073242\n",
      "26.032852172851562\n",
      "26.032535552978516\n",
      "26.032228469848633\n",
      "26.03192710876465\n",
      "26.031635284423828\n",
      "26.031347274780273\n",
      "26.031064987182617\n",
      "26.03078842163086\n",
      "26.030517578125\n",
      "26.030254364013672\n",
      "26.029996871948242\n",
      "26.02974510192871\n",
      "26.029497146606445\n",
      "26.029254913330078\n",
      "26.029020309448242\n",
      "26.02878761291504\n",
      "26.0285587310791\n",
      "26.028335571289062\n",
      "26.028120040893555\n",
      "26.027908325195312\n",
      "26.027700424194336\n",
      "26.027498245239258\n",
      "26.02729606628418\n",
      "26.027101516723633\n",
      "26.02691078186035\n",
      "26.026721954345703\n",
      "26.026540756225586\n",
      "26.0263614654541\n",
      "26.026187896728516\n",
      "26.026016235351562\n",
      "26.025848388671875\n",
      "26.025684356689453\n",
      "26.02552604675293\n",
      "26.025367736816406\n",
      "26.02521514892578\n",
      "26.025060653686523\n",
      "26.02491569519043\n",
      "26.024770736694336\n",
      "26.024627685546875\n",
      "26.024494171142578\n",
      "26.024356842041016\n",
      "26.02422523498535\n",
      "26.02409553527832\n",
      "26.023967742919922\n",
      "26.023845672607422\n",
      "26.023723602294922\n",
      "26.023605346679688\n",
      "26.023488998413086\n",
      "26.02337646484375\n",
      "26.023263931274414\n",
      "26.023155212402344\n",
      "26.02305030822754\n",
      "26.0229434967041\n",
      "26.022842407226562\n",
      "26.022743225097656\n",
      "26.02264404296875\n",
      "26.02254867553711\n",
      "26.02245330810547\n",
      "26.022363662719727\n",
      "26.022274017333984\n",
      "26.022186279296875\n",
      "26.022096633911133\n",
      "26.022016525268555\n",
      "26.02193260192871\n",
      "26.021852493286133\n",
      "26.021772384643555\n",
      "26.021696090698242\n",
      "26.02161979675293\n",
      "26.02154541015625\n",
      "26.021472930908203\n",
      "26.021400451660156\n",
      "26.021333694458008\n",
      "26.021265029907227\n",
      "26.021198272705078\n",
      "26.021133422851562\n",
      "26.021068572998047\n",
      "26.021007537841797\n",
      "26.020946502685547\n",
      "26.020885467529297\n",
      "26.020828247070312\n",
      "26.02077293395996\n",
      "26.020713806152344\n",
      "26.020658493041992\n",
      "26.020605087280273\n",
      "26.020553588867188\n",
      "26.0205020904541\n",
      "26.020450592041016\n",
      "26.020401000976562\n",
      "26.020353317260742\n",
      "26.02030372619629\n",
      "26.0202579498291\n",
      "26.020214080810547\n",
      "26.020170211791992\n",
      "26.020124435424805\n",
      "26.020084381103516\n",
      "26.020042419433594\n",
      "26.020000457763672\n",
      "26.019960403442383\n",
      "26.019920349121094\n",
      "26.01988410949707\n",
      "26.01984405517578\n",
      "26.019807815551758\n",
      "26.019771575927734\n",
      "26.019737243652344\n",
      "26.01970100402832\n",
      "26.01966667175293\n",
      "26.019634246826172\n",
      "26.019601821899414\n",
      "26.019569396972656\n",
      "26.0195369720459\n",
      "26.019508361816406\n",
      "26.01947784423828\n",
      "26.019451141357422\n",
      "26.019420623779297\n",
      "26.019393920898438\n",
      "26.019365310668945\n",
      "26.019338607788086\n",
      "26.019309997558594\n",
      "26.019287109375\n",
      "26.019258499145508\n",
      "26.019235610961914\n",
      "26.019210815429688\n",
      "26.01918601989746\n",
      "26.019163131713867\n",
      "26.019142150878906\n",
      "26.019119262695312\n",
      "26.01909637451172\n",
      "26.019075393676758\n",
      "26.019052505493164\n",
      "26.019033432006836\n",
      "26.019012451171875\n",
      "26.018991470336914\n",
      "26.018970489501953\n",
      "26.018953323364258\n",
      "26.01893424987793\n",
      "26.0189151763916\n",
      "26.018898010253906\n",
      "26.018878936767578\n",
      "26.018863677978516\n",
      "26.018848419189453\n",
      "26.018829345703125\n",
      "26.01881217956543\n",
      "26.018796920776367\n",
      "26.018781661987305\n",
      "26.01876449584961\n",
      "26.01875114440918\n",
      "26.018735885620117\n",
      "26.018720626831055\n",
      "26.018705368041992\n",
      "26.018693923950195\n",
      "26.018678665161133\n",
      "26.018667221069336\n",
      "26.018651962280273\n",
      "26.018640518188477\n",
      "26.018625259399414\n",
      "26.018613815307617\n",
      "26.018604278564453\n",
      "26.01858901977539\n",
      "26.018577575683594\n",
      "26.01856803894043\n",
      "26.0185546875\n",
      "26.018543243408203\n",
      "26.018531799316406\n"
     ]
    }
   ],
   "source": [
    "#do 999 steps \n",
    "for i in range(999):\n",
    "    step(params, 0.00001, False)\n"
   ]
  },
  {
   "cell_type": "code",
   "execution_count": 58,
   "metadata": {},
   "outputs": [
    {
     "name": "stdout",
     "output_type": "stream",
     "text": [
      "26.018524169921875\n"
     ]
    },
    {
     "data": {
      "text/plain": [
       "tensor([ 1.3592,  0.8444,  0.6792,  0.8636,  1.3975,  2.2810,  3.5141,  5.0967,  7.0289,  9.3107, 11.9420, 14.9229, 18.2534, 21.9334, 25.9630, 30.3422, 35.0709, 40.1492, 45.5771, 51.3545],\n",
       "       grad_fn=<AddBackward0>)"
      ]
     },
     "execution_count": 58,
     "metadata": {},
     "output_type": "execute_result"
    },
    {
     "data": {
      "image/png": "[encoded data removed]",
      "text/plain": [
       "<Figure size 432x288 with 1 Axes>"
      ]
     },
     "metadata": {
      "needs_background": "light"
     },
     "output_type": "display_data"
    }
   ],
   "source": [
    "step(params, 0.00001, True)"
   ]
  },
  {
   "cell_type": "markdown",
   "metadata": {},
   "source": [
    "# MNIST Loss "
   ]
  },
  {
   "cell_type": "code",
   "execution_count": 59,
   "metadata": {},
   "outputs": [],
   "source": [
    "#stacking train data\n",
    "train_x = torch.cat([stacked_threes, stacked_sevens]).view(-1, 28*28)"
   ]
  },
  {
   "cell_type": "code",
   "execution_count": 60,
   "metadata": {},
   "outputs": [
    {
     "data": {
      "text/plain": [
       "(torch.Size([12396, 784]), torch.Size([12396, 1]))"
      ]
     },
     "execution_count": 60,
     "metadata": {},
     "output_type": "execute_result"
    }
   ],
   "source": [
    "#assign labels \n",
    "train_y = tensor([1]*len(threes) + [0]*len(sevens)).unsqueeze(1)\n",
    "train_x.shape,train_y.shape"
   ]
  },
  {
   "cell_type": "code",
   "execution_count": null,
   "metadata": {},
   "outputs": [],
   "source": []
  },
  {
   "cell_type": "markdown",
   "metadata": {},
   "source": [
    "# Creating dataset in pytorch \n",
    "\n",
    "!! It must return a tuple x, y when indexed, a simple way to create this under "
   ]
  },
  {
   "cell_type": "code",
   "execution_count": 61,
   "metadata": {},
   "outputs": [
    {
     "data": {
      "text/plain": [
       "(torch.Size([784]), tensor([1]))"
      ]
     },
     "execution_count": 61,
     "metadata": {},
     "output_type": "execute_result"
    }
   ],
   "source": [
    "dset = list(zip(train_x, train_y))\n",
    "x, y = dset[0]\n",
    "x.shape, y"
   ]
  },
  {
   "cell_type": "code",
   "execution_count": 62,
   "metadata": {},
   "outputs": [],
   "source": [
    "#valid set\n",
    "valid_x = torch.cat([valid_3_tens, valid_7_tens]).view(-1, 28*28)\n",
    "valid_y = tensor([1]*len(valid_3_tens) + [0]*len(valid_7_tens)).unsqueeze(1)\n",
    "valid_dset = list(zip(valid_x,valid_y))"
   ]
  },
  {
   "cell_type": "code",
   "execution_count": 63,
   "metadata": {},
   "outputs": [],
   "source": [
    "def init_params(size, std=1.0): return (torch.randn(size)*std).requires_grad_()"
   ]
  },
  {
   "cell_type": "markdown",
   "metadata": {},
   "source": [
    "# The function will assign a weight to each pixel, which is a parameter ! \n"
   ]
  },
  {
   "cell_type": "code",
   "execution_count": 64,
   "metadata": {},
   "outputs": [],
   "source": [
    "weights = init_params((28*28,1))"
   ]
  },
  {
   "cell_type": "code",
   "execution_count": 65,
   "metadata": {},
   "outputs": [],
   "source": [
    "#adding a bias \n",
    "bias = init_params(1)"
   ]
  },
  {
   "cell_type": "code",
   "execution_count": 66,
   "metadata": {},
   "outputs": [
    {
     "data": {
      "text/plain": [
       "tensor([20.2336], grad_fn=<AddBackward0>)"
      ]
     },
     "execution_count": 66,
     "metadata": {},
     "output_type": "execute_result"
    }
   ],
   "source": [
    "(train_x[0]*weights.T).sum() + bias #example prediction"
   ]
  },
  {
   "cell_type": "code",
   "execution_count": 67,
   "metadata": {},
   "outputs": [
    {
     "data": {
      "text/plain": [
       "tensor([[20.2336],\n",
       "        [17.0644],\n",
       "        [15.2384],\n",
       "        ...,\n",
       "        [18.3804],\n",
       "        [23.8567],\n",
       "        [28.6816]], grad_fn=<AddBackward0>)"
      ]
     },
     "execution_count": 67,
     "metadata": {},
     "output_type": "execute_result"
    }
   ],
   "source": [
    "#To get predictions for every image in one operation, use matrix multiplication \n",
    "def linear1(xb): return xb@weights + bias\n",
    "preds = linear1(train_x)\n",
    "preds"
   ]
  },
  {
   "cell_type": "code",
   "execution_count": 68,
   "metadata": {},
   "outputs": [
    {
     "data": {
      "text/plain": [
       "0.49080348014831543"
      ]
     },
     "execution_count": 68,
     "metadata": {},
     "output_type": "execute_result"
    }
   ],
   "source": [
    "#Get result\n",
    "corrects = (preds>0.5).float() == train_y\n",
    "corrects.float().mean().item()"
   ]
  },
  {
   "cell_type": "markdown",
   "metadata": {},
   "source": [
    "# To use SGD here, we need a loss function. However accuracy can't be used because it won't be possible to get the gradients. \n",
    "\n",
    "The loss function receives the predictions from the model, not the image itself. (activation function !)"
   ]
  },
  {
   "cell_type": "code",
   "execution_count": 69,
   "metadata": {},
   "outputs": [
    {
     "data": {
      "image/png": "[encoded data removed]",
      "text/plain": [
       "<Figure size 432x288 with 1 Axes>"
      ]
     },
     "metadata": {
      "needs_background": "light"
     },
     "output_type": "display_data"
    }
   ],
   "source": [
    "#Sigmoid activation function\n",
    "def sigmoid(x): return 1/(1+torch.exp(-x))\n",
    "plot_function(torch.sigmoid, title='Sigmoid', min=-4, max=4)"
   ]
  },
  {
   "cell_type": "code",
   "execution_count": 70,
   "metadata": {},
   "outputs": [],
   "source": [
    "def mnist_loss(predictions, targets): #loss for mnist using sigmoid\n",
    "    predictions = predictions.sigmoid()\n",
    "    return torch.where(targets==1, 1-predictions, predictions).mean()"
   ]
  },
  {
   "cell_type": "markdown",
   "metadata": {},
   "source": [
    "# Getting good convergence \n",
    "In order to have a good convervenge, we want to calculate the loss for some items. If we only take one it's not very good but if we take the average of all items it might be unstable. \n",
    "\n",
    "-> mini batch"
   ]
  },
  {
   "cell_type": "code",
   "execution_count": 71,
   "metadata": {},
   "outputs": [
    {
     "data": {
      "text/plain": [
       "[tensor([ 3, 12,  8, 10,  2]),\n",
       " tensor([ 9,  4,  7, 14,  5]),\n",
       " tensor([ 1, 13,  0,  6, 11])]"
      ]
     },
     "execution_count": 71,
     "metadata": {},
     "output_type": "execute_result"
    }
   ],
   "source": [
    "coll = range(15)\n",
    "dl = DataLoader(coll, batch_size=5, shuffle = True)\n",
    "list(dl)"
   ]
  },
  {
   "cell_type": "code",
   "execution_count": 72,
   "metadata": {},
   "outputs": [
    {
     "data": {
      "text/plain": [
       "(#26) [(0, 'a'),(1, 'b'),(2, 'c'),(3, 'd'),(4, 'e'),(5, 'f'),(6, 'g'),(7, 'h'),(8, 'i'),(9, 'j')...]"
      ]
     },
     "execution_count": 72,
     "metadata": {},
     "output_type": "execute_result"
    }
   ],
   "source": [
    "#How to use a pytorch dataset to convert it into a dataloader\n",
    "ds = L(enumerate(string.ascii_lowercase))\n",
    "ds"
   ]
  },
  {
   "cell_type": "code",
   "execution_count": 73,
   "metadata": {},
   "outputs": [
    {
     "data": {
      "text/plain": [
       "[(tensor([17, 18, 10, 22,  8]), ('r', 's', 'k', 'w', 'i')),\n",
       " (tensor([14, 20, 15,  9, 13]), ('o', 'u', 'p', 'j', 'n')),\n",
       " (tensor([21, 12,  7, 25,  6]), ('v', 'm', 'h', 'z', 'g')),\n",
       " (tensor([ 5, 11, 23,  1,  3]), ('f', 'l', 'x', 'b', 'd')),\n",
       " (tensor([ 0, 24, 19, 16,  2]), ('a', 'y', 't', 'q', 'c')),\n",
       " (tensor([4]), ('e',))]"
      ]
     },
     "execution_count": 73,
     "metadata": {},
     "output_type": "execute_result"
    }
   ],
   "source": [
    "dl = DataLoader(ds, batch_size=5, shuffle = True)\n",
    "list(dl)"
   ]
  },
  {
   "cell_type": "markdown",
   "metadata": {},
   "source": [
    "# Now doing a training loop over the dataset for SGD !"
   ]
  },
  {
   "cell_type": "code",
   "execution_count": 74,
   "metadata": {},
   "outputs": [],
   "source": [
    "def mnist_loss(predictions, targets):\n",
    "    predictions = predictions.sigmoid()\n",
    "    return torch.where(targets==1, 1-predictions, predictions).mean()"
   ]
  },
  {
   "cell_type": "code",
   "execution_count": 75,
   "metadata": {},
   "outputs": [
    {
     "data": {
      "text/plain": [
       "(torch.Size([256, 784]), torch.Size([256, 1]))"
      ]
     },
     "execution_count": 75,
     "metadata": {},
     "output_type": "execute_result"
    }
   ],
   "source": [
    "weights = init_params(28*28, 1)\n",
    "bias = init_params(1)\n",
    "dl = DataLoader(dset, batch_size = 256)\n",
    "xb, yb = first(dl)\n",
    "yb = yb.float()\n",
    "xb.shape, yb.shape\n",
    "#init params and load first batch"
   ]
  },
  {
   "cell_type": "code",
   "execution_count": 76,
   "metadata": {},
   "outputs": [],
   "source": [
    "valid_dl = DataLoader(valid_dset, batch_size=256)"
   ]
  },
  {
   "cell_type": "code",
   "execution_count": 77,
   "metadata": {},
   "outputs": [
    {
     "data": {
      "text/plain": [
       "tensor(0.7419, grad_fn=<MeanBackward0>)"
      ]
     },
     "execution_count": 77,
     "metadata": {},
     "output_type": "execute_result"
    }
   ],
   "source": [
    "batch = train_x[:4]\n",
    "preds = linear1(batch)\n",
    "loss = mnist_loss(preds, train_y[:4])\n",
    "loss"
   ]
  },
  {
   "cell_type": "code",
   "execution_count": 78,
   "metadata": {},
   "outputs": [
    {
     "data": {
      "text/plain": [
       "(tensor([[0., 0., 0.,  ..., 0., 0., 0.],\n",
       "         [0., 0., 0.,  ..., 0., 0., 0.],\n",
       "         [0., 0., 0.,  ..., 0., 0., 0.],\n",
       "         [0., 0., 0.,  ..., 0., 0., 0.]]),\n",
       " tensor([-2.1876, -8.3973,  2.5000, -4.9473], grad_fn=<AddBackward0>),\n",
       " tensor([1.0087e-01, 2.2543e-04, 9.2414e-01, 7.0524e-03], grad_fn=<SigmoidBackward>),\n",
       " tensor([[1],\n",
       "         [1],\n",
       "         [1],\n",
       "         [1]]))"
      ]
     },
     "execution_count": 78,
     "metadata": {},
     "output_type": "execute_result"
    }
   ],
   "source": [
    "batch, preds,preds.sigmoid(), train_y[:4]"
   ]
  },
  {
   "cell_type": "code",
   "execution_count": 79,
   "metadata": {},
   "outputs": [
    {
     "data": {
      "text/plain": [
       "(torch.Size([784]), tensor(-0.0061), tensor([-0.0420]))"
      ]
     },
     "execution_count": 79,
     "metadata": {},
     "output_type": "execute_result"
    }
   ],
   "source": [
    "loss.backward()\n",
    "weights.grad.shape, weights.grad.mean(), bias.grad"
   ]
  },
  {
   "cell_type": "code",
   "execution_count": 80,
   "metadata": {},
   "outputs": [],
   "source": [
    "#create a function to get the gradiens \n",
    "def grad(a, b, model):\n",
    "    preds = model(a) #a is train data, b is label\n",
    "    loss = mnist_loss(preds, b)\n",
    "    loss.backward()"
   ]
  },
  {
   "cell_type": "markdown",
   "metadata": {},
   "source": [
    "# !! If we call backward() multiple times, instead of calculating gradient again it will ADD the new gradient to old one. We therefore need to reset it."
   ]
  },
  {
   "cell_type": "code",
   "execution_count": 81,
   "metadata": {},
   "outputs": [
    {
     "data": {
      "text/plain": [
       "(tensor(-0.0061), tensor([-0.0420]))"
      ]
     },
     "execution_count": 81,
     "metadata": {},
     "output_type": "execute_result"
    }
   ],
   "source": [
    "weights.grad.zero_()\n",
    "bias.grad.zero_()\n",
    "grad(batch, train_y[:4], linear1)\n",
    "weights.grad.mean(), bias.grad"
   ]
  },
  {
   "cell_type": "markdown",
   "metadata": {},
   "source": [
    "# Clean MNIST optimisation with SGD"
   ]
  },
  {
   "cell_type": "code",
   "execution_count": 82,
   "metadata": {},
   "outputs": [],
   "source": [
    "def mnist_loss(predictions, targets):\n",
    "    predictions = predictions.sigmoid()\n",
    "    return torch.where(targets==1, 1-predictions, predictions).mean()\n",
    "\n",
    "#create a function to get the gradiens \n",
    "def grad(xb, yb, model):\n",
    "    preds = model(xb) #a is train data, b is label\n",
    "    loss = mnist_loss(preds, yb)\n",
    "    loss.backward()\n",
    "    \n",
    "def init_params(size, std=1.0): return (torch.randn(size)*std).requires_grad_()\n",
    "\n",
    "    \n",
    "###################################################\n",
    "#training step \n",
    "def train_epoch(model, lr, params):\n",
    "    for xb, yb in dl:\n",
    "        grad(xb, yb, model)\n",
    "        for p in params:\n",
    "            p.data -= p.grad*lr\n",
    "            p.grad.zero_()\n",
    "            \n",
    "def validate_epoch(model):\n",
    "    accs = [batch_accuracy(model(xb), yb) for xb,yb in valid_dl]\n",
    "    return round(torch.stack(accs).mean().item(), 4)\n",
    "\n",
    "##################################################          \n",
    "#accuracy\n",
    "def batch_accuracy(xb, yb):\n",
    "    preds = xb.sigmoid()\n",
    "    correct = (preds>0.5) == yb\n",
    "    return correct.float().mean()\n",
    "            "
   ]
  },
  {
   "cell_type": "code",
   "execution_count": 83,
   "metadata": {},
   "outputs": [],
   "source": [
    "dset = list(zip(train_x, train_y))\n",
    "dl = DataLoader(dset, batch_size=256)"
   ]
  },
  {
   "cell_type": "code",
   "execution_count": 84,
   "metadata": {},
   "outputs": [
    {
     "name": "stdout",
     "output_type": "stream",
     "text": [
      "0.4268 0.4347 0.4444 0.4525 0.4579 0.4634 0.4686 0.4725 0.4782 0.4835 0.4883 0.4941 0.5004 0.5042 0.5091 0.5115 0.5154 0.5193 0.5248 0.5301 0.5364 0.5438 0.5474 0.551 0.5594 0.5708 0.5809 0.5937 0.6062 0.62 0.634 0.6519 0.6683 0.6831 0.6999 0.7119 0.7283 0.7399 0.7504 0.7642 0.7736 0.7824 0.7878 0.7957 0.803 0.8054 0.8132 0.8185 0.8225 0.8268 0.8332 0.8361 0.8395 0.8424 0.8454 0.8502 0.8521 0.855 0.8569 0.8578 0.8612 0.8651 0.867 0.868 0.8714 0.8734 0.8753 0.8772 0.8787 0.8796 0.8811 0.8835 0.8835 0.884 0.8854 0.8883 0.8898 0.8912 0.8922 0.8931 0.894 0.8949 0.8949 0.8954 0.8964 0.8978 0.8978 0.8983 0.8997 0.9001 0.9005 0.9015 0.9025 0.9035 0.9035 0.905 0.9059 0.9059 0.9059 0.9074 0.9089 0.9089 0.9099 0.9109 0.9109 0.9113 0.9113 0.9113 0.9113 0.9118 0.9123 0.9123 0.9128 0.9128 0.9143 0.9147 0.9152 0.9166 0.9166 0.9166 0.9166 0.9171 0.9176 0.9176 0.9181 0.9186 0.9191 0.9191 0.9186 0.9186 0.9186 0.9186 0.9191 0.9191 0.9195 0.92 0.9205 0.9205 0.9205 0.9205 0.9205 0.9205 0.9205 0.9205 0.9205 0.9209 0.9209 0.9214 0.9214 0.9214 0.9214 0.9219 0.9224 0.9228 0.9228 0.9228 0.9228 0.9238 0.9248 0.9257 0.9257 0.9257 0.9257 0.9262 0.9267 0.9272 0.9272 0.9272 0.9272 0.9272 0.9272 0.9272 0.9272 0.9272 0.9281 0.9291 0.9291 0.9291 0.9291 0.9291 0.9309 0.9304 0.9309 0.9319 0.9324 0.9324 0.9329 0.9329 0.9329 0.9329 0.9329 0.9333 0.9338 0.9338 0.9338 0.9343 0.9343 0.9343 0.9348 0.9348 0.9348 0.9348 0.9348 0.9348 0.9348 0.9348 0.9353 0.9353 0.9353 0.9353 0.9357 0.9357 0.9357 0.9357 0.9357 0.9357 0.9357 0.9357 0.9357 0.9357 0.9357 0.9362 0.9362 0.9362 0.9362 0.9362 0.9362 0.9362 0.9362 0.9362 0.9362 0.9362 0.9362 0.9362 0.9362 0.9362 0.9367 0.9367 0.9367 0.9367 0.9367 0.9371 0.9376 0.9376 0.9376 0.9376 0.9376 0.9381 0.9381 0.9381 "
     ]
    }
   ],
   "source": [
    "#train epoch will calculate gradients and modify it for each batch in the dataset\n",
    "alpha = 0.01\n",
    "weights = torch.randn(28*28).float().requires_grad_()\n",
    "bias = torch.randn(1).float().requires_grad_()\n",
    "params = weights, bias\n",
    "# epochs\n",
    "for i in range(250):\n",
    "    train_epoch(linear1, alpha, params)\n",
    "    print(validate_epoch(linear1), end = ' ')"
   ]
  },
  {
   "cell_type": "markdown",
   "metadata": {},
   "source": [
    "# Creating an optimizer using pytorch functions"
   ]
  },
  {
   "cell_type": "code",
   "execution_count": 85,
   "metadata": {},
   "outputs": [
    {
     "data": {
      "text/plain": [
       "(torch.Size([1, 784]), torch.Size([1]))"
      ]
     },
     "execution_count": 85,
     "metadata": {},
     "output_type": "execute_result"
    }
   ],
   "source": [
    "#change linear1 by pytorch lienar function \n",
    "linear_model = nn.Linear(28*28, 1)\n",
    "w, b = linear_model.parameters()\n",
    "w.shape, b.shape"
   ]
  },
  {
   "cell_type": "code",
   "execution_count": 86,
   "metadata": {},
   "outputs": [],
   "source": [
    "class BasicOptim:\n",
    "    def __init__(self,params,lr): self.params,self.lr = list(params),lr\n",
    "\n",
    "    def step(self, *args, **kwargs):\n",
    "        for p in self.params: p.data -= p.grad.data * self.lr\n",
    "\n",
    "    def zero_grad(self, *args, **kwargs):\n",
    "        for p in self.params: p.grad = None\n",
    "            "
   ]
  },
  {
   "cell_type": "code",
   "execution_count": 87,
   "metadata": {},
   "outputs": [],
   "source": [
    "opt = BasicOptim(linear_model.parameters(), 0.01)"
   ]
  },
  {
   "cell_type": "code",
   "execution_count": 88,
   "metadata": {},
   "outputs": [],
   "source": [
    "def train_epoch(model):\n",
    "    for xb,yb in dl:\n",
    "        grad(xb, yb, model)\n",
    "        opt.step()\n",
    "        opt.zero_grad()"
   ]
  },
  {
   "cell_type": "code",
   "execution_count": 89,
   "metadata": {},
   "outputs": [],
   "source": [
    "def train_model(model, epochs):\n",
    "    for i in range(epochs):\n",
    "        train_epoch(model)\n",
    "        print(validate_epoch(model), end=' ')"
   ]
  },
  {
   "cell_type": "code",
   "execution_count": 92,
   "metadata": {},
   "outputs": [
    {
     "name": "stdout",
     "output_type": "stream",
     "text": [
      "0.9725 0.9725 0.9725 0.9725 0.9725 0.9725 0.9725 0.9725 0.9725 0.9725 0.9725 0.9725 0.9725 0.9725 0.9725 0.9725 0.9725 0.9725 0.9725 0.9729 0.9729 0.9729 0.9729 0.9729 0.9729 0.9729 0.9729 0.9729 0.9734 0.9734 0.9734 0.9734 0.9734 0.9734 0.9734 0.9734 0.9734 0.9734 0.9734 0.9734 0.9734 0.9734 0.9734 0.9734 0.9734 0.9734 0.9734 0.9734 0.9734 0.9734 0.9734 0.9734 0.9739 0.9739 0.9739 0.9739 0.9739 0.9739 0.9739 0.9739 0.9739 0.9744 0.9744 0.9744 0.9744 0.9744 0.9744 0.9744 0.9744 0.9744 0.9744 0.9744 0.9744 0.9744 0.9744 0.9744 0.9744 0.9744 0.9744 0.9744 0.9744 0.9744 0.9744 0.9744 0.9749 0.9749 0.9749 0.9749 0.9749 0.9749 0.9749 0.9749 0.9749 0.9749 0.9749 0.9749 0.9749 0.9749 0.9749 0.9749 0.9749 0.9749 0.9749 0.9749 0.9749 0.9749 0.9754 0.9754 0.9754 0.9754 0.9754 0.9754 0.9754 0.9754 0.9754 0.9754 0.9754 0.9754 0.9754 0.9754 0.9754 0.9754 0.9754 0.9754 0.9754 0.9754 0.9754 0.9754 0.9754 0.9754 0.9754 0.9754 0.9754 0.9754 0.9754 0.9754 0.9754 0.9754 0.9754 0.9754 0.9754 0.9754 0.9754 0.9754 0.9754 0.9754 0.9754 0.9754 0.9754 0.9754 0.9754 0.9754 0.9754 0.9754 0.9754 0.9754 0.9754 0.9754 0.9754 0.9754 0.9754 0.9754 0.9754 0.9754 0.9754 0.9754 0.9754 0.9759 0.9759 0.9759 0.9759 0.9759 0.9759 0.9759 0.9759 0.9759 0.9759 0.9759 0.9759 0.9759 0.9759 0.9759 0.9759 0.9759 0.9759 0.9759 0.9759 0.9759 0.9759 0.9759 0.9759 0.9759 0.9759 0.9759 0.9759 0.9759 0.9759 0.9759 0.9759 0.9759 0.9759 0.9759 0.9759 0.9759 0.9764 0.9764 0.9764 0.9764 0.9764 0.9764 0.9764 0.9764 0.9764 0.9764 0.9764 0.9764 0.9769 0.9769 0.9769 0.9769 0.9769 0.9769 0.9769 0.9774 0.9774 0.9774 0.9774 0.9769 0.9769 0.9769 0.9769 0.9769 0.9769 0.9769 0.9769 0.9769 0.9769 0.9769 0.9769 0.9769 0.9769 0.9769 0.9769 0.9769 0.9769 0.9774 0.9774 0.9774 0.9774 0.9774 "
     ]
    }
   ],
   "source": [
    "train_model(linear_model, 250)"
   ]
  },
  {
   "cell_type": "markdown",
   "metadata": {},
   "source": [
    "instead of using train_model, pytorch provides a .fit() function"
   ]
  },
  {
   "cell_type": "code",
   "execution_count": 93,
   "metadata": {},
   "outputs": [],
   "source": [
    "linear_model = nn.Linear(28*28,1)\n",
    "\n",
    "dls = DataLoaders(dl, valid_dl)\n",
    "learn = Learner(dls, linear_model, opt_func=SGD, loss_func = mnist_loss, metrics = batch_accuracy)"
   ]
  },
  {
   "cell_type": "code",
   "execution_count": 94,
   "metadata": {},
   "outputs": [
    {
     "data": {
      "text/html": [
       "<table border=\"1\" class=\"dataframe\">\n",
       "  <thead>\n",
       "    <tr style=\"text-align: left;\">\n",
       "      <th>epoch</th>\n",
       "      <th>train_loss</th>\n",
       "      <th>valid_loss</th>\n",
       "      <th>batch_accuracy</th>\n",
       "      <th>time</th>\n",
       "    </tr>\n",
       "  </thead>\n",
       "  <tbody>\n",
       "    <tr>\n",
       "      <td>0</td>\n",
       "      <td>0.198346</td>\n",
       "      <td>0.367465</td>\n",
       "      <td>0.551521</td>\n",
       "      <td>00:00</td>\n",
       "    </tr>\n",
       "    <tr>\n",
       "      <td>1</td>\n",
       "      <td>0.116209</td>\n",
       "      <td>0.181345</td>\n",
       "      <td>0.876840</td>\n",
       "      <td>00:00</td>\n",
       "    </tr>\n",
       "    <tr>\n",
       "      <td>2</td>\n",
       "      <td>0.081899</td>\n",
       "      <td>0.108374</td>\n",
       "      <td>0.934249</td>\n",
       "      <td>00:00</td>\n",
       "    </tr>\n",
       "    <tr>\n",
       "      <td>3</td>\n",
       "      <td>0.065027</td>\n",
       "      <td>0.081284</td>\n",
       "      <td>0.949460</td>\n",
       "      <td>00:00</td>\n",
       "    </tr>\n",
       "    <tr>\n",
       "      <td>4</td>\n",
       "      <td>0.055696</td>\n",
       "      <td>0.067870</td>\n",
       "      <td>0.962218</td>\n",
       "      <td>00:00</td>\n",
       "    </tr>\n",
       "    <tr>\n",
       "      <td>5</td>\n",
       "      <td>0.049959</td>\n",
       "      <td>0.059925</td>\n",
       "      <td>0.963199</td>\n",
       "      <td>00:00</td>\n",
       "    </tr>\n",
       "    <tr>\n",
       "      <td>6</td>\n",
       "      <td>0.046079</td>\n",
       "      <td>0.054659</td>\n",
       "      <td>0.964671</td>\n",
       "      <td>00:00</td>\n",
       "    </tr>\n",
       "    <tr>\n",
       "      <td>7</td>\n",
       "      <td>0.043238</td>\n",
       "      <td>0.050895</td>\n",
       "      <td>0.965653</td>\n",
       "      <td>00:00</td>\n",
       "    </tr>\n",
       "    <tr>\n",
       "      <td>8</td>\n",
       "      <td>0.041030</td>\n",
       "      <td>0.048057</td>\n",
       "      <td>0.968106</td>\n",
       "      <td>00:00</td>\n",
       "    </tr>\n",
       "    <tr>\n",
       "      <td>9</td>\n",
       "      <td>0.039238</td>\n",
       "      <td>0.045827</td>\n",
       "      <td>0.969087</td>\n",
       "      <td>00:00</td>\n",
       "    </tr>\n",
       "  </tbody>\n",
       "</table>"
      ],
      "text/plain": [
       "<IPython.core.display.HTML object>"
      ]
     },
     "metadata": {},
     "output_type": "display_data"
    }
   ],
   "source": [
    "learn.fit(10, lr=0.1)"
   ]
  },
  {
   "cell_type": "markdown",
   "metadata": {},
   "source": [
    "# Adding non-linearity in the parameter function "
   ]
  },
  {
   "cell_type": "code",
   "execution_count": 95,
   "metadata": {},
   "outputs": [],
   "source": [
    "#To add it we add a layer.\n",
    "def simple_net(xb): \n",
    "    res = xb@w1 + b1\n",
    "    res = res.max(tensor(0.0))\n",
    "    res = res@w2 + b2\n",
    "    return res\n",
    "\n",
    "w1 = init_params((28*28,30))\n",
    "b1 = init_params(30)\n",
    "w2 = init_params((30,1))\n",
    "b2 = init_params(1)"
   ]
  },
  {
   "cell_type": "code",
   "execution_count": 96,
   "metadata": {},
   "outputs": [
    {
     "data": {
      "text/html": [
       "<table border=\"1\" class=\"dataframe\">\n",
       "  <thead>\n",
       "    <tr style=\"text-align: left;\">\n",
       "      <th>epoch</th>\n",
       "      <th>train_loss</th>\n",
       "      <th>valid_loss</th>\n",
       "      <th>batch_accuracy</th>\n",
       "      <th>time</th>\n",
       "    </tr>\n",
       "  </thead>\n",
       "  <tbody>\n",
       "    <tr>\n",
       "      <td>0</td>\n",
       "      <td>0.370803</td>\n",
       "      <td>0.396231</td>\n",
       "      <td>0.509323</td>\n",
       "      <td>00:00</td>\n",
       "    </tr>\n",
       "    <tr>\n",
       "      <td>1</td>\n",
       "      <td>0.166903</td>\n",
       "      <td>0.250319</td>\n",
       "      <td>0.783611</td>\n",
       "      <td>00:00</td>\n",
       "    </tr>\n",
       "    <tr>\n",
       "      <td>2</td>\n",
       "      <td>0.089420</td>\n",
       "      <td>0.121414</td>\n",
       "      <td>0.911678</td>\n",
       "      <td>00:00</td>\n",
       "    </tr>\n",
       "    <tr>\n",
       "      <td>3</td>\n",
       "      <td>0.056838</td>\n",
       "      <td>0.080236</td>\n",
       "      <td>0.939647</td>\n",
       "      <td>00:00</td>\n",
       "    </tr>\n",
       "    <tr>\n",
       "      <td>4</td>\n",
       "      <td>0.042081</td>\n",
       "      <td>0.062124</td>\n",
       "      <td>0.953386</td>\n",
       "      <td>00:00</td>\n",
       "    </tr>\n",
       "    <tr>\n",
       "      <td>5</td>\n",
       "      <td>0.034737</td>\n",
       "      <td>0.052114</td>\n",
       "      <td>0.962709</td>\n",
       "      <td>00:00</td>\n",
       "    </tr>\n",
       "    <tr>\n",
       "      <td>6</td>\n",
       "      <td>0.030620</td>\n",
       "      <td>0.045856</td>\n",
       "      <td>0.965653</td>\n",
       "      <td>00:00</td>\n",
       "    </tr>\n",
       "    <tr>\n",
       "      <td>7</td>\n",
       "      <td>0.027999</td>\n",
       "      <td>0.041598</td>\n",
       "      <td>0.967125</td>\n",
       "      <td>00:00</td>\n",
       "    </tr>\n",
       "    <tr>\n",
       "      <td>8</td>\n",
       "      <td>0.026138</td>\n",
       "      <td>0.038514</td>\n",
       "      <td>0.967615</td>\n",
       "      <td>00:00</td>\n",
       "    </tr>\n",
       "    <tr>\n",
       "      <td>9</td>\n",
       "      <td>0.024709</td>\n",
       "      <td>0.036177</td>\n",
       "      <td>0.968597</td>\n",
       "      <td>00:00</td>\n",
       "    </tr>\n",
       "    <tr>\n",
       "      <td>10</td>\n",
       "      <td>0.023559</td>\n",
       "      <td>0.034330</td>\n",
       "      <td>0.971050</td>\n",
       "      <td>00:00</td>\n",
       "    </tr>\n",
       "    <tr>\n",
       "      <td>11</td>\n",
       "      <td>0.022601</td>\n",
       "      <td>0.032828</td>\n",
       "      <td>0.972031</td>\n",
       "      <td>00:00</td>\n",
       "    </tr>\n",
       "    <tr>\n",
       "      <td>12</td>\n",
       "      <td>0.021786</td>\n",
       "      <td>0.031567</td>\n",
       "      <td>0.973503</td>\n",
       "      <td>00:00</td>\n",
       "    </tr>\n",
       "    <tr>\n",
       "      <td>13</td>\n",
       "      <td>0.021082</td>\n",
       "      <td>0.030487</td>\n",
       "      <td>0.974975</td>\n",
       "      <td>00:00</td>\n",
       "    </tr>\n",
       "    <tr>\n",
       "      <td>14</td>\n",
       "      <td>0.020466</td>\n",
       "      <td>0.029546</td>\n",
       "      <td>0.975466</td>\n",
       "      <td>00:00</td>\n",
       "    </tr>\n",
       "    <tr>\n",
       "      <td>15</td>\n",
       "      <td>0.019920</td>\n",
       "      <td>0.028715</td>\n",
       "      <td>0.975957</td>\n",
       "      <td>00:00</td>\n",
       "    </tr>\n",
       "    <tr>\n",
       "      <td>16</td>\n",
       "      <td>0.019432</td>\n",
       "      <td>0.027972</td>\n",
       "      <td>0.975957</td>\n",
       "      <td>00:00</td>\n",
       "    </tr>\n",
       "    <tr>\n",
       "      <td>17</td>\n",
       "      <td>0.018993</td>\n",
       "      <td>0.027303</td>\n",
       "      <td>0.976938</td>\n",
       "      <td>00:00</td>\n",
       "    </tr>\n",
       "    <tr>\n",
       "      <td>18</td>\n",
       "      <td>0.018593</td>\n",
       "      <td>0.026697</td>\n",
       "      <td>0.977429</td>\n",
       "      <td>00:00</td>\n",
       "    </tr>\n",
       "    <tr>\n",
       "      <td>19</td>\n",
       "      <td>0.018228</td>\n",
       "      <td>0.026145</td>\n",
       "      <td>0.977920</td>\n",
       "      <td>00:00</td>\n",
       "    </tr>\n",
       "    <tr>\n",
       "      <td>20</td>\n",
       "      <td>0.017891</td>\n",
       "      <td>0.025642</td>\n",
       "      <td>0.977920</td>\n",
       "      <td>00:00</td>\n",
       "    </tr>\n",
       "    <tr>\n",
       "      <td>21</td>\n",
       "      <td>0.017580</td>\n",
       "      <td>0.025179</td>\n",
       "      <td>0.978410</td>\n",
       "      <td>00:00</td>\n",
       "    </tr>\n",
       "    <tr>\n",
       "      <td>22</td>\n",
       "      <td>0.017292</td>\n",
       "      <td>0.024753</td>\n",
       "      <td>0.979392</td>\n",
       "      <td>00:00</td>\n",
       "    </tr>\n",
       "    <tr>\n",
       "      <td>23</td>\n",
       "      <td>0.017022</td>\n",
       "      <td>0.024359</td>\n",
       "      <td>0.979882</td>\n",
       "      <td>00:00</td>\n",
       "    </tr>\n",
       "    <tr>\n",
       "      <td>24</td>\n",
       "      <td>0.016769</td>\n",
       "      <td>0.023995</td>\n",
       "      <td>0.980373</td>\n",
       "      <td>00:00</td>\n",
       "    </tr>\n",
       "    <tr>\n",
       "      <td>25</td>\n",
       "      <td>0.016532</td>\n",
       "      <td>0.023657</td>\n",
       "      <td>0.980864</td>\n",
       "      <td>00:00</td>\n",
       "    </tr>\n",
       "    <tr>\n",
       "      <td>26</td>\n",
       "      <td>0.016309</td>\n",
       "      <td>0.023343</td>\n",
       "      <td>0.980864</td>\n",
       "      <td>00:00</td>\n",
       "    </tr>\n",
       "    <tr>\n",
       "      <td>27</td>\n",
       "      <td>0.016098</td>\n",
       "      <td>0.023050</td>\n",
       "      <td>0.980864</td>\n",
       "      <td>00:00</td>\n",
       "    </tr>\n",
       "    <tr>\n",
       "      <td>28</td>\n",
       "      <td>0.015897</td>\n",
       "      <td>0.022777</td>\n",
       "      <td>0.980864</td>\n",
       "      <td>00:00</td>\n",
       "    </tr>\n",
       "    <tr>\n",
       "      <td>29</td>\n",
       "      <td>0.015707</td>\n",
       "      <td>0.022522</td>\n",
       "      <td>0.981354</td>\n",
       "      <td>00:00</td>\n",
       "    </tr>\n",
       "    <tr>\n",
       "      <td>30</td>\n",
       "      <td>0.015526</td>\n",
       "      <td>0.022283</td>\n",
       "      <td>0.981845</td>\n",
       "      <td>00:00</td>\n",
       "    </tr>\n",
       "    <tr>\n",
       "      <td>31</td>\n",
       "      <td>0.015354</td>\n",
       "      <td>0.022059</td>\n",
       "      <td>0.981845</td>\n",
       "      <td>00:00</td>\n",
       "    </tr>\n",
       "    <tr>\n",
       "      <td>32</td>\n",
       "      <td>0.015190</td>\n",
       "      <td>0.021849</td>\n",
       "      <td>0.982336</td>\n",
       "      <td>00:00</td>\n",
       "    </tr>\n",
       "    <tr>\n",
       "      <td>33</td>\n",
       "      <td>0.015033</td>\n",
       "      <td>0.021651</td>\n",
       "      <td>0.982826</td>\n",
       "      <td>00:00</td>\n",
       "    </tr>\n",
       "    <tr>\n",
       "      <td>34</td>\n",
       "      <td>0.014883</td>\n",
       "      <td>0.021465</td>\n",
       "      <td>0.982826</td>\n",
       "      <td>00:00</td>\n",
       "    </tr>\n",
       "    <tr>\n",
       "      <td>35</td>\n",
       "      <td>0.014739</td>\n",
       "      <td>0.021289</td>\n",
       "      <td>0.983317</td>\n",
       "      <td>00:00</td>\n",
       "    </tr>\n",
       "    <tr>\n",
       "      <td>36</td>\n",
       "      <td>0.014602</td>\n",
       "      <td>0.021123</td>\n",
       "      <td>0.982826</td>\n",
       "      <td>00:00</td>\n",
       "    </tr>\n",
       "    <tr>\n",
       "      <td>37</td>\n",
       "      <td>0.014469</td>\n",
       "      <td>0.020965</td>\n",
       "      <td>0.982826</td>\n",
       "      <td>00:00</td>\n",
       "    </tr>\n",
       "    <tr>\n",
       "      <td>38</td>\n",
       "      <td>0.014342</td>\n",
       "      <td>0.020815</td>\n",
       "      <td>0.982336</td>\n",
       "      <td>00:00</td>\n",
       "    </tr>\n",
       "    <tr>\n",
       "      <td>39</td>\n",
       "      <td>0.014219</td>\n",
       "      <td>0.020673</td>\n",
       "      <td>0.982826</td>\n",
       "      <td>00:00</td>\n",
       "    </tr>\n",
       "  </tbody>\n",
       "</table>"
      ],
      "text/plain": [
       "<IPython.core.display.HTML object>"
      ]
     },
     "metadata": {},
     "output_type": "display_data"
    }
   ],
   "source": [
    "#In pytorch prog, if we add the activation function : \n",
    "simple_net = nn.Sequential(\n",
    "    nn.Linear(28*28,30),\n",
    "    nn.ReLU(),\n",
    "    nn.Linear(30,1)\n",
    ")\n",
    "\n",
    "learn = Learner(dls, simple_net, opt_func=SGD,\n",
    "                loss_func=mnist_loss, metrics=batch_accuracy)\n",
    "\n",
    "#notice we only changed the model in this function \n",
    "learn.fit(40,0.1)"
   ]
  },
  {
   "cell_type": "markdown",
   "metadata": {},
   "source": [
    "We are getting better accuracy now ! "
   ]
  },
  {
   "cell_type": "code",
   "execution_count": 97,
   "metadata": {},
   "outputs": [
    {
     "data": {
      "image/png": "[encoded data removed]",
      "text/plain": [
       "<Figure size 432x288 with 1 Axes>"
      ]
     },
     "metadata": {
      "needs_background": "light"
     },
     "output_type": "display_data"
    }
   ],
   "source": [
    "plt.plot(L(learn.recorder.values).itemgot(2));"
   ]
  },
  {
   "cell_type": "markdown",
   "metadata": {},
   "source": [
    "# Note about number of layers \n",
    "It doesnt matter how many layers we use as long as we put activation functions between each layer... \n",
    "Under is the same approach with 18 layers. "
   ]
  },
  {
   "cell_type": "code",
   "execution_count": 98,
   "metadata": {},
   "outputs": [
    {
     "data": {
      "text/html": [
       "<table border=\"1\" class=\"dataframe\">\n",
       "  <thead>\n",
       "    <tr style=\"text-align: left;\">\n",
       "      <th>epoch</th>\n",
       "      <th>train_loss</th>\n",
       "      <th>valid_loss</th>\n",
       "      <th>accuracy</th>\n",
       "      <th>time</th>\n",
       "    </tr>\n",
       "  </thead>\n",
       "  <tbody>\n",
       "    <tr>\n",
       "      <td>0</td>\n",
       "      <td>0.096229</td>\n",
       "      <td>0.016284</td>\n",
       "      <td>0.996565</td>\n",
       "      <td>00:09</td>\n",
       "    </tr>\n",
       "  </tbody>\n",
       "</table>"
      ],
      "text/plain": [
       "<IPython.core.display.HTML object>"
      ]
     },
     "metadata": {},
     "output_type": "display_data"
    }
   ],
   "source": [
    "dls = ImageDataLoaders.from_folder(path)\n",
    "learn = cnn_learner(dls, resnet18, pretrained=False,\n",
    "                    loss_func=F.cross_entropy, metrics=accuracy)\n",
    "learn.fit_one_cycle(1, 0.1)"
   ]
  },
  {
   "cell_type": "code",
   "execution_count": null,
   "metadata": {},
   "outputs": [],
   "source": []
  }
 ],
 "metadata": {
  "kernelspec": {
   "display_name": "Python 3",
   "language": "python",
   "name": "python3"
  },
  "language_info": {
   "codemirror_mode": {
    "name": "ipython",
    "version": 3
   },
   "file_extension": ".py",
   "mimetype": "text/x-python",
   "name": "python",
   "nbconvert_exporter": "python",
   "pygments_lexer": "ipython3",
   "version": "3.8.5"
  }
 },
 "nbformat": 4,
 "nbformat_minor": 4
}
